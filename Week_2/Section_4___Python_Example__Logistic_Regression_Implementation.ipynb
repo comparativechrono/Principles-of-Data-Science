{
  "cells": [
    {
      "cell_type": "markdown",
      "metadata": {
        "id": "view-in-github",
        "colab_type": "text"
      },
      "source": [
        "<a href=\"https://colab.research.google.com/github/comparativechrono/Principles-of-Data-Science/blob/main/Week_2/Section_4___Python_Example__Logistic_Regression_Implementation.ipynb\" target=\"_parent\"><img src=\"https://colab.research.google.com/assets/colab-badge.svg\" alt=\"Open In Colab\"/></a>"
      ]
    },
    {
      "cell_type": "markdown",
      "source": [
        "#Section 4 - Python example - logistic regression implementation"
      ],
      "metadata": {
        "id": "4iUBVNiE4xVz"
      },
      "id": "4iUBVNiE4xVz"
    },
    {
      "cell_type": "markdown",
      "id": "6a76b295",
      "metadata": {
        "id": "6a76b295"
      },
      "source": [
        "Logistic regression is a widely-used statistical method for binary classification. It predicts the probability of occurrence of an event by fitting data to a logistic curve. This method is particularly useful for scenarios where you need to classify outcomes into two distinct categories. In this example, we'll demonstrate how to implement logistic regression in Python using the scikit-learn library, focusing on a binary classification problem that predicts whether a customer will make a purchase based on their age and income."
      ]
    },
    {
      "cell_type": "markdown",
      "id": "2b7e96f8",
      "metadata": {
        "id": "2b7e96f8"
      },
      "source": [
        "1. Setting Up the Environment:"
      ]
    },
    {
      "cell_type": "markdown",
      "id": "cd324ae0",
      "metadata": {
        "id": "cd324ae0"
      },
      "source": [
        "Ensure that your Python environment is set up with the necessary libraries. If you haven't already installed scikit-learn, you can do so using pip:"
      ]
    },
    {
      "cell_type": "code",
      "execution_count": null,
      "id": "c257e8a2",
      "metadata": {
        "id": "c257e8a2"
      },
      "outputs": [],
      "source": [
        "pip install numpy pandas scikit-learn matplotlib"
      ]
    },
    {
      "cell_type": "markdown",
      "id": "85a4fffe",
      "metadata": {
        "id": "85a4fffe"
      },
      "source": [
        "2. Importing Required Libraries:"
      ]
    },
    {
      "cell_type": "markdown",
      "id": "9ebbb079",
      "metadata": {
        "id": "9ebbb079"
      },
      "source": [
        "Start by importing the necessary libraries. We'll use Pandas for data manipulation, NumPy for numerical operations, Matplotlib for plotting, and several modules from scikit-learn for preparing data and implementing logistic regression."
      ]
    },
    {
      "cell_type": "code",
      "execution_count": null,
      "id": "5999039c",
      "metadata": {
        "id": "5999039c"
      },
      "outputs": [],
      "source": [
        "import numpy as np\n",
        "import pandas as pd\n",
        "import matplotlib.pyplot as plt\n",
        "from sklearn.model_selection import train_test_split\n",
        "from sklearn.linear_model import LogisticRegression\n",
        "from sklearn.metrics import classification_report, confusion_matrix"
      ]
    },
    {
      "cell_type": "markdown",
      "id": "8f3c6208",
      "metadata": {
        "id": "8f3c6208"
      },
      "source": [
        "3. Generating Synthetic Data:"
      ]
    },
    {
      "cell_type": "markdown",
      "id": "89edbd49",
      "metadata": {
        "id": "89edbd49"
      },
      "source": [
        "For this example, we'll create a synthetic dataset where 'Age' and 'Income' predict whether a customer makes a purchase (1) or not (0)."
      ]
    },
    {
      "cell_type": "code",
      "execution_count": null,
      "id": "9ae878f9",
      "metadata": {
        "id": "9ae878f9"
      },
      "outputs": [],
      "source": [
        "# Set the seed for reproducibility\n",
        "np.random.seed(42)\n",
        "\n",
        "# Generate synthetic data\n",
        "data_size = 1000\n",
        "ages = np.random.randint(18, 70, data_size)\n",
        "incomes = np.random.randint(30000, 100000, data_size)\n",
        "purchases = np.random.binomial(1, p=(ages - 18) / (70 - 18), size=data_size)  # Probability based on age\n",
        "\n",
        "# Create a DataFrame\n",
        "df = pd.DataFrame({\n",
        "    'Age': ages,\n",
        "    'Income': incomes,\n",
        "    'Purchase': purchases\n",
        "})\n",
        "\n",
        "# Show the first few entries\n",
        "print(df.head())"
      ]
    },
    {
      "cell_type": "markdown",
      "id": "0d135a79",
      "metadata": {
        "id": "0d135a79"
      },
      "source": [
        "4. Data Visualization:"
      ]
    },
    {
      "cell_type": "markdown",
      "id": "2410406d",
      "metadata": {
        "id": "2410406d"
      },
      "source": [
        "Visualizing the data can provide insights into the relationship between features and the target variable."
      ]
    },
    {
      "cell_type": "code",
      "execution_count": null,
      "id": "e677456d",
      "metadata": {
        "id": "e677456d"
      },
      "outputs": [],
      "source": [
        "plt.scatter(df['Age'], df['Income'], c=df['Purchase'], cmap='winter', alpha=0.5)\n",
        "plt.title('Customer Data (Age vs Income)')\n",
        "plt.xlabel('Age')\n",
        "plt.ylabel('Income')\n",
        "plt.colorbar(label='Purchase')\n",
        "plt.show()"
      ]
    },
    {
      "cell_type": "markdown",
      "id": "90180d17",
      "metadata": {
        "id": "90180d17"
      },
      "source": [
        "5. Preparing Data for Modelling:"
      ]
    },
    {
      "cell_type": "markdown",
      "id": "23917a82",
      "metadata": {
        "id": "23917a82"
      },
      "source": [
        "Before modeling, split the data into features (X) and target (y), and then into training and testing sets."
      ]
    },
    {
      "cell_type": "code",
      "execution_count": null,
      "id": "d1b5579f",
      "metadata": {
        "id": "d1b5579f"
      },
      "outputs": [],
      "source": [
        "# Define features and target\n",
        "X = df[['Age', 'Income']]\n",
        "y = df['Purchase']\n",
        "\n",
        "# Split the data into training and testing sets\n",
        "X_train, X_test, y_train, y_test = train_test_split(X, y, test_size=0.2, random_state=42)"
      ]
    },
    {
      "cell_type": "markdown",
      "id": "98ba7062",
      "metadata": {
        "id": "98ba7062"
      },
      "source": [
        "6. Building and Training the Logistic Regression Model:"
      ]
    },
    {
      "cell_type": "markdown",
      "id": "c3f465e3",
      "metadata": {
        "id": "c3f465e3"
      },
      "source": [
        "Utilize scikit-learn to create and train the logistic regression model."
      ]
    },
    {
      "cell_type": "code",
      "execution_count": null,
      "id": "b725a19e",
      "metadata": {
        "id": "b725a19e"
      },
      "outputs": [],
      "source": [
        "# Create a logistic regression model\n",
        "model = LogisticRegression()\n",
        "\n",
        "# Train the model\n",
        "model.fit(X_train, y_train)"
      ]
    },
    {
      "cell_type": "markdown",
      "id": "0f471e90",
      "metadata": {
        "id": "0f471e90"
      },
      "source": [
        "7. Making Predictions and Evaluating the Model:"
      ]
    },
    {
      "cell_type": "markdown",
      "id": "91d91938",
      "metadata": {
        "id": "91d91938"
      },
      "source": [
        "After training, use the model to make predictions, and then evaluate its performance using a confusion matrix and classification report."
      ]
    },
    {
      "cell_type": "code",
      "execution_count": null,
      "id": "874ec1d1",
      "metadata": {
        "id": "874ec1d1"
      },
      "outputs": [],
      "source": [
        "# Predicting the test set results\n",
        "predictions = model.predict(X_test)\n",
        "\n",
        "# Evaluating the model\n",
        "print(confusion_matrix(y_test, predictions))\n",
        "print(classification_report(y_test, predictions))"
      ]
    },
    {
      "cell_type": "markdown",
      "id": "033245ce",
      "metadata": {
        "id": "033245ce"
      },
      "source": [
        "8. Conclusion:"
      ]
    },
    {
      "cell_type": "markdown",
      "id": "f335c57f",
      "metadata": {
        "id": "f335c57f"
      },
      "source": [
        "This implementation showcases how logistic regression can be applied to a simple binary classification problem in Python. Through this exercise, we've seen how different age and income levels can influence the likelihood of purchases among customers. Logistic regression's output, which is probabilistic, provides a robust framework for classification and offers insights that can inform strategic business decisions."
      ]
    }
  ],
  "metadata": {
    "colab": {
      "provenance": [],
      "include_colab_link": true
    },
    "language_info": {
      "name": "python"
    },
    "kernelspec": {
      "name": "python3",
      "display_name": "Python 3"
    }
  },
  "nbformat": 4,
  "nbformat_minor": 5
}