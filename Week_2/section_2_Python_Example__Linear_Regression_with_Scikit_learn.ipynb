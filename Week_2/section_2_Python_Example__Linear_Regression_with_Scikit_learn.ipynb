{
  "cells": [
    {
      "cell_type": "markdown",
      "metadata": {
        "id": "view-in-github",
        "colab_type": "text"
      },
      "source": [
        "<a href=\"https://colab.research.google.com/github/comparativechrono/Principles-of-Data-Science/blob/main/Week_2/section_2_Python_Example__Linear_Regression_with_Scikit_learn.ipynb\" target=\"_parent\"><img src=\"https://colab.research.google.com/assets/colab-badge.svg\" alt=\"Open In Colab\"/></a>"
      ]
    },
    {
      "cell_type": "markdown",
      "source": [
        "#Section 2 Python example - linear regression with Scikit-learn"
      ],
      "metadata": {
        "id": "npwRZPL82-Kx"
      },
      "id": "npwRZPL82-Kx"
    },
    {
      "cell_type": "markdown",
      "id": "7824a367",
      "metadata": {
        "id": "7824a367"
      },
      "source": [
        "Linear regression is a foundational technique in statistical modeling and data science, used for predicting a quantitative response. It's particularly useful for understanding the relationship between one dependent variable and one or more independent variables. This section provides a practical example of how to implement linear regression using Python’s Scikit-learn library, a powerful tool for machine learning that simplifies the application of various algorithms."
      ]
    },
    {
      "cell_type": "markdown",
      "id": "c42452af",
      "metadata": {
        "id": "c42452af"
      },
      "source": [
        "1. Setting Up the Environment:"
      ]
    },
    {
      "cell_type": "markdown",
      "id": "c052b905",
      "metadata": {
        "id": "c052b905"
      },
      "source": [
        "First, ensure that you have the necessary Python environment and libraries installed. Scikit-learn can be installed via pip if it is not already available in your environment:"
      ]
    },
    {
      "cell_type": "code",
      "execution_count": null,
      "id": "63a29fd0",
      "metadata": {
        "id": "63a29fd0"
      },
      "outputs": [],
      "source": [
        "pip install numpy scipy matplotlib ipython scikit-learn pandas"
      ]
    },
    {
      "cell_type": "markdown",
      "id": "d70cdc49",
      "metadata": {
        "id": "d70cdc49"
      },
      "source": [
        "2. Importing Required Libraries:"
      ]
    },
    {
      "cell_type": "markdown",
      "id": "84f71ae8",
      "metadata": {
        "id": "84f71ae8"
      },
      "source": [
        "Start your Python script by importing the required libraries. You will need pandas for data manipulation, matplotlib for plotting, and scikit-learn for building the regression model."
      ]
    },
    {
      "cell_type": "code",
      "execution_count": null,
      "id": "5538a17d",
      "metadata": {
        "id": "5538a17d"
      },
      "outputs": [],
      "source": [
        "import pandas as pd\n",
        "import matplotlib.pyplot as plt\n",
        "from sklearn.model_selection import train_test_split\n",
        "from sklearn.linear_model import LinearRegression\n",
        "from sklearn.metrics import mean_squared_error, r2_score"
      ]
    },
    {
      "cell_type": "markdown",
      "id": "af734f92",
      "metadata": {
        "id": "af734f92"
      },
      "source": [
        "3. Loading and Preparing the Data:"
      ]
    },
    {
      "cell_type": "markdown",
      "id": "f6ee4f14",
      "metadata": {
        "id": "f6ee4f14"
      },
      "source": [
        "For this example, let's assume you have a dataset housing.csv that contains information on housing prices (HP) along with attributes such as number of rooms per dwelling (RM), number of parking  spaces (PS), property size in square feet (SQFT)."
      ]
    },
    {
      "cell_type": "code",
      "execution_count": null,
      "id": "953805ce",
      "metadata": {
        "id": "953805ce"
      },
      "outputs": [],
      "source": [
        "# Load the dataset\n",
        "data = pd.read_csv('housing.csv')\n",
        "\n",
        "# Selecting only the RM and HP columns for simplicity\n",
        "data = data[['RM', 'HP']]\n",
        "print(data.head())"
      ]
    },
    {
      "cell_type": "markdown",
      "id": "72ea2781",
      "metadata": {
        "id": "72ea2781"
      },
      "source": [
        "4. Visualizing the Data:"
      ]
    },
    {
      "cell_type": "markdown",
      "id": "57e6c930",
      "metadata": {
        "id": "57e6c930"
      },
      "source": [
        "It’s always a good practice to visualize the data to understand the relationship between variables."
      ]
    },
    {
      "cell_type": "code",
      "execution_count": null,
      "id": "9045ed88",
      "metadata": {
        "id": "9045ed88"
      },
      "outputs": [],
      "source": [
        "plt.scatter(data['RM'], data['HP'], alpha=0.5)\n",
        "plt.title('Room Count vs. House Price')\n",
        "plt.xlabel('Average Number of Rooms')\n",
        "plt.ylabel('House Price (in $1000s)')\n",
        "plt.show()"
      ]
    },
    {
      "cell_type": "markdown",
      "id": "99875b68",
      "metadata": {
        "id": "99875b68"
      },
      "source": [
        "5. Creating Training and Test Sets:"
      ]
    },
    {
      "cell_type": "markdown",
      "id": "5d2e15d5",
      "metadata": {
        "id": "5d2e15d5"
      },
      "source": [
        "Divide the data into training and test sets to evaluate the performance of your model on unseen data."
      ]
    },
    {
      "cell_type": "code",
      "execution_count": null,
      "id": "04be3294",
      "metadata": {
        "id": "04be3294"
      },
      "outputs": [],
      "source": [
        "# Define the features and the target\n",
        "X = data[['RM']]  # features\n",
        "y = data['HP']  # target\n",
        "\n",
        "# Splitting the data into training and testing sets\n",
        "X_train, X_test, y_train, y_test = train_test_split(X, y, test_size=0.2, random_state=42)"
      ]
    },
    {
      "cell_type": "markdown",
      "id": "d955abe3",
      "metadata": {
        "id": "d955abe3"
      },
      "source": [
        "6. Building the Linear Regression Model:"
      ]
    },
    {
      "cell_type": "markdown",
      "id": "b38137f0",
      "metadata": {
        "id": "b38137f0"
      },
      "source": [
        "Use scikit-learn to build and train the linear regression model."
      ]
    },
    {
      "cell_type": "code",
      "execution_count": null,
      "id": "159f81b0",
      "metadata": {
        "id": "159f81b0"
      },
      "outputs": [],
      "source": [
        "# Create a linear regression model\n",
        "model = LinearRegression()\n",
        "\n",
        "# Fit the model\n",
        "model.fit(X_train, y_train)\n",
        "\n",
        "# Display the coefficients\n",
        "print(f'Coefficient: {model.coef_[0]}')\n",
        "print(f'Intercept: {model.intercept_}')"
      ]
    },
    {
      "cell_type": "markdown",
      "id": "70916a14",
      "metadata": {
        "id": "70916a14"
      },
      "source": [
        "7. Making Predictions and Evaluating the Model:"
      ]
    },
    {
      "cell_type": "markdown",
      "id": "95ddb127",
      "metadata": {
        "id": "95ddb127"
      },
      "source": [
        "After training the model, use it to make predictions on the test set, and then evaluate the performance."
      ]
    },
    {
      "cell_type": "code",
      "execution_count": null,
      "id": "abb4a90f",
      "metadata": {
        "id": "abb4a90f"
      },
      "outputs": [],
      "source": [
        "# Making predictions\n",
        "y_pred = model.predict(X_test)\n",
        "\n",
        "# Evaluating the model\n",
        "mse = mean_squared_error(y_test, y_pred)\n",
        "r2 = r2_score(y_test, y_pred)\n",
        "\n",
        "print(f'Mean Squared Error: {mse}')\n",
        "print(f'R^2 Score: {r2}')\n",
        "\n",
        "# Plotting predictions against actual values\n",
        "plt.scatter(X_test, y_test, color='black')\n",
        "plt.plot(X_test, y_pred, color='blue', linewidth=3)\n",
        "plt.title('Test vs Prediction')\n",
        "plt.xlabel('Average Number of Rooms')\n",
        "plt.ylabel('House Price (in $1000s)')\n",
        "plt.show()"
      ]
    },
    {
      "cell_type": "markdown",
      "id": "1996f753",
      "metadata": {
        "id": "1996f753"
      },
      "source": [
        "This Python example illustrates the process of performing linear regression with Scikit-learn, from data preparation to model evaluation. The results provide insights into the relationship between the number of rooms and house prices, demonstrating the power of linear regression in predicting outcomes based on linear relationships. Understanding these steps and applying them to different datasets can help you harness the power of linear regression for various predictive modeling tasks."
      ]
    }
  ],
  "metadata": {
    "colab": {
      "provenance": [],
      "include_colab_link": true
    },
    "language_info": {
      "name": "python"
    },
    "kernelspec": {
      "name": "python3",
      "display_name": "Python 3"
    }
  },
  "nbformat": 4,
  "nbformat_minor": 5
}