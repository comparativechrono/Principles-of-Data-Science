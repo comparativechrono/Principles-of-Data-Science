{
  "cells": [
    {
      "cell_type": "markdown",
      "metadata": {
        "id": "view-in-github",
        "colab_type": "text"
      },
      "source": [
        "<a href=\"https://colab.research.google.com/github/comparativechrono/Principles-of-Data-Science/blob/main/Week_2/Section_6_Python_Example__Panel_Data_Analysis_with_Pandas.ipynb\" target=\"_parent\"><img src=\"https://colab.research.google.com/assets/colab-badge.svg\" alt=\"Open In Colab\"/></a>"
      ]
    },
    {
      "cell_type": "markdown",
      "source": [
        "#Section 6 Python example - panel data analysis with pandas"
      ],
      "metadata": {
        "id": "of2gkM8O6orz"
      },
      "id": "of2gkM8O6orz"
    },
    {
      "cell_type": "markdown",
      "id": "3fd5bc7a",
      "metadata": {
        "id": "3fd5bc7a"
      },
      "source": [
        "Panel data analysis provides insights into dynamics that are not observable in purely cross-sectional or time series datasets. This kind of analysis is crucial in various fields such as economics, epidemiology, and social sciences. In this example, we will demonstrate how to handle and analyse panel data using Python, particularly with the Pandas library, a powerful tool for data manipulation and analysis."
      ]
    },
    {
      "cell_type": "markdown",
      "id": "80473bae",
      "metadata": {
        "id": "80473bae"
      },
      "source": [
        "1. Setting Up the Environment:"
      ]
    },
    {
      "cell_type": "markdown",
      "id": "000c1f1c",
      "metadata": {
        "id": "000c1f1c"
      },
      "source": [
        "Ensure that Python and Pandas are installed in your environment. If Pandas is not installed, you can easily install it using pip:"
      ]
    },
    {
      "cell_type": "code",
      "execution_count": null,
      "id": "347d6a9c",
      "metadata": {
        "id": "347d6a9c"
      },
      "outputs": [],
      "source": [
        "pip install pandas"
      ]
    },
    {
      "cell_type": "markdown",
      "id": "18bc14af",
      "metadata": {
        "id": "18bc14af"
      },
      "source": [
        "2. Importing Required Libraries:"
      ]
    },
    {
      "cell_type": "markdown",
      "id": "4941c6d6",
      "metadata": {
        "id": "4941c6d6"
      },
      "source": [
        "Start by importing Pandas. We'll also import Matplotlib for any necessary visualizations:"
      ]
    },
    {
      "cell_type": "code",
      "execution_count": null,
      "id": "4b8de0e8",
      "metadata": {
        "id": "4b8de0e8"
      },
      "outputs": [],
      "source": [
        "import pandas as pd\n",
        "import matplotlib.pyplot as plt"
      ]
    },
    {
      "cell_type": "markdown",
      "id": "8fef5277",
      "metadata": {
        "id": "8fef5277"
      },
      "source": [
        "3. Creating a Synthetic Panel Dataset:"
      ]
    },
    {
      "cell_type": "markdown",
      "id": "5c5f15c6",
      "metadata": {
        "id": "5c5f15c6"
      },
      "source": [
        "For the purpose of this example, let's create a synthetic dataset representing sales data over three years for different stores:"
      ]
    },
    {
      "cell_type": "code",
      "execution_count": null,
      "id": "5af876b9",
      "metadata": {
        "id": "5af876b9"
      },
      "outputs": [],
      "source": [
        "# Generate synthetic data\n",
        "data = {\n",
        "    'Year': ['2019', '2019', '2019', '2020', '2020', '2020', '2021', '2021', '2021'],\n",
        "    'Store': ['Store_1', 'Store_2', 'Store_3', 'Store_1', 'Store_2', 'Store_3', 'Store_1', 'Store_2', 'Store_3'],\n",
        "    'Sales': [200, 150, 300, 250, 180, 320, 300, 190, 350]\n",
        "}\n",
        "\n",
        "# Create a DataFrame\n",
        "df = pd.DataFrame(data)\n",
        "\n",
        "# Convert 'Year' to datetime type\n",
        "df['Year'] = pd.to_datetime(df['Year'])\n",
        "\n",
        "# Display the DataFrame\n",
        "print(df)"
      ]
    },
    {
      "cell_type": "markdown",
      "id": "e2b9ee4d",
      "metadata": {
        "id": "e2b9ee4d"
      },
      "source": [
        "4. Visualizing the Data:"
      ]
    },
    {
      "cell_type": "markdown",
      "id": "ae3eabd1",
      "metadata": {
        "id": "ae3eabd1"
      },
      "source": [
        "It’s beneficial to visualize panel data to understand trends over time across different entities."
      ]
    },
    {
      "cell_type": "code",
      "execution_count": null,
      "id": "713c6903",
      "metadata": {
        "id": "713c6903"
      },
      "outputs": [],
      "source": [
        "# Plot sales over time for each store\n",
        "for label, grp in df.groupby('Store'):\n",
        "    plt.plot(grp['Year'], grp['Sales'], label=label)\n",
        "\n",
        "plt.title('Sales Over Time by Store')\n",
        "plt.xlabel('Year')\n",
        "plt.ylabel('Sales')\n",
        "plt.legend()\n",
        "plt.show()"
      ]
    },
    {
      "cell_type": "markdown",
      "id": "e87e18b1",
      "metadata": {
        "id": "e87e18b1"
      },
      "source": [
        "5. Performing Panel Data Analysis:"
      ]
    },
    {
      "cell_type": "markdown",
      "id": "2b926dfa",
      "metadata": {
        "id": "2b926dfa"
      },
      "source": [
        "For panel data analysis, we can calculate growth rates or changes over time to understand trends:"
      ]
    },
    {
      "cell_type": "code",
      "execution_count": null,
      "id": "68fa3f55",
      "metadata": {
        "id": "68fa3f55"
      },
      "outputs": [],
      "source": [
        "# Calculate year-over-year growth for each store\n",
        "df['Year'] = df['Year'].dt.year  # simplify the year for easier subtraction\n",
        "df.sort_values(by=['Store', 'Year'], inplace=True)\n",
        "\n",
        "# Group by 'Store' and calculate the percentage change year over year\n",
        "df['Sales Growth'] = df.groupby('Store')['Sales'].pct_change() * 100\n",
        "\n",
        "# Fill NaN values that result from no previous year data with zero\n",
        "df['Sales Growth'] = df['Sales Growth'].fillna(0)\n",
        "\n",
        "# Display the modified DataFrame\n",
        "print(df)"
      ]
    },
    {
      "cell_type": "markdown",
      "id": "fc6db518",
      "metadata": {
        "id": "fc6db518"
      },
      "source": [
        "6. Insights and Further Analysis:"
      ]
    },
    {
      "cell_type": "markdown",
      "id": "0894f589",
      "metadata": {
        "id": "0894f589"
      },
      "source": [
        "The growth rates provide clear insights into how sales are evolving for each store. For deeper analysis, one could implement statistical tests to determine if the changes are statistically significant or use advanced time series techniques to forecast future sales. You may want to revisit this dataset towards the end of this course."
      ]
    },
    {
      "cell_type": "markdown",
      "id": "1499c538",
      "metadata": {
        "id": "1499c538"
      },
      "source": [
        "Conclusion:"
      ]
    },
    {
      "cell_type": "markdown",
      "id": "83b2c3dc",
      "metadata": {
        "id": "83b2c3dc"
      },
      "source": [
        "Handling panel data in Python using Pandas is straightforward thanks to the library's robust data manipulation capabilities. By transforming, aggregating, and visualizing panel data effectively, researchers and analysts can uncover significant trends and interactions that inform strategic decisions. Whether for academic research or business analysis, the ability to parse through panel data efficiently is invaluable in deriving actionable insights from complex datasets spanning multiple dimensions."
      ]
    }
  ],
  "metadata": {
    "colab": {
      "provenance": [],
      "include_colab_link": true
    },
    "language_info": {
      "name": "python"
    },
    "kernelspec": {
      "name": "python3",
      "display_name": "Python 3"
    }
  },
  "nbformat": 4,
  "nbformat_minor": 5
}