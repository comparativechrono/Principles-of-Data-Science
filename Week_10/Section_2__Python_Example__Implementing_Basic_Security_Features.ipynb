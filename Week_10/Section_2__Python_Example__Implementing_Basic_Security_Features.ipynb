{
  "cells": [
    {
      "cell_type": "markdown",
      "metadata": {
        "id": "view-in-github",
        "colab_type": "text"
      },
      "source": [
        "<a href=\"https://colab.research.google.com/github/comparativechrono/Principles-of-Data-Science/blob/main/Week_10/Section_2__Python_Example__Implementing_Basic_Security_Features.ipynb\" target=\"_parent\"><img src=\"https://colab.research.google.com/assets/colab-badge.svg\" alt=\"Open In Colab\"/></a>"
      ]
    },
    {
      "cell_type": "markdown",
      "source": [
        "#Section 2: Python example - implementing basic security features\n"
      ],
      "metadata": {
        "id": "LfrIFjEfceiT"
      },
      "id": "LfrIFjEfceiT"
    },
    {
      "cell_type": "markdown",
      "id": "2d6bd322",
      "metadata": {
        "id": "2d6bd322"
      },
      "source": [
        "In data science projects, implementing basic security features is essential to protect data integrity and confidentiality. This section demonstrates how to incorporate fundamental security practices into a Python-based data science environment. We will focus on encrypting and decrypting data, a crucial aspect of data security that ensures sensitive information is shielded from unauthorized access."
      ]
    },
    {
      "cell_type": "markdown",
      "id": "0223522d",
      "metadata": {
        "id": "0223522d"
      },
      "source": [
        "1. Setting Up the Environment:"
      ]
    },
    {
      "cell_type": "markdown",
      "id": "e142fbbb",
      "metadata": {
        "id": "e142fbbb"
      },
      "source": [
        "To handle encryption and decryption in Python, the cryptography package is a robust and easy-to-use option. Install it using pip if it's not already installed in your Python environment:"
      ]
    },
    {
      "cell_type": "code",
      "execution_count": 1,
      "id": "ace1f655",
      "metadata": {
        "colab": {
          "base_uri": "https://localhost:8080/"
        },
        "id": "ace1f655",
        "outputId": "1b9d58e3-f520-41c4-e7c8-451f95e86174"
      },
      "outputs": [
        {
          "output_type": "stream",
          "name": "stdout",
          "text": [
            "Requirement already satisfied: cryptography in /usr/local/lib/python3.10/dist-packages (43.0.3)\n",
            "Requirement already satisfied: cffi>=1.12 in /usr/local/lib/python3.10/dist-packages (from cryptography) (1.17.1)\n",
            "Requirement already satisfied: pycparser in /usr/local/lib/python3.10/dist-packages (from cffi>=1.12->cryptography) (2.22)\n"
          ]
        }
      ],
      "source": [
        "pip install cryptography"
      ]
    },
    {
      "cell_type": "markdown",
      "id": "da09d2aa",
      "metadata": {
        "id": "da09d2aa"
      },
      "source": [
        "2. Importing Required Libraries:"
      ]
    },
    {
      "cell_type": "markdown",
      "id": "dfd7342a",
      "metadata": {
        "id": "dfd7342a"
      },
      "source": [
        "Once installed, import the necessary components from the cryptography library:"
      ]
    },
    {
      "cell_type": "code",
      "execution_count": 2,
      "id": "af376e2d",
      "metadata": {
        "id": "af376e2d"
      },
      "outputs": [],
      "source": [
        "from cryptography.fernet import Fernet"
      ]
    },
    {
      "cell_type": "markdown",
      "id": "78a7d67c",
      "metadata": {
        "id": "78a7d67c"
      },
      "source": [
        "3. Generating a Key:"
      ]
    },
    {
      "cell_type": "markdown",
      "id": "201d8e7e",
      "metadata": {
        "id": "201d8e7e"
      },
      "source": [
        "First, generate a key that will be used for both encryption and decryption. It is crucial to keep this key secure, as anyone with access to it can decrypt the data."
      ]
    },
    {
      "cell_type": "code",
      "execution_count": 3,
      "id": "182eb325",
      "metadata": {
        "id": "182eb325"
      },
      "outputs": [],
      "source": [
        "# Generate a key\n",
        "key = Fernet.generate_key()\n",
        "# Instance the Fernet class with the key\n",
        "cipher_suite = Fernet(key)"
      ]
    },
    {
      "cell_type": "markdown",
      "id": "48948a8e",
      "metadata": {
        "id": "48948a8e"
      },
      "source": [
        "4. Encrypting Data:"
      ]
    },
    {
      "cell_type": "markdown",
      "id": "38a1880b",
      "metadata": {
        "id": "38a1880b"
      },
      "source": [
        "For demonstration, we will encrypt a simple message. In practice, this could be any data that you need to secure, such as personal identifiers, sensitive numeric data, or private configuration details."
      ]
    },
    {
      "cell_type": "code",
      "execution_count": 4,
      "id": "66d758f4",
      "metadata": {
        "colab": {
          "base_uri": "https://localhost:8080/"
        },
        "id": "66d758f4",
        "outputId": "a9a22561-f063-4bca-db0f-affae2631c14"
      },
      "outputs": [
        {
          "output_type": "stream",
          "name": "stdout",
          "text": [
            "Encrypted: b'gAAAAABnRkI6EjqXAQjTarwLazeakYLlO5v6hdByDZvj4zzH_X2sCIKFabKZcYsv1CJNqXCT7bspjrTpvsbr3D742S5Fw_o25DAvpkGxI0Cj0gx3RmXaeio='\n"
          ]
        }
      ],
      "source": [
        "# Define a message\n",
        "text = \"Data Science is awesome!\"\n",
        "byte_text = text.encode('utf-8') # Convert the string to bytes\n",
        "# Encrypt the message\n",
        "cipher_text = cipher_suite.encrypt(byte_text)\n",
        "print(\"Encrypted:\", cipher_text)"
      ]
    },
    {
      "cell_type": "markdown",
      "id": "5eabd3f1",
      "metadata": {
        "id": "5eabd3f1"
      },
      "source": [
        "5. Decrypting Data:"
      ]
    },
    {
      "cell_type": "markdown",
      "id": "b4348fa9",
      "metadata": {
        "id": "b4348fa9"
      },
      "source": [
        "Now, decrypt the message using the same key. This step represents what you would do to retrieve your original data securely."
      ]
    },
    {
      "cell_type": "code",
      "execution_count": 5,
      "id": "1093c8b8",
      "metadata": {
        "colab": {
          "base_uri": "https://localhost:8080/"
        },
        "id": "1093c8b8",
        "outputId": "587ec17f-459d-4757-ae3e-0209b27036d1"
      },
      "outputs": [
        {
          "output_type": "stream",
          "name": "stdout",
          "text": [
            "Decrypted: Data Science is awesome!\n"
          ]
        }
      ],
      "source": [
        "# Decrypt the message\n",
        "decrypted_text = cipher_suite.decrypt(cipher_text)\n",
        "print(\"Decrypted:\", decrypted_text.decode('utf-8')) # Convert bytes back to string"
      ]
    },
    {
      "cell_type": "markdown",
      "id": "64976610",
      "metadata": {
        "id": "64976610"
      },
      "source": [
        "6. Storing and Managing Encryption Keys:"
      ]
    },
    {
      "cell_type": "markdown",
      "id": "e1901b26",
      "metadata": {
        "id": "e1901b26"
      },
      "source": [
        "While this example encrypts and decrypts data within the same script for simplicity, you typically need to store the encryption keys securely. Here are some best practices:\n",
        "\n",
        "*   Environment Variables: Store keys in environment variables instead of hard-coding them into your scripts.\n",
        "*   Key Management Systems: Use key management systems offered by cloud providers, like AWS KMS, Azure Key Vault, or Google Cloud KMS, to manage the lifecycle of encryption keys securely.\n",
        "*   Access Controls: Limit who can access these keys and audit their usage to ensure that only authorized processes and users can encrypt or decrypt data."
      ]
    },
    {
      "cell_type": "markdown",
      "id": "9ed316c3",
      "metadata": {
        "id": "9ed316c3"
      },
      "source": [
        "7. Conclusion:"
      ]
    },
    {
      "cell_type": "markdown",
      "id": "4fc60d94",
      "metadata": {
        "id": "4fc60d94"
      },
      "source": [
        "Implementing basic security measures such as data encryption is crucial in protecting sensitive information in your data science projects. The cryptography library provides a straightforward and powerful method for encrypting and decrypting data, ensuring that it remains secure during storage and transmission. By integrating these practices into your projects, you enhance the security posture of your applications and protect against unauthorized data breaches. As you develop more complex applications, consider integrating more advanced security measures and policies to safeguard your data effectively."
      ]
    }
  ],
  "metadata": {
    "colab": {
      "provenance": [],
      "include_colab_link": true
    },
    "language_info": {
      "name": "python"
    },
    "kernelspec": {
      "name": "python3",
      "display_name": "Python 3"
    }
  },
  "nbformat": 4,
  "nbformat_minor": 5
}