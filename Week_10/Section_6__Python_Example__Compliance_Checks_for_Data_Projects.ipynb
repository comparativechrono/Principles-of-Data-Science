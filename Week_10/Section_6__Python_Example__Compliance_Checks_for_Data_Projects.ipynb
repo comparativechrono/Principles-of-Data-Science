{
  "cells": [
    {
      "cell_type": "markdown",
      "metadata": {
        "id": "view-in-github",
        "colab_type": "text"
      },
      "source": [
        "<a href=\"https://colab.research.google.com/github/comparativechrono/Principles-of-Data-Science/blob/main/Week_10/Section_6__Python_Example__Compliance_Checks_for_Data_Projects.ipynb\" target=\"_parent\"><img src=\"https://colab.research.google.com/assets/colab-badge.svg\" alt=\"Open In Colab\"/></a>"
      ]
    },
    {
      "cell_type": "markdown",
      "source": [
        "#Section 6: Python example - compliance checks for data projects"
      ],
      "metadata": {
        "id": "HTXSliaKfCWl"
      },
      "id": "HTXSliaKfCWl"
    },
    {
      "cell_type": "markdown",
      "id": "0d5b14fc",
      "metadata": {
        "id": "0d5b14fc"
      },
      "source": [
        "Ensuring compliance with legal frameworks in data projects is critical for maintaining data privacy, security, and trust. In this section, we provide a Python example demonstrating how to implement a basic compliance check mechanism that can help identify potential compliance issues related to data storage, processing, and handling. This will involve creating a script to audit data for GDPR compliance, focusing on aspects such as data minimization and retention."
      ]
    },
    {
      "cell_type": "markdown",
      "id": "85216732",
      "metadata": {
        "id": "85216732"
      },
      "source": [
        "1. Setting Up the Environment:"
      ]
    },
    {
      "cell_type": "markdown",
      "id": "f70e49fa",
      "metadata": {
        "id": "f70e49fa"
      },
      "source": [
        "To carry out compliance checks effectively, you will need Python libraries that can handle data manipulation and provide logging capabilities. If these libraries are not already installed, you can install them using pip:"
      ]
    },
    {
      "cell_type": "code",
      "execution_count": null,
      "id": "ce05c387",
      "metadata": {
        "id": "ce05c387"
      },
      "outputs": [],
      "source": [
        "pip install pandas logging"
      ]
    },
    {
      "cell_type": "markdown",
      "id": "c485cee0",
      "metadata": {
        "id": "c485cee0"
      },
      "source": [
        "2. Importing Required Libraries:"
      ]
    },
    {
      "cell_type": "markdown",
      "id": "83e006e5",
      "metadata": {
        "id": "83e006e5"
      },
      "source": [
        "Import the necessary libraries. We will use pandas for data manipulation and logging for recording the outcome of our compliance checks."
      ]
    },
    {
      "cell_type": "code",
      "execution_count": null,
      "id": "e9f6a37c",
      "metadata": {
        "id": "e9f6a37c"
      },
      "outputs": [],
      "source": [
        "import pandas as pd\n",
        "import logging\n",
        "import datetime\n",
        "\n",
        "\n",
        "# Setup logging configuration\n",
        "\n",
        "logging.basicConfig(level=logging.INFO, format='%(asctime)s - %(levelname)s - %(message)s')"
      ]
    },
    {
      "cell_type": "markdown",
      "id": "944025bb",
      "metadata": {
        "id": "944025bb"
      },
      "source": [
        "3. Loading and Preparing Data:"
      ]
    },
    {
      "cell_type": "markdown",
      "id": "03c56df0",
      "metadata": {
        "id": "03c56df0"
      },
      "source": [
        "For this example, let's assume we have a dataset that includes personal data collected from users. We'll create a sample DataFrame to simulate this:"
      ]
    },
    {
      "cell_type": "code",
      "execution_count": null,
      "id": "4d4022a0",
      "metadata": {
        "id": "4d4022a0"
      },
      "outputs": [],
      "source": [
        "# Create a sample DataFrame\n",
        "data = pd.DataFrame({ 'user_id': [1, 2, 3, 4], 'name': ['Alice', 'Bob', 'Charlie', 'David'], 'email': ['alice@example.com', 'bob@example.com', 'charlie@example.com', 'david@example.com'], 'data_collected_date': ['2021-01-01', '2021-01-02', '2021-01-03', '2021-01-04'], 'last_login_date': ['2023-07-01', '2023-07-02', '2023-06-15', '2023-07-01'] })\n",
        "# Convert date columns to datetime format\n",
        "data['data_collected_date'] = pd.to_datetime(data['data_collected_date'])\n",
        "data['last_login_date'] = pd.to_datetime(data['last_login_date'])"
      ]
    },
    {
      "cell_type": "markdown",
      "id": "1fa3d54a",
      "metadata": {
        "id": "1fa3d54a"
      },
      "source": [
        "4. Defining Compliance Rules:"
      ]
    },
    {
      "cell_type": "markdown",
      "id": "4386c260",
      "metadata": {
        "id": "4386c260"
      },
      "source": [
        "We need to define some GDPR compliance rules. For example, GDPR encourages data minimization and requires that personal data should not be retained longer than necessary."
      ]
    },
    {
      "cell_type": "code",
      "execution_count": null,
      "id": "983b0fd7",
      "metadata": {
        "id": "983b0fd7"
      },
      "outputs": [],
      "source": [
        "def check_data_minimization(data):\n",
        "    \"\"\"\n",
        "    Check for unnecessary columns that should not be stored.\n",
        "    \"\"\"\n",
        "    necessary_columns = {'user_id', 'name', 'last_login_date'}\n",
        "    extra_columns = set(data.columns) - necessary_columns\n",
        "\n",
        "    if extra_columns:\n",
        "        logging.warning(f'Unnecessary data columns found: {extra_columns}')\n",
        "    else:\n",
        "        logging.info(\"Data minimization check passed.\")\n",
        "\n",
        "def check_data_retention(data, retention_period_years=2):\n",
        "    \"\"\"\n",
        "    Check that no data is older than the retention period.\n",
        "    \"\"\"\n",
        "    cutoff_date = pd.Timestamp(datetime.datetime.now() - datetime.timedelta(days=365 * retention_period_years))\n",
        "    old_data = data[data['data_collected_date'] < cutoff_date]\n",
        "\n",
        "    if not old_data.empty:\n",
        "        logging.warning(\"Data older than retention period found.\")\n",
        "    else:\n",
        "        logging.info(\"Data retention check passed.\")\n"
      ]
    },
    {
      "cell_type": "markdown",
      "id": "67a272fb",
      "metadata": {
        "id": "67a272fb"
      },
      "source": [
        "5. Performing Compliance Checks:"
      ]
    },
    {
      "cell_type": "markdown",
      "id": "8b5e8095",
      "metadata": {
        "id": "8b5e8095"
      },
      "source": [
        "Now, run these checks against the dataset:"
      ]
    },
    {
      "cell_type": "code",
      "execution_count": null,
      "id": "18bc0044",
      "metadata": {
        "id": "18bc0044"
      },
      "outputs": [],
      "source": [
        "check_data_minimization(data)\n",
        "check_data_retention(data)"
      ]
    },
    {
      "cell_type": "markdown",
      "id": "43e1d53c",
      "metadata": {
        "id": "43e1d53c"
      },
      "source": [
        "6. Conclusion:"
      ]
    },
    {
      "cell_type": "markdown",
      "id": "01cda13e",
      "metadata": {
        "id": "01cda13e"
      },
      "source": [
        "This Python script provides a basic framework for performing compliance checks in data projects. By automating the evaluation of whether data handling practices align with legal standards like GDPR, organizations can ensure they manage personal data responsibly and maintain compliance. These checks can be expanded based on specific organizational or regulatory requirements, offering a robust approach to compliance verification in data-driven environments."
      ]
    }
  ],
  "metadata": {
    "colab": {
      "provenance": [],
      "include_colab_link": true
    },
    "language_info": {
      "name": "python"
    },
    "kernelspec": {
      "name": "python3",
      "display_name": "Python 3"
    }
  },
  "nbformat": 4,
  "nbformat_minor": 5
}