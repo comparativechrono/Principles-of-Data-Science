{
  "cells": [
    {
      "cell_type": "markdown",
      "metadata": {
        "id": "view-in-github",
        "colab_type": "text"
      },
      "source": [
        "<a href=\"https://colab.research.google.com/github/comparativechrono/Principles-of-Data-Science/blob/main/week_6/Section_2_Python_Example__Operations_with_Numpy_Arrays.ipynb\" target=\"_parent\"><img src=\"https://colab.research.google.com/assets/colab-badge.svg\" alt=\"Open In Colab\"/></a>"
      ]
    },
    {
      "cell_type": "markdown",
      "source": [
        "#Section 2 - Python example: operations with numpy arrays"
      ],
      "metadata": {
        "id": "snGncdiIQ6oH"
      },
      "id": "snGncdiIQ6oH"
    },
    {
      "cell_type": "markdown",
      "id": "24784dc6",
      "metadata": {
        "id": "24784dc6"
      },
      "source": [
        "As we have seen previously, NumPy is an essential library in Python for numerical computing and is widely used in scientific computing, data analysis, and machine learning. Its core functionality is built around the NumPy array, a powerful data structure that allows efficient manipulation of numerical data. This section provides practical examples demonstrating various operations with NumPy arrays, highlighting the flexibility and efficiency of NumPy for handling complex numerical tasks."
      ]
    },
    {
      "cell_type": "markdown",
      "id": "c9a79839",
      "metadata": {
        "id": "c9a79839"
      },
      "source": [
        "1. Setting Up the Environment:"
      ]
    },
    {
      "cell_type": "markdown",
      "id": "7ceca5b6",
      "metadata": {
        "id": "7ceca5b6"
      },
      "source": [
        "Before starting with NumPy operations, ensure you have NumPy installed in your Python environment. If it’s not already installed, you can add it via pip:"
      ]
    },
    {
      "cell_type": "code",
      "execution_count": null,
      "id": "38d79d78",
      "metadata": {
        "id": "38d79d78"
      },
      "outputs": [],
      "source": [
        "pip install numpy"
      ]
    },
    {
      "cell_type": "markdown",
      "id": "e5f4d8fb",
      "metadata": {
        "id": "e5f4d8fb"
      },
      "source": [
        "2. Importing NumPy:"
      ]
    },
    {
      "cell_type": "markdown",
      "id": "f224e2bc",
      "metadata": {
        "id": "f224e2bc"
      },
      "source": [
        "Begin by importing NumPy into your workspace. It is standard practice to import it under the alias np:"
      ]
    },
    {
      "cell_type": "code",
      "execution_count": null,
      "id": "5205de85",
      "metadata": {
        "id": "5205de85"
      },
      "outputs": [],
      "source": [
        "import numpy as np"
      ]
    },
    {
      "cell_type": "markdown",
      "id": "17c79249",
      "metadata": {
        "id": "17c79249"
      },
      "source": [
        "3. Creating Arrays:"
      ]
    },
    {
      "cell_type": "markdown",
      "id": "0747f054",
      "metadata": {
        "id": "0747f054"
      },
      "source": [
        "NumPy arrays can be created from Python lists or tuples, or using built-in functions that NumPy provides:"
      ]
    },
    {
      "cell_type": "code",
      "execution_count": null,
      "id": "75767c8d",
      "metadata": {
        "id": "75767c8d"
      },
      "outputs": [],
      "source": [
        "# Creating a one-dimensional array from a list\n",
        "array_1d = np.array([1, 2, 3, 4, 5])\n",
        "print(\"1D Array:\", array_1d)\n",
        "# Creating a two-dimensional array from a list of lists\n",
        "array_2d = np.array([[1, 2, 3], [4, 5, 6]])\n",
        "print(\"2D Array:\\n\", array_2d)\n",
        "# Using a built-in function to create an array\n",
        "array_zeros = np.zeros((2, 3))\n",
        "# Create a 2x3 array of zeros\n",
        "print(\"Array of Zeros:\\n\", array_zeros)"
      ]
    },
    {
      "cell_type": "markdown",
      "id": "7a449172",
      "metadata": {
        "id": "7a449172"
      },
      "source": [
        "4. Array Operations:"
      ]
    },
    {
      "cell_type": "markdown",
      "id": "c3fd7481",
      "metadata": {
        "id": "c3fd7481"
      },
      "source": [
        "NumPy arrays support a variety of operations, which can be performed element-wise, row-wise, or column-wise:"
      ]
    },
    {
      "cell_type": "code",
      "execution_count": null,
      "id": "d83d46c3",
      "metadata": {
        "id": "d83d46c3"
      },
      "outputs": [],
      "source": [
        "# Element-wise operations\n",
        "squared = array_1d ** 2\n",
        "print(\"Squared Elements:\", squared)\n",
        "# Mathematical functions applied to arrays\n",
        "log_array = np.log(array_1d)\n",
        "print(\"Logarithm of Elements:\", log_array)\n",
        "# Aggregation functions\n",
        "sum_array = np.sum(array_2d, axis=0)\n",
        "# Sum along columns\n",
        "print(\"Sum of Each Column:\", sum_array)"
      ]
    },
    {
      "cell_type": "markdown",
      "id": "9e7991f2",
      "metadata": {
        "id": "9e7991f2"
      },
      "source": [
        "5. Indexing and Slicing:"
      ]
    },
    {
      "cell_type": "markdown",
      "id": "25ef7f22",
      "metadata": {
        "id": "25ef7f22"
      },
      "source": [
        "NumPy arrays can be indexed and sliced similarly to Python lists, but with enhanced functionality:"
      ]
    },
    {
      "cell_type": "code",
      "execution_count": null,
      "id": "45ba6856",
      "metadata": {
        "id": "45ba6856"
      },
      "outputs": [],
      "source": [
        "# Slicing\n",
        "slice_array = array_2d[:, 1]\n",
        "# Get the second column\n",
        "print(\"Sliced Second Column:\", slice_array)\n",
        "# Boolean indexing\n",
        "filtered_array = array_1d[array_1d > 3]\n",
        "print(\"Elements Greater Than 3:\", filtered_array)"
      ]
    },
    {
      "cell_type": "markdown",
      "id": "a2ff7287",
      "metadata": {
        "id": "a2ff7287"
      },
      "source": [
        "6. Reshaping and Transposing:"
      ]
    },
    {
      "cell_type": "markdown",
      "id": "7e299e3d",
      "metadata": {
        "id": "7e299e3d"
      },
      "source": [
        "Reshaping and transposing are critical for preparing data for various applications, such as feeding data into machine learning models:"
      ]
    },
    {
      "cell_type": "code",
      "execution_count": null,
      "id": "d715a3a5",
      "metadata": {
        "id": "d715a3a5"
      },
      "outputs": [],
      "source": [
        "# Reshape\n",
        "reshaped_array = np.reshape(array_1d, (5, 1)) # Reshape to 5x1\n",
        "print(\"Reshaped Array:\\n\", reshaped_array)\n",
        "# Transpose\n",
        "transposed_array = array_2d.T # Transpose the 2D array\n",
        "print(\"Transposed Array:\\n\", transposed_array)"
      ]
    },
    {
      "cell_type": "markdown",
      "id": "29f89ff8",
      "metadata": {
        "id": "29f89ff8"
      },
      "source": [
        "7. Broadcasting:"
      ]
    },
    {
      "cell_type": "markdown",
      "id": "adcc95d4",
      "metadata": {
        "id": "adcc95d4"
      },
      "source": [
        "NumPy’s broadcasting rule allows operations on arrays of different sizes and dimensions:"
      ]
    },
    {
      "cell_type": "code",
      "execution_count": null,
      "id": "255a6cbc",
      "metadata": {
        "id": "255a6cbc"
      },
      "outputs": [],
      "source": [
        "# Broadcasting\n",
        "broadcasted_add = array_1d + 10 # Add 10 to each element\n",
        "print(\"Broadcasted Addition:\", broadcasted_add)"
      ]
    },
    {
      "cell_type": "markdown",
      "id": "663ba37e",
      "metadata": {
        "id": "663ba37e"
      },
      "source": [
        "8. Linear Algebra Operations:"
      ]
    },
    {
      "cell_type": "markdown",
      "id": "27e86a82",
      "metadata": {
        "id": "27e86a82"
      },
      "source": [
        "NumPy supports various linear algebra operations, essential for data science and machine learning tasks:"
      ]
    },
    {
      "cell_type": "code",
      "execution_count": null,
      "id": "86a50cec",
      "metadata": {
        "id": "86a50cec"
      },
      "outputs": [],
      "source": [
        "# Dot product\n",
        "dot_product = np.dot(array_1d, array_1d)\n",
        "print(\"Dot Product:\", dot_product)\n",
        "# Matrix multiplication\n",
        "matrix_mult = np.matmul(array_2d, array_2d.T)\n",
        "print(\"Matrix Multiplication:\\n\", matrix_mult)"
      ]
    },
    {
      "cell_type": "markdown",
      "id": "7d104421",
      "metadata": {
        "id": "7d104421"
      },
      "source": [
        "These examples underscore the versatility and efficiency of NumPy for performing a wide array of numerical operations. From basic arithmetic to complex linear algebra, NumPy offers tools that simplify the handling of numerical data, making it an indispensable library for anyone involved in data manipulation and scientific computing. The ability to perform these operations efficiently on large datasets is what makes NumPy a cornerstone of the Python data science ecosystem."
      ]
    }
  ],
  "metadata": {
    "colab": {
      "provenance": [],
      "include_colab_link": true
    }
  },
  "nbformat": 4,
  "nbformat_minor": 5
}