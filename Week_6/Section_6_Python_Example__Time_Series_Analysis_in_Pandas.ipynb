{
  "cells": [
    {
      "cell_type": "markdown",
      "metadata": {
        "id": "view-in-github",
        "colab_type": "text"
      },
      "source": [
        "<a href=\"https://colab.research.google.com/github/comparativechrono/Principles-of-Data-Science/blob/main/Week_6/Section_6_Python_Example__Time_Series_Analysis_in_Pandas.ipynb\" target=\"_parent\"><img src=\"https://colab.research.google.com/assets/colab-badge.svg\" alt=\"Open In Colab\"/></a>"
      ]
    },
    {
      "cell_type": "markdown",
      "source": [
        "#Section 6 - Python example: time series analysis in pandas"
      ],
      "metadata": {
        "id": "kSZh1ODjbj13"
      },
      "id": "kSZh1ODjbj13"
    },
    {
      "cell_type": "markdown",
      "id": "2cbd5ba8",
      "metadata": {
        "id": "2cbd5ba8"
      },
      "source": [
        "Time series analysis is crucial across various domains such as finance, meteorology, and economics, where understanding trends, seasonality, and cycles can lead to better forecasts and strategic planning. Pandas, with its robust tools and functionality tailored for time series data, offers an excellent environment for conducting such analyses. This section provides a detailed Python example to demonstrate handling and analysing time series data using Pandas, focusing on data manipulation, resampling, and forecasting techniques."
      ]
    },
    {
      "cell_type": "markdown",
      "id": "acae021c",
      "metadata": {
        "id": "acae021c"
      },
      "source": [
        "1. Setting Up the Environment:"
      ]
    },
    {
      "cell_type": "markdown",
      "id": "3bc9d03c",
      "metadata": {
        "id": "3bc9d03c"
      },
      "source": [
        "To perform time series analysis with Pandas, ensure your Python environment is set up with the necessary libraries. If Pandas and Matplotlib are not installed, they can be added using pip:"
      ]
    },
    {
      "cell_type": "code",
      "execution_count": null,
      "id": "a6cf73ac",
      "metadata": {
        "id": "a6cf73ac"
      },
      "outputs": [],
      "source": [
        "pip install pandas numpy matplotlib"
      ]
    },
    {
      "cell_type": "markdown",
      "id": "c8f6aa77",
      "metadata": {
        "id": "c8f6aa77"
      },
      "source": [
        "2. Importing Required Libraries:"
      ]
    },
    {
      "cell_type": "markdown",
      "id": "af54f567",
      "metadata": {
        "id": "af54f567"
      },
      "source": [
        "Begin by importing Pandas and Matplotlib. These libraries are essential for data manipulation and visualization:"
      ]
    },
    {
      "cell_type": "code",
      "execution_count": null,
      "id": "db96707b",
      "metadata": {
        "id": "db96707b"
      },
      "outputs": [],
      "source": [
        "import pandas as pd\n",
        "import matplotlib.pyplot as plt\n",
        "import numpy as np"
      ]
    },
    {
      "cell_type": "markdown",
      "id": "76623b3a",
      "metadata": {
        "id": "76623b3a"
      },
      "source": [
        "3. Loading and Preparing Time Series Data:"
      ]
    },
    {
      "cell_type": "markdown",
      "id": "87debf46",
      "metadata": {
        "id": "87debf46"
      },
      "source": [
        "For this example, let's consider a dataset of daily temperatures:"
      ]
    },
    {
      "cell_type": "code",
      "execution_count": null,
      "id": "f69eec42",
      "metadata": {
        "id": "f69eec42"
      },
      "outputs": [],
      "source": [
        "# Create a time series of daily temperatures\n",
        "dates = pd.date_range(start='2021-01-01', periods=365, freq='D')\n",
        "data = pd.DataFrame(data={'Temperature': (20 + np.random.normal(0, 5, size=(365)))}, index=dates)\n",
        "print(data.head())"
      ]
    },
    {
      "cell_type": "markdown",
      "id": "1148df14",
      "metadata": {
        "id": "1148df14"
      },
      "source": [
        "4. Time-Based Indexing:"
      ]
    },
    {
      "cell_type": "markdown",
      "id": "a0d9cfa7",
      "metadata": {
        "id": "a0d9cfa7"
      },
      "source": [
        "Pandas allows for easy slicing based on time-based indexing, which is extremely useful for time series analysis:"
      ]
    },
    {
      "cell_type": "code",
      "execution_count": null,
      "id": "c739ba86",
      "metadata": {
        "id": "c739ba86"
      },
      "outputs": [],
      "source": [
        "# Get data from January 2021\n",
        "january_data = data.loc['2021-01']\n",
        "print(january_data)"
      ]
    },
    {
      "cell_type": "markdown",
      "id": "e64835a1",
      "metadata": {
        "id": "e64835a1"
      },
      "source": [
        "5. Resampling and Frequency Conversion:"
      ]
    },
    {
      "cell_type": "markdown",
      "id": "8cb42459",
      "metadata": {
        "id": "8cb42459"
      },
      "source": [
        "Resampling is used to change the frequency of your time series observations. Two types of resampling are:"
      ]
    },
    {
      "cell_type": "markdown",
      "id": "411248ef",
      "metadata": {
        "id": "411248ef"
      },
      "source": [
        "Downsampling: Reducing the frequency of the data points (e.g., from days to months)."
      ]
    },
    {
      "cell_type": "markdown",
      "id": "01dac693",
      "metadata": {
        "id": "01dac693"
      },
      "source": [
        "Upsampling: Increasing the frequency of the data points (e.g., from minutes to seconds)."
      ]
    },
    {
      "cell_type": "code",
      "execution_count": null,
      "id": "4626f500",
      "metadata": {
        "id": "4626f500"
      },
      "outputs": [],
      "source": [
        "# Downsampling from daily to monthly means\n",
        "monthly_mean = data.resample('M').mean()\n",
        "print(monthly_mean)\n",
        "# Plotting the data\n",
        "monthly_mean.plot()\n",
        "plt.title('Monthly Average Temperatures')\n",
        "plt.xlabel('Month')\n",
        "plt.ylabel('Temperature')\n",
        "plt.show()"
      ]
    },
    {
      "cell_type": "markdown",
      "id": "19dbb761",
      "metadata": {
        "id": "19dbb761"
      },
      "source": [
        "6. Rolling Windows:"
      ]
    },
    {
      "cell_type": "markdown",
      "id": "059115f9",
      "metadata": {
        "id": "059115f9"
      },
      "source": [
        "Rolling window calculations provide another method to smooth out short-term fluctuations and highlight longer-term trends in data."
      ]
    },
    {
      "cell_type": "code",
      "execution_count": null,
      "id": "b38e1c93",
      "metadata": {
        "id": "b38e1c93"
      },
      "outputs": [],
      "source": [
        "# Calculate the 7-day rolling mean\n",
        "data['7-day mean'] = data['Temperature'].rolling(window=7).mean()\n",
        "# Plotting original and smoothed data\n",
        "data[['Temperature', '7-day mean']].plot()\n",
        "plt.title('Daily and 7-Day Mean Temperature')\n",
        "plt.xlabel('Date')\n",
        "plt.ylabel('Temperature')\n",
        "plt.show()"
      ]
    },
    {
      "cell_type": "markdown",
      "id": "8d951c4d",
      "metadata": {
        "id": "8d951c4d"
      },
      "source": [
        "7. Dealing with Missing Data:"
      ]
    },
    {
      "cell_type": "markdown",
      "id": "47bb7618",
      "metadata": {
        "id": "47bb7618"
      },
      "source": [
        "Handling missing values is a common task in time series analysis. Pandas provides several methods to deal with missing data, such as forward filling or backward filling:"
      ]
    },
    {
      "cell_type": "code",
      "execution_count": null,
      "id": "93d05ab0",
      "metadata": {
        "id": "93d05ab0"
      },
      "outputs": [],
      "source": [
        "# Introduce missing values for the example\n",
        "data.loc[data.sample(frac=0.1).index, 'Temperature'] = np.nan\n",
        "# Forward fill missing values\n",
        "data['Temperature'].fillna(method='ffill', inplace=True)"
      ]
    },
    {
      "cell_type": "markdown",
      "id": "02a99d5c",
      "metadata": {
        "id": "02a99d5c"
      },
      "source": [
        "8. Time Series Decomposition:"
      ]
    },
    {
      "cell_type": "markdown",
      "id": "685d9528",
      "metadata": {
        "id": "685d9528"
      },
      "source": [
        "Decomposing time series data helps in understanding underlying patterns such as trend, seasonality, and noise."
      ]
    },
    {
      "cell_type": "code",
      "execution_count": null,
      "id": "46ce01ff",
      "metadata": {
        "id": "46ce01ff"
      },
      "outputs": [],
      "source": [
        "from statsmodels.tsa.seasonal import seasonal_decompose\n",
        "# Decompose time series\n",
        "result = seasonal_decompose(data['Temperature'], model='additive')\n",
        "result.plot()\n",
        "plt.show()"
      ]
    },
    {
      "cell_type": "markdown",
      "id": "d85c6cf6",
      "metadata": {
        "id": "d85c6cf6"
      },
      "source": [
        "This example has illustrated how to perform time series analysis using Pandas, showcasing its capabilities in handling, analysing, and visualizing time series data. These techniques provide powerful insights into the data, aiding in better forecasting and decision-making. Whether you are dealing with financial markets, weather data, or any other temporal data, mastering Pandas’ time series tools can greatly enhance your analytical capabilities."
      ]
    }
  ],
  "metadata": {
    "colab": {
      "provenance": [],
      "include_colab_link": true
    },
    "language_info": {
      "name": "python"
    },
    "kernelspec": {
      "name": "python3",
      "display_name": "Python 3"
    }
  },
  "nbformat": 4,
  "nbformat_minor": 5
}