{
  "cells": [
    {
      "cell_type": "markdown",
      "metadata": {
        "id": "view-in-github",
        "colab_type": "text"
      },
      "source": [
        "<a href=\"https://colab.research.google.com/github/comparativechrono/Principles-of-Data-Science/blob/main/Week_6/Section_10_Python_Example__Implementing_Simulations_with_NumPy.ipynb\" target=\"_parent\"><img src=\"https://colab.research.google.com/assets/colab-badge.svg\" alt=\"Open In Colab\"/></a>"
      ]
    },
    {
      "cell_type": "markdown",
      "source": [
        "#Section 10 - Python example: implementing simulations with NumPy"
      ],
      "metadata": {
        "id": "nvTpMj3wguAw"
      },
      "id": "nvTpMj3wguAw"
    },
    {
      "cell_type": "markdown",
      "id": "26d57ae0",
      "metadata": {
        "id": "26d57ae0"
      },
      "source": [
        "Simulations are a powerful tool in the data scientist's toolkit, offering a way to model complex systems and predict their behaviour under various scenarios. Monte Carlo simulations, which use random sampling to make statistical predictions, are particularly useful for their versatility and ease of implementation. This section provides a Python example of how to implement a simulation using NumPy, focusing on a financial application: estimating the potential return on investment (ROI) under uncertainty."
      ]
    },
    {
      "cell_type": "markdown",
      "id": "01a4327f",
      "metadata": {
        "id": "01a4327f"
      },
      "source": [
        "1. Setting Up the Environment:"
      ]
    },
    {
      "cell_type": "markdown",
      "id": "60c9f7a2",
      "metadata": {
        "id": "60c9f7a2"
      },
      "source": [
        "Ensure you have Python and NumPy installed, as NumPy provides the random number generation and array handling capabilities essential for efficient simulations:"
      ]
    },
    {
      "cell_type": "code",
      "execution_count": 27,
      "id": "ed75fd01",
      "metadata": {
        "colab": {
          "base_uri": "https://localhost:8080/"
        },
        "id": "ed75fd01",
        "outputId": "e79c6eb0-d721-4dfa-d688-055cf26bd621"
      },
      "outputs": [
        {
          "output_type": "stream",
          "name": "stdout",
          "text": [
            "Requirement already satisfied: numpy in /usr/local/lib/python3.10/dist-packages (1.26.4)\n",
            "Requirement already satisfied: matplotlib in /usr/local/lib/python3.10/dist-packages (3.7.1)\n",
            "Requirement already satisfied: contourpy>=1.0.1 in /usr/local/lib/python3.10/dist-packages (from matplotlib) (1.3.0)\n",
            "Requirement already satisfied: cycler>=0.10 in /usr/local/lib/python3.10/dist-packages (from matplotlib) (0.12.1)\n",
            "Requirement already satisfied: fonttools>=4.22.0 in /usr/local/lib/python3.10/dist-packages (from matplotlib) (4.54.1)\n",
            "Requirement already satisfied: kiwisolver>=1.0.1 in /usr/local/lib/python3.10/dist-packages (from matplotlib) (1.4.7)\n",
            "Requirement already satisfied: packaging>=20.0 in /usr/local/lib/python3.10/dist-packages (from matplotlib) (24.1)\n",
            "Requirement already satisfied: pillow>=6.2.0 in /usr/local/lib/python3.10/dist-packages (from matplotlib) (10.4.0)\n",
            "Requirement already satisfied: pyparsing>=2.3.1 in /usr/local/lib/python3.10/dist-packages (from matplotlib) (3.2.0)\n",
            "Requirement already satisfied: python-dateutil>=2.7 in /usr/local/lib/python3.10/dist-packages (from matplotlib) (2.8.2)\n",
            "Requirement already satisfied: six>=1.5 in /usr/local/lib/python3.10/dist-packages (from python-dateutil>=2.7->matplotlib) (1.16.0)\n"
          ]
        }
      ],
      "source": [
        "pip install numpy matplotlib"
      ]
    },
    {
      "cell_type": "markdown",
      "id": "244623f6",
      "metadata": {
        "id": "244623f6"
      },
      "source": [
        "2. Importing Required Libraries:"
      ]
    },
    {
      "cell_type": "markdown",
      "id": "0345c2dd",
      "metadata": {
        "id": "0345c2dd"
      },
      "source": [
        "NumPy is essential for numerical operations, and we'll use it extensively in this example. We'll use matplotlib for plotting:"
      ]
    },
    {
      "cell_type": "code",
      "execution_count": 28,
      "id": "5b1d0dbe",
      "metadata": {
        "id": "5b1d0dbe"
      },
      "outputs": [],
      "source": [
        "import numpy as np\n",
        "import matplotlib.pyplot as plt"
      ]
    },
    {
      "cell_type": "markdown",
      "id": "16311e35",
      "metadata": {
        "id": "16311e35"
      },
      "source": [
        "3. Defining the Simulation Parameters:"
      ]
    },
    {
      "cell_type": "markdown",
      "id": "8d44e347",
      "metadata": {
        "id": "8d44e347"
      },
      "source": [
        "For this example, let's consider a simplified investment scenario where the annual return is uncertain. We'll simulate different potential annual return rates, which follow a normal distribution, to estimate the possible outcomes of the investment over a certain period:"
      ]
    },
    {
      "cell_type": "code",
      "execution_count": 29,
      "id": "7dbf3c0e",
      "metadata": {
        "id": "7dbf3c0e"
      },
      "outputs": [],
      "source": [
        "# Set the simulation parameters\n",
        "initial_investment = 10000 # Initial investment amount in dollars\n",
        "mean_return = 0.07 # Average expected return 7%\n",
        "std_dev_return = 0.1 # Standard deviation of the return\n",
        "years = 10  # Duration of the investment in years\n",
        "num_simulations = 1000 # Number of simulations to run"
      ]
    },
    {
      "cell_type": "markdown",
      "id": "e1045464",
      "metadata": {
        "id": "e1045464"
      },
      "source": [
        "4. Running the Simulation:"
      ]
    },
    {
      "cell_type": "markdown",
      "id": "f50569eb",
      "metadata": {
        "id": "f50569eb"
      },
      "source": [
        "We will simulate the investment returns over the specified period using a Monte Carlo simulation to generate random samples from the normal distribution of returns:"
      ]
    },
    {
      "cell_type": "code",
      "execution_count": 30,
      "id": "bf0ad6b0",
      "metadata": {
        "colab": {
          "base_uri": "https://localhost:8080/"
        },
        "id": "bf0ad6b0",
        "outputId": "7965e117-9ca9-49cc-8bce-44e7a9b6a42a"
      },
      "outputs": [
        {
          "output_type": "stream",
          "name": "stdout",
          "text": [
            "Mean Final Return after 10 years: $19422.32\n"
          ]
        }
      ],
      "source": [
        "# Create an array to store simulation results\n",
        "final_returns = np.zeros(num_simulations)\n",
        "# Run simulations\n",
        "for i in range(num_simulations):\n",
        "    # Randomly sample returns for each year\n",
        "    annual_returns = np.random.normal(mean_return, std_dev_return, years)\n",
        "    # Calculate the compound return after the investment period\n",
        "    compound_return = np.prod(1 + annual_returns)\n",
        "    # Store the final return in the array\n",
        "    final_returns[i] = initial_investment * compound_return\n",
        "# Calculate the mean ending value from all simulations\n",
        "mean_final_return = np.mean(final_returns)\n",
        "print(f\"Mean Final Return after {years} years: ${mean_final_return:.2f}\")"
      ]
    },
    {
      "cell_type": "markdown",
      "id": "1000036e",
      "metadata": {
        "id": "1000036e"
      },
      "source": [
        "5. Analyzing the Simulation Results:"
      ]
    },
    {
      "cell_type": "markdown",
      "id": "b331d36b",
      "metadata": {
        "id": "b331d36b"
      },
      "source": [
        "To better understand the range of possible outcomes, it's helpful to visualize the distribution of the final investment values:"
      ]
    },
    {
      "cell_type": "code",
      "execution_count": 31,
      "id": "a07324dc",
      "metadata": {
        "colab": {
          "base_uri": "https://localhost:8080/",
          "height": 472
        },
        "id": "a07324dc",
        "outputId": "ec1d564c-cf09-4cea-b449-03381d3d43eb"
      },
      "outputs": [
        {
          "output_type": "display_data",
          "data": {
            "text/plain": [
              "<Figure size 640x480 with 1 Axes>"
            ],
            "image/png": "[encoded data removed]"
          },
          "metadata": {}
        }
      ],
      "source": [
        "# Plotting the distribution of final returns\n",
        "plt.hist(final_returns, bins=50, alpha=0.75)\n",
        "plt.title('Distribution of Final Investment Values')\n",
        "plt.xlabel('Final Value ($)')\n",
        "plt.ylabel('Frequency')\n",
        "plt.show()"
      ]
    },
    {
      "cell_type": "markdown",
      "id": "23918b22",
      "metadata": {
        "id": "23918b22"
      },
      "source": [
        "6. Advanced Techniques:"
      ]
    },
    {
      "cell_type": "markdown",
      "id": "874b8fab",
      "metadata": {
        "id": "874b8fab"
      },
      "source": [
        "For more robust analysis, we could consider applying variance reduction techniques or increasing the number of simulations. Parallel processing can be utilized to enhance performance when running a very high number of simulations."
      ]
    },
    {
      "cell_type": "markdown",
      "id": "6796b56c",
      "metadata": {
        "id": "6796b56c"
      },
      "source": [
        "## Using Dask for Parallel Monte Carlo Simulations"
      ]
    },
    {
      "cell_type": "markdown",
      "id": "407e76f1",
      "metadata": {
        "id": "407e76f1"
      },
      "source": [
        "Parallelizing the Monte Carlo simulation can significantly speed up the computation, especially when running a large number of simulations. Dask is an excellent tool for parallelizing computations, especially for large-scale datasets and complex computational tasks like Monte Carlo simulations. Dask works well with NumPy, Pandas, and other Python scientific libraries by extending their capabilities with parallelism. It's particularly useful for tasks that need to scale beyond a single CPU or require handling data that doesn't fit into memory."
      ]
    },
    {
      "cell_type": "markdown",
      "id": "35e34a34",
      "metadata": {
        "id": "35e34a34"
      },
      "source": [
        "Here's how we can use Dask to parallelize the Monte Carlo simulation described in the previous example:"
      ]
    },
    {
      "cell_type": "markdown",
      "id": "3e6d91f6",
      "metadata": {
        "id": "3e6d91f6"
      },
      "source": [
        "1. Setting Up Dask:"
      ]
    },
    {
      "cell_type": "markdown",
      "id": "4049a474",
      "metadata": {
        "id": "4049a474"
      },
      "source": [
        "To use Dask for parallel processing, you first need to install Dask if it's not already installed. You might also want to install dask[distributed] to use the Dask distributed scheduler, which can handle larger computations more efficiently:"
      ]
    },
    {
      "cell_type": "code",
      "execution_count": 32,
      "id": "60a37af9",
      "metadata": {
        "colab": {
          "base_uri": "https://localhost:8080/"
        },
        "id": "60a37af9",
        "outputId": "980f5a1a-2471-476b-b639-3a60e70a121f"
      },
      "outputs": [
        {
          "output_type": "stream",
          "name": "stdout",
          "text": [
            "Requirement already satisfied: dask[distributed] in /usr/local/lib/python3.10/dist-packages (2024.8.2)\n",
            "Requirement already satisfied: click>=8.1 in /usr/local/lib/python3.10/dist-packages (from dask[distributed]) (8.1.7)\n",
            "Requirement already satisfied: cloudpickle>=3.0.0 in /usr/local/lib/python3.10/dist-packages (from dask[distributed]) (3.1.0)\n",
            "Requirement already satisfied: fsspec>=2021.09.0 in /usr/local/lib/python3.10/dist-packages (from dask[distributed]) (2024.6.1)\n",
            "Requirement already satisfied: packaging>=20.0 in /usr/local/lib/python3.10/dist-packages (from dask[distributed]) (24.1)\n",
            "Requirement already satisfied: partd>=1.4.0 in /usr/local/lib/python3.10/dist-packages (from dask[distributed]) (1.4.2)\n",
            "Requirement already satisfied: pyyaml>=5.3.1 in /usr/local/lib/python3.10/dist-packages (from dask[distributed]) (6.0.2)\n",
            "Requirement already satisfied: toolz>=0.10.0 in /usr/local/lib/python3.10/dist-packages (from dask[distributed]) (0.12.1)\n",
            "Requirement already satisfied: importlib-metadata>=4.13.0 in /usr/local/lib/python3.10/dist-packages (from dask[distributed]) (8.5.0)\n",
            "Requirement already satisfied: distributed==2024.8.2 in /usr/local/lib/python3.10/dist-packages (from dask[distributed]) (2024.8.2)\n",
            "Requirement already satisfied: jinja2>=2.10.3 in /usr/local/lib/python3.10/dist-packages (from distributed==2024.8.2->dask[distributed]) (3.1.4)\n",
            "Requirement already satisfied: locket>=1.0.0 in /usr/local/lib/python3.10/dist-packages (from distributed==2024.8.2->dask[distributed]) (1.0.0)\n",
            "Requirement already satisfied: msgpack>=1.0.2 in /usr/local/lib/python3.10/dist-packages (from distributed==2024.8.2->dask[distributed]) (1.1.0)\n",
            "Requirement already satisfied: psutil>=5.8.0 in /usr/local/lib/python3.10/dist-packages (from distributed==2024.8.2->dask[distributed]) (5.9.5)\n",
            "Requirement already satisfied: sortedcontainers>=2.0.5 in /usr/local/lib/python3.10/dist-packages (from distributed==2024.8.2->dask[distributed]) (2.4.0)\n",
            "Requirement already satisfied: tblib>=1.6.0 in /usr/local/lib/python3.10/dist-packages (from distributed==2024.8.2->dask[distributed]) (3.0.0)\n",
            "Requirement already satisfied: tornado>=6.2.0 in /usr/local/lib/python3.10/dist-packages (from distributed==2024.8.2->dask[distributed]) (6.3.3)\n",
            "Requirement already satisfied: urllib3>=1.26.5 in /usr/local/lib/python3.10/dist-packages (from distributed==2024.8.2->dask[distributed]) (2.2.3)\n",
            "Requirement already satisfied: zict>=3.0.0 in /usr/local/lib/python3.10/dist-packages (from distributed==2024.8.2->dask[distributed]) (3.0.0)\n",
            "Requirement already satisfied: zipp>=3.20 in /usr/local/lib/python3.10/dist-packages (from importlib-metadata>=4.13.0->dask[distributed]) (3.20.2)\n",
            "Requirement already satisfied: MarkupSafe>=2.0 in /usr/local/lib/python3.10/dist-packages (from jinja2>=2.10.3->distributed==2024.8.2->dask[distributed]) (3.0.2)\n"
          ]
        }
      ],
      "source": [
        "pip install dask[distributed]"
      ]
    },
    {
      "cell_type": "markdown",
      "id": "7d186267",
      "metadata": {
        "id": "7d186267"
      },
      "source": [
        "2. Importing Required Libraries:"
      ]
    },
    {
      "cell_type": "markdown",
      "id": "4535c95d",
      "metadata": {
        "id": "4535c95d"
      },
      "source": [
        "Import Dask and its array functionality, which is similar to NumPy but can operate in a parallel and distributed manner:"
      ]
    },
    {
      "cell_type": "code",
      "execution_count": 33,
      "id": "332a49f3",
      "metadata": {
        "id": "332a49f3"
      },
      "outputs": [],
      "source": [
        "import dask.array as da\n",
        "from dask.distributed import Client"
      ]
    },
    {
      "cell_type": "markdown",
      "id": "b1a80467",
      "metadata": {
        "id": "b1a80467"
      },
      "source": [
        "3. Setting Up Dask Client:"
      ]
    },
    {
      "cell_type": "markdown",
      "id": "b804a529",
      "metadata": {
        "id": "b804a529"
      },
      "source": [
        "Set up a Dask client, which provides a dashboard to monitor the computation:"
      ]
    },
    {
      "cell_type": "code",
      "execution_count": 34,
      "id": "b18b7992",
      "metadata": {
        "colab": {
          "base_uri": "https://localhost:8080/"
        },
        "id": "b18b7992",
        "outputId": "19d70454-097f-41d7-aa29-ff1000a75aa0"
      },
      "outputs": [
        {
          "output_type": "stream",
          "name": "stderr",
          "text": [
            "/usr/local/lib/python3.10/dist-packages/distributed/node.py:182: UserWarning: Port 8787 is already in use.\n",
            "Perhaps you already have a cluster running?\n",
            "Hosting the HTTP server on port 44683 instead\n",
            "  warnings.warn(\n",
            "INFO:distributed.scheduler:State start\n",
            "INFO:distributed.scheduler:  Scheduler at:     tcp://127.0.0.1:34697\n",
            "INFO:distributed.scheduler:  dashboard at:  http://127.0.0.1:44683/status\n",
            "INFO:distributed.scheduler:Registering Worker plugin shuffle\n",
            "INFO:distributed.nanny:        Start Nanny at: 'tcp://127.0.0.1:43799'\n",
            "INFO:distributed.nanny:        Start Nanny at: 'tcp://127.0.0.1:33471'\n",
            "INFO:distributed.scheduler:Register worker <WorkerState 'tcp://127.0.0.1:36189', name: 0, status: init, memory: 0, processing: 0>\n",
            "INFO:distributed.scheduler:Starting worker compute stream, tcp://127.0.0.1:36189\n",
            "INFO:distributed.core:Starting established connection to tcp://127.0.0.1:50622\n",
            "INFO:distributed.scheduler:Register worker <WorkerState 'tcp://127.0.0.1:42145', name: 1, status: init, memory: 0, processing: 0>\n",
            "INFO:distributed.scheduler:Starting worker compute stream, tcp://127.0.0.1:42145\n",
            "INFO:distributed.core:Starting established connection to tcp://127.0.0.1:50632\n",
            "INFO:distributed.scheduler:Receive client connection: Client-3bb92f98-92f7-11ef-81b3-0242ac1c000c\n",
            "INFO:distributed.core:Starting established connection to tcp://127.0.0.1:50640\n"
          ]
        }
      ],
      "source": [
        "client = Client() # Starts a local Dask client on your machine"
      ]
    },
    {
      "cell_type": "markdown",
      "id": "f2b1e47c",
      "metadata": {
        "id": "f2b1e47c"
      },
      "source": [
        "4. Defining the Simulation with Dask:"
      ]
    },
    {
      "cell_type": "markdown",
      "id": "3c477eba",
      "metadata": {
        "id": "3c477eba"
      },
      "source": [
        "You can parallelize the simulation using Dask by creating a Dask array of delayed execution tasks. This allows Dask to manage memory and compute scheduling optimally:"
      ]
    },
    {
      "cell_type": "code",
      "execution_count": 35,
      "id": "57b5edd8",
      "metadata": {
        "id": "57b5edd8"
      },
      "outputs": [],
      "source": [
        "def simulate_investment_return_dask():\n",
        "    initial_investment = 10000\n",
        "    mean_return = 0.07\n",
        "    std_dev_return = 0.1\n",
        "    years = 10\n",
        "\n",
        "    # Dask's random function can generate random numbers in parallel\n",
        "    annual_returns = da.random.normal(mean_return, std_dev_return, years)\n",
        "\n",
        "    # Calculate the compound return after the investment period\n",
        "    compound_return = da.prod(1 + annual_returns)\n",
        "\n",
        "    final_return = initial_investment * compound_return\n",
        "    return final_return\n",
        "\n",
        "# Number of simulations\n",
        "num_simulations = 1000\n",
        "\n",
        "# Generate many simulations as delayed objects\n",
        "results = [simulate_investment_return_dask() for _ in range(num_simulations)]\n",
        "\n",
        "# Use Dask to compute results in parallel\n",
        "final_returns = da.compute(*results)\n"
      ]
    },
    {
      "cell_type": "markdown",
      "id": "49e7992c",
      "metadata": {
        "id": "49e7992c"
      },
      "source": [
        "5. Analyzing the Results:"
      ]
    },
    {
      "cell_type": "markdown",
      "id": "f9455fae",
      "metadata": {
        "id": "f9455fae"
      },
      "source": [
        "The results returned from Dask computations can be analyzed just like NumPy arrays, using similar code to calculate statistics and generate plots:"
      ]
    },
    {
      "cell_type": "code",
      "execution_count": 36,
      "id": "28d40708",
      "metadata": {
        "colab": {
          "base_uri": "https://localhost:8080/",
          "height": 489
        },
        "id": "28d40708",
        "outputId": "fe0e9ade-8d33-4dca-c167-4b9407373cf7"
      },
      "outputs": [
        {
          "output_type": "stream",
          "name": "stdout",
          "text": [
            "Mean Final Return after 10 years: $19885.84\n"
          ]
        },
        {
          "output_type": "display_data",
          "data": {
            "text/plain": [
              "<Figure size 640x480 with 1 Axes>"
            ],
            "image/png": "[encoded data removed]"
          },
          "metadata": {}
        }
      ],
      "source": [
        "# Convert results to a NumPy array for further analysis\n",
        "final_returns_np = np.array(final_returns)\n",
        "# Calculate the mean ending value from all simulations\n",
        "mean_final_return = np.mean(final_returns_np)\n",
        "print(f\"Mean Final Return after {years} years: ${mean_final_return:.2f}\")\n",
        "# Plotting the distribution of final returns\n",
        "plt.hist(final_returns_np, bins=50, alpha=0.75)\n",
        "plt.title('Distribution of Final Investment Values')\n",
        "plt.xlabel('Final Value ($)')\n",
        "plt.ylabel('Frequency')\n",
        "plt.show()"
      ]
    },
    {
      "cell_type": "markdown",
      "id": "bf0cf0b2",
      "metadata": {
        "id": "bf0cf0b2"
      },
      "source": [
        "Using Dask for Monte Carlo simulations enhances the ability to scale the computations across multiple cores or even across clusters of machines. This scalability is particularly useful for extensive simulations or when handling large datasets that exceed the memory capacity of a single machine. Dask's integration with Python's data science stack makes it a powerful tool for parallel computations, significantly speeding up processing times and enabling more complex analyses.\n",
        "\n",
        "What applications can you see for monte carlo simulations in your workplace?"
      ]
    }
  ],
  "metadata": {
    "colab": {
      "provenance": [],
      "include_colab_link": true
    },
    "language_info": {
      "name": "python"
    },
    "kernelspec": {
      "name": "python3",
      "display_name": "Python 3"
    }
  },
  "nbformat": 4,
  "nbformat_minor": 5
}