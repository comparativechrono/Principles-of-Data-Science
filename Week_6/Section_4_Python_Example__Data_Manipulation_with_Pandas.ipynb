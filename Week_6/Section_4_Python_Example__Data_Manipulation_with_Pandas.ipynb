{
  "cells": [
    {
      "cell_type": "markdown",
      "metadata": {
        "id": "view-in-github",
        "colab_type": "text"
      },
      "source": [
        "<a href=\"https://colab.research.google.com/github/comparativechrono/Principles-of-Data-Science/blob/main/Week_6/Section_4_Python_Example__Data_Manipulation_with_Pandas.ipynb\" target=\"_parent\"><img src=\"https://colab.research.google.com/assets/colab-badge.svg\" alt=\"Open In Colab\"/></a>"
      ]
    },
    {
      "cell_type": "markdown",
      "source": [
        "#Section 4 - Python example: data manipulation with pandas"
      ],
      "metadata": {
        "id": "4ClrDuLWRiVz"
      },
      "id": "4ClrDuLWRiVz"
    },
    {
      "cell_type": "markdown",
      "id": "c8124d40",
      "metadata": {
        "id": "c8124d40"
      },
      "source": [
        "Pandas is a cornerstone of data manipulation in Python, offering an extensive suite of functions that enable efficient data operations suitable for different needs from simple data aggregation to complex transformations. This section provides a detailed Python example demonstrating various data manipulation techniques using Pandas. These techniques include indexing, handling missing data, filtering, aggregating, and merging datasets, essential for preparing data for analysis or machine learning."
      ]
    },
    {
      "cell_type": "markdown",
      "id": "300892b7",
      "metadata": {
        "id": "300892b7"
      },
      "source": [
        "1. Setting Up the Environment:"
      ]
    },
    {
      "cell_type": "markdown",
      "id": "b094b99d",
      "metadata": {
        "id": "b094b99d"
      },
      "source": [
        "To perform data manipulation with Pandas, ensure your Python environment is equipped with the necessary library. If Pandas is not installed, it can be easily added using pip:"
      ]
    },
    {
      "cell_type": "code",
      "execution_count": null,
      "id": "8415e313",
      "metadata": {
        "id": "8415e313"
      },
      "outputs": [],
      "source": [
        "pip install pandas"
      ]
    },
    {
      "cell_type": "markdown",
      "id": "9b14effa",
      "metadata": {
        "id": "9b14effa"
      },
      "source": [
        "2. Importing Pandas:"
      ]
    },
    {
      "cell_type": "markdown",
      "id": "6ccb2f61",
      "metadata": {
        "id": "6ccb2f61"
      },
      "source": [
        "Start by importing Pandas, typically imported under the alias pd:"
      ]
    },
    {
      "cell_type": "code",
      "execution_count": null,
      "id": "52da6367",
      "metadata": {
        "id": "52da6367"
      },
      "outputs": [],
      "source": [
        "import pandas as pd"
      ]
    },
    {
      "cell_type": "markdown",
      "id": "7363596a",
      "metadata": {
        "id": "7363596a"
      },
      "source": [
        "3. Creating and Loading Data:"
      ]
    },
    {
      "cell_type": "markdown",
      "id": "4da69f47",
      "metadata": {
        "id": "4da69f47"
      },
      "source": [
        "For this example, let’s create a simple DataFrame. In practice, data might be loaded from a CSV file, SQL database, or another source:"
      ]
    },
    {
      "cell_type": "code",
      "execution_count": null,
      "id": "b298d74b",
      "metadata": {
        "id": "b298d74b"
      },
      "outputs": [],
      "source": [
        "# Creating a DataFrame\n",
        "data = pd.DataFrame({ 'Name': ['John', 'Anna', 'Bob', 'Linda'], 'Age': [28, 22, 34, 29], 'Salary': [50000, 62000, 55000, 48000] })\n",
        "print(data)"
      ]
    },
    {
      "cell_type": "markdown",
      "id": "9c1d4440",
      "metadata": {
        "id": "9c1d4440"
      },
      "source": [
        "4. Basic Data Manipulation Techniques:"
      ]
    },
    {
      "cell_type": "markdown",
      "id": "ef3ded38",
      "metadata": {
        "id": "ef3ded38"
      },
      "source": [
        "**Indexing and Selecting Data:**"
      ]
    },
    {
      "cell_type": "markdown",
      "id": "2005437f",
      "metadata": {
        "id": "2005437f"
      },
      "source": [
        "Pandas offers multiple methods for indexing and selecting data, which are crucial for slicing data into manageable parts:"
      ]
    },
    {
      "cell_type": "code",
      "execution_count": null,
      "id": "4a1a5ad3",
      "metadata": {
        "id": "4a1a5ad3"
      },
      "outputs": [],
      "source": [
        "# Selecting a column\n",
        "ages = data['Age']\n",
        "print(ages)\n",
        "# Selecting multiple columns\n",
        "subset = data[['Name', 'Salary']]\n",
        "print(subset)\n",
        "# Conditional selections\n",
        "over_30 = data[data['Age'] > 30]\n",
        "print(over_30)"
      ]
    },
    {
      "cell_type": "markdown",
      "id": "101140be",
      "metadata": {
        "id": "101140be"
      },
      "source": [
        "**Handling Missing Data:**"
      ]
    },
    {
      "cell_type": "markdown",
      "id": "a595294f",
      "metadata": {
        "id": "a595294f"
      },
      "source": [
        "It’s common to encounter missing values in datasets. Pandas provides several methods to handle missing data effectively:"
      ]
    },
    {
      "cell_type": "code",
      "execution_count": null,
      "id": "5f28fa2d",
      "metadata": {
        "id": "5f28fa2d"
      },
      "outputs": [],
      "source": [
        "# Introduce missing values\n",
        "data.loc[2, 'Salary'] = None\n",
        "# Filling missing values\n",
        "data['Salary'].fillna(value=data['Salary'].mean(), inplace=True)\n",
        "print(data)\n",
        "# Dropping rows with any missing values\n",
        "clean_data = data.dropna()\n",
        "print(clean_data)"
      ]
    },
    {
      "cell_type": "markdown",
      "id": "93bed169",
      "metadata": {
        "id": "93bed169"
      },
      "source": [
        "**Data Filtering:**"
      ]
    },
    {
      "cell_type": "markdown",
      "id": "6a80f442",
      "metadata": {
        "id": "6a80f442"
      },
      "source": [
        "Filtering involves specifying conditions to isolate subsets of data:"
      ]
    },
    {
      "cell_type": "code",
      "execution_count": null,
      "id": "3b18f3a7",
      "metadata": {
        "id": "3b18f3a7"
      },
      "outputs": [],
      "source": [
        "# Filtering data\n",
        "high_earners = data[data['Salary'] > 50000]\n",
        "print(high_earners)"
      ]
    },
    {
      "cell_type": "markdown",
      "id": "f90f4819",
      "metadata": {
        "id": "f90f4819"
      },
      "source": [
        "**Data Aggregation:**"
      ]
    },
    {
      "cell_type": "markdown",
      "id": "08529238",
      "metadata": {
        "id": "08529238"
      },
      "source": [
        "Pandas supports aggregation at various levels, essential for statistical analysis and summarization:"
      ]
    },
    {
      "cell_type": "code",
      "execution_count": null,
      "id": "075f6bda",
      "metadata": {
        "id": "075f6bda"
      },
      "outputs": [],
      "source": [
        "# Aggregating data\n",
        "average_salary = data['Salary'].mean()\n",
        "print(\"Average Salary:\", average_salary)"
      ]
    },
    {
      "cell_type": "markdown",
      "id": "9396901b",
      "metadata": {
        "id": "9396901b"
      },
      "source": [
        "5. Advanced Data Manipulation Techniques:"
      ]
    },
    {
      "cell_type": "markdown",
      "id": "624a1cac",
      "metadata": {
        "id": "624a1cac"
      },
      "source": [
        "**Grouping Data:**"
      ]
    },
    {
      "cell_type": "markdown",
      "id": "c35ace71",
      "metadata": {
        "id": "c35ace71"
      },
      "source": [
        "Grouping involves segmenting data into groups and applying a function to each group:"
      ]
    },
    {
      "cell_type": "code",
      "execution_count": null,
      "id": "2d4a2c61",
      "metadata": {
        "id": "2d4a2c61"
      },
      "outputs": [],
      "source": [
        "# Grouping data by a column and aggregating\n",
        "grouped_data = data.groupby('Age').sum()\n",
        "print(grouped_data)"
      ]
    },
    {
      "cell_type": "markdown",
      "id": "e7a40d1d",
      "metadata": {
        "id": "e7a40d1d"
      },
      "source": [
        "**Merging Data:**"
      ]
    },
    {
      "cell_type": "markdown",
      "id": "7392ceb4",
      "metadata": {
        "id": "7392ceb4"
      },
      "source": [
        "Combining datasets is a common operation, especially when dealing with relational data:"
      ]
    },
    {
      "cell_type": "code",
      "execution_count": null,
      "id": "cc240d34",
      "metadata": {
        "id": "cc240d34"
      },
      "outputs": [],
      "source": [
        "# Additional DataFrame\n",
        "new_data = pd.DataFrame({ 'Name': ['John', 'Anna'], 'Bonus': [3000, 1500] })\n",
        "# Merging DataFrames\n",
        "merged_data = pd.merge(data, new_data, on='Name', how='left')\n",
        "print(merged_data)"
      ]
    },
    {
      "cell_type": "markdown",
      "id": "4dabe262",
      "metadata": {
        "id": "4dabe262"
      },
      "source": [
        "These examples underscore the breadth and depth of Pandas' capabilities for data manipulation. By mastering these techniques—from basic operations like selections and filtering to more complex operations like merging and grouping—analysts and data scientists can preprocess and transform data efficiently, preparing it for deeper analysis or predictive modeling. The versatility and power of Pandas make it an indispensable tool for anyone working with data in Python. However, if pandas is so good, why do we need NumPy?"
      ]
    }
  ],
  "metadata": {
    "colab": {
      "provenance": [],
      "include_colab_link": true
    }
  },
  "nbformat": 4,
  "nbformat_minor": 5
}