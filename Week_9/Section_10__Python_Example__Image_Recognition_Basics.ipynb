{
  "cells": [
    {
      "cell_type": "markdown",
      "metadata": {
        "id": "view-in-github",
        "colab_type": "text"
      },
      "source": [
        "<a href=\"https://colab.research.google.com/github/comparativechrono/Principles-of-Data-Science/blob/main/Week_9/Section_10__Python_Example__Image_Recognition_Basics.ipynb\" target=\"_parent\"><img src=\"https://colab.research.google.com/assets/colab-badge.svg\" alt=\"Open In Colab\"/></a>"
      ]
    },
    {
      "cell_type": "markdown",
      "source": [
        "#Section 10: Python example - Image recognition basics"
      ],
      "metadata": {
        "id": "K5VRdURv766z"
      },
      "id": "K5VRdURv766z"
    },
    {
      "cell_type": "markdown",
      "id": "ca3222d3",
      "metadata": {
        "id": "ca3222d3"
      },
      "source": [
        "Image recognition is a core task in computer vision, involving the identification of objects, people, places, and actions in images. This section demonstrates how to implement a basic image recognition model using Python, leveraging the TensorFlow library and its high-level Keras API. We will use a pre-trained model to simplify the process, which is a common practice due to the complexity and computational costs associated with training such models from scratch."
      ]
    },
    {
      "cell_type": "markdown",
      "id": "8071b06d",
      "metadata": {
        "id": "8071b06d"
      },
      "source": [
        "1. Setting Up the Environment:"
      ]
    },
    {
      "cell_type": "markdown",
      "id": "c0c34f2a",
      "metadata": {
        "id": "c0c34f2a"
      },
      "source": [
        "To get started, ensure that your Python environment includes TensorFlow, which provides the tools necessary for building and training advanced machine learning models:"
      ]
    },
    {
      "cell_type": "code",
      "execution_count": null,
      "id": "814697f5",
      "metadata": {
        "id": "814697f5"
      },
      "outputs": [],
      "source": [
        "pip install tensorflow"
      ]
    },
    {
      "cell_type": "markdown",
      "id": "a09efb6b",
      "metadata": {
        "id": "a09efb6b"
      },
      "source": [
        "2. Importing Required Libraries:"
      ]
    },
    {
      "cell_type": "markdown",
      "id": "eb32fb8b",
      "metadata": {
        "id": "eb32fb8b"
      },
      "source": [
        "Next, import TensorFlow and other necessary libraries. We'll also use Matplotlib for displaying images:"
      ]
    },
    {
      "cell_type": "code",
      "execution_count": null,
      "id": "4e214c31",
      "metadata": {
        "id": "4e214c31"
      },
      "outputs": [],
      "source": [
        "import tensorflow as tf\n",
        "from tensorflow.keras.preprocessing import image\n",
        "from tensorflow.keras.applications.resnet50 import ResNet50, preprocess_input, decode_predictions\n",
        "import numpy as np\n",
        "import matplotlib.pyplot as plt"
      ]
    },
    {
      "cell_type": "markdown",
      "id": "16f48227",
      "metadata": {
        "id": "16f48227"
      },
      "source": [
        "3. Loading a Pre-trained Model:"
      ]
    },
    {
      "cell_type": "markdown",
      "id": "16b7418d",
      "metadata": {
        "id": "16b7418d"
      },
      "source": [
        "We will use ResNet50, a popular convolutional neural network architecture trained on the ImageNet database, a large visual database designed for use in visual object recognition software research."
      ]
    },
    {
      "cell_type": "code",
      "execution_count": null,
      "id": "68acc95a",
      "metadata": {
        "id": "68acc95a"
      },
      "outputs": [],
      "source": [
        "# Load the ResNet50 model pre-trained on ImageNet data\n",
        "model = ResNet50(weights='imagenet')"
      ]
    },
    {
      "cell_type": "markdown",
      "id": "be3d209f",
      "metadata": {
        "id": "be3d209f"
      },
      "source": [
        "4. Preparing the Image:"
      ]
    },
    {
      "cell_type": "markdown",
      "id": "05f4d111",
      "metadata": {
        "id": "05f4d111"
      },
      "source": [
        "For our example, you'll need an image to classify. Here’s how to load an image and prepare it for classification using the ResNet50 model:"
      ]
    },
    {
      "cell_type": "code",
      "execution_count": null,
      "id": "c49cd1bd",
      "metadata": {
        "id": "c49cd1bd"
      },
      "outputs": [],
      "source": [
        "# Load an image file to test, resizing it to 224x224 pixels (required by this model)\n",
        "img_path = 'image.png'\n",
        "img = image.load_img(img_path, target_size=(224, 224))\n",
        "\n",
        "# Convert the image to a numpy array and expand dimensions to be [1, 224, 224, 3]\n",
        "x = image.img_to_array(img)\n",
        "x = np.expand_dims(x, axis=0)\n",
        "x = preprocess_input(x)\n",
        "\n",
        "# Display the image\n",
        "plt.imshow(img)\n",
        "plt.show()\n"
      ]
    },
    {
      "cell_type": "markdown",
      "id": "0c79c6ce",
      "metadata": {
        "id": "0c79c6ce"
      },
      "source": [
        "5. Making Predictions:"
      ]
    },
    {
      "cell_type": "markdown",
      "id": "f68fa8cc",
      "metadata": {
        "id": "f68fa8cc"
      },
      "source": [
        "Now, use the model to classify the image:"
      ]
    },
    {
      "cell_type": "code",
      "execution_count": null,
      "id": "0db92836",
      "metadata": {
        "id": "0db92836"
      },
      "outputs": [],
      "source": [
        "# Make predictions\n",
        "predictions = model.predict(x)\n",
        "\n",
        "# Decode predictions\n",
        "print('Predictions:', decode_predictions(predictions, top=3)[0])\n"
      ]
    },
    {
      "cell_type": "markdown",
      "id": "508798a6",
      "metadata": {
        "id": "508798a6"
      },
      "source": [
        "The decode_predictions function will return a list of classes and probabilities, with the top predictions for what is contained in the image."
      ]
    },
    {
      "cell_type": "markdown",
      "id": "9cbf0624",
      "metadata": {
        "id": "9cbf0624"
      },
      "source": [
        "6. Conclusion:"
      ]
    },
    {
      "cell_type": "markdown",
      "id": "a44b0351",
      "metadata": {
        "id": "a44b0351"
      },
      "source": [
        "This example demonstrates the basic steps for implementing image recognition with Python, utilizing a powerful pre-trained model. By leveraging such models, developers can incorporate sophisticated image recognition capabilities into their applications without the need for extensive computational resources. As machine learning and computer vision continue to advance, the accessibility of these technologies means that more complex and accurate applications can be developed more quickly and efficiently than ever before."
      ]
    }
  ],
  "metadata": {
    "colab": {
      "provenance": [],
      "include_colab_link": true
    },
    "language_info": {
      "name": "python"
    },
    "kernelspec": {
      "name": "python3",
      "display_name": "Python 3"
    }
  },
  "nbformat": 4,
  "nbformat_minor": 5
}