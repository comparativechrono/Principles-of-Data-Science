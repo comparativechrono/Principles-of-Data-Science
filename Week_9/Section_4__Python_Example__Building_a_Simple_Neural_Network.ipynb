{
  "cells": [
    {
      "cell_type": "markdown",
      "metadata": {
        "id": "view-in-github",
        "colab_type": "text"
      },
      "source": [
        "<a href=\"https://colab.research.google.com/github/comparativechrono/Principles-of-Data-Science/blob/main/Week_9/Section_4__Python_Example__Building_a_Simple_Neural_Network.ipynb\" target=\"_parent\"><img src=\"https://colab.research.google.com/assets/colab-badge.svg\" alt=\"Open In Colab\"/></a>"
      ]
    },
    {
      "cell_type": "markdown",
      "source": [
        "#Section 4: Python example - building a simple neural network"
      ],
      "metadata": {
        "id": "OtbUm8Be2VUz"
      },
      "id": "OtbUm8Be2VUz"
    },
    {
      "cell_type": "markdown",
      "id": "3737df68",
      "metadata": {
        "id": "3737df68"
      },
      "source": [
        "Deep learning's capability to perform complex calculations and model intricate patterns in data has made it a fundamental tool in advancing artificial intelligence. This section demonstrates how to build a basic neural network in Python using TensorFlow and Keras, popular libraries that provide powerful tools to construct and train deep learning models easily."
      ]
    },
    {
      "cell_type": "markdown",
      "id": "d5de7293",
      "metadata": {
        "id": "d5de7293"
      },
      "source": [
        "1. Setting Up the Environment:"
      ]
    },
    {
      "cell_type": "markdown",
      "id": "e95ce502",
      "metadata": {
        "id": "e95ce502"
      },
      "source": [
        "Ensure that your Python environment is equipped with TensorFlow, an open-source library for numerical computation that makes machine learning faster and easier:"
      ]
    },
    {
      "cell_type": "code",
      "execution_count": null,
      "id": "ab924350",
      "metadata": {
        "id": "ab924350"
      },
      "outputs": [],
      "source": [
        "pip install tensorflow"
      ]
    },
    {
      "cell_type": "markdown",
      "id": "335543f8",
      "metadata": {
        "id": "335543f8"
      },
      "source": [
        "2. Importing Required Libraries:"
      ]
    },
    {
      "cell_type": "markdown",
      "id": "166002ba",
      "metadata": {
        "id": "166002ba"
      },
      "source": [
        "TensorFlow includes an integrated high-level API called Keras, which simplifies many tasks involved in building neural networks. We will also use other helpful libraries:"
      ]
    },
    {
      "cell_type": "code",
      "execution_count": null,
      "id": "04c25860",
      "metadata": {
        "id": "04c25860"
      },
      "outputs": [],
      "source": [
        "import tensorflow as tf\n",
        "from tensorflow.keras.models import Sequential\n",
        "from tensorflow.keras.layers import Dense\n",
        "from tensorflow.keras.optimizers import Adam\n",
        "import numpy as np"
      ]
    },
    {
      "cell_type": "markdown",
      "id": "96d67008",
      "metadata": {
        "id": "96d67008"
      },
      "source": [
        "3. Generating Synthetic Data:"
      ]
    },
    {
      "cell_type": "markdown",
      "id": "272751c4",
      "metadata": {
        "id": "272751c4"
      },
      "source": [
        "For simplicity, let’s create some synthetic data that follows a simple pattern, which our neural network will learn to predict:"
      ]
    },
    {
      "cell_type": "code",
      "execution_count": null,
      "id": "383e7267",
      "metadata": {
        "id": "383e7267"
      },
      "outputs": [],
      "source": [
        "# Generate random linear data: 100 data points ranging from -10 to 10\n",
        "x = np.linspace(-10, 10, 100)\n",
        "y = 0.5 * x + np.random.normal(0, 1, 100) # y = 0.5x + noise"
      ]
    },
    {
      "cell_type": "markdown",
      "id": "992ccf5e",
      "metadata": {
        "id": "992ccf5e"
      },
      "source": [
        "4. Building the Neural Network Model:"
      ]
    },
    {
      "cell_type": "markdown",
      "id": "56470413",
      "metadata": {
        "id": "56470413"
      },
      "source": [
        "We’ll construct a simple neural network consisting of one input layer, one hidden layer, and one output layer:"
      ]
    },
    {
      "cell_type": "code",
      "execution_count": null,
      "id": "eccc9698",
      "metadata": {
        "id": "eccc9698"
      },
      "outputs": [],
      "source": [
        "# Create a Sequential model\n",
        "model = Sequential()\n",
        "# Add an input layer and a hidden layer with 10 neurons\n",
        "model.add(Dense(10, input_shape=(1,), activation='relu'))\n",
        "# Add an output layer with 1 neuron\n",
        "model.add(Dense(1))\n",
        "# Compile the model\n",
        "model.compile(optimizer='adam', loss='mse')"
      ]
    },
    {
      "cell_type": "markdown",
      "id": "d2552d40",
      "metadata": {
        "id": "d2552d40"
      },
      "source": [
        "5. Training the Model:"
      ]
    },
    {
      "cell_type": "markdown",
      "id": "ae837ead",
      "metadata": {
        "id": "ae837ead"
      },
      "source": [
        "Train the model on the data for 40 epochs, which refers to the number of times the learning algorithm will work through the entire training dataset:"
      ]
    },
    {
      "cell_type": "code",
      "execution_count": null,
      "id": "1be34dc6",
      "metadata": {
        "id": "1be34dc6"
      },
      "outputs": [],
      "source": [
        "# Fit the model\n",
        "model.fit(x, y, epochs=40)"
      ]
    },
    {
      "cell_type": "markdown",
      "id": "8702ebbf",
      "metadata": {
        "id": "8702ebbf"
      },
      "source": [
        "6. Evaluating the Model:"
      ]
    },
    {
      "cell_type": "markdown",
      "id": "dec7e48a",
      "metadata": {
        "id": "dec7e48a"
      },
      "source": [
        "After training, we can evaluate our model’s performance on the same dataset to see how well it has learned the relationship between x and y:"
      ]
    },
    {
      "cell_type": "code",
      "execution_count": null,
      "id": "7b246cc3",
      "metadata": {
        "id": "7b246cc3"
      },
      "outputs": [],
      "source": [
        "# Predict y values for the given x\n",
        "y_pred = model.predict(x)\n",
        "# Plotting the results\n",
        "import matplotlib.pyplot as plt\n",
        "plt.scatter(x, y, color='blue', label='Actual')\n",
        "plt.plot(x, y_pred, color='red', label='Predicted')\n",
        "plt.title('Neural Network Prediction vs Actual Data')\n",
        "plt.xlabel('Input Feature: X')\n",
        "plt.ylabel('Target: Y')\n",
        "plt.legend()\n",
        "plt.show()"
      ]
    },
    {
      "cell_type": "markdown",
      "id": "ab978622",
      "metadata": {
        "id": "ab978622"
      },
      "source": [
        "7. Conclusion:"
      ]
    },
    {
      "cell_type": "markdown",
      "id": "052048aa",
      "metadata": {
        "id": "052048aa"
      },
      "source": [
        "This simple example illustrates the basic steps involved in building and training a neural network using TensorFlow and Keras. Even with a straightforward architecture, neural networks can effectively model relationships within data, making them invaluable tools across a wide range of applications. As you expand from simple models to more complex architectures, TensorFlow and Keras provide the scalability and flexibility needed to tackle more sophisticated problems in deep learning."
      ]
    }
  ],
  "metadata": {
    "colab": {
      "provenance": [],
      "include_colab_link": true
    },
    "language_info": {
      "name": "python"
    },
    "kernelspec": {
      "name": "python3",
      "display_name": "Python 3"
    }
  },
  "nbformat": 4,
  "nbformat_minor": 5
}