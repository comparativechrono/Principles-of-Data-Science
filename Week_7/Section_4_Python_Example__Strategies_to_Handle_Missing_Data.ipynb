{
  "cells": [
    {
      "cell_type": "markdown",
      "metadata": {
        "id": "view-in-github",
        "colab_type": "text"
      },
      "source": [
        "<a href=\"https://colab.research.google.com/github/comparativechrono/Principles-of-Data-Science/blob/main/Week_7/Section_4_Python_Example__Strategies_to_Handle_Missing_Data.ipynb\" target=\"_parent\"><img src=\"https://colab.research.google.com/assets/colab-badge.svg\" alt=\"Open In Colab\"/></a>"
      ]
    },
    {
      "cell_type": "markdown",
      "id": "46ad0bde",
      "metadata": {
        "id": "46ad0bde"
      },
      "source": [
        "#Section 4: Python example - example strategies to handle missing data\n",
        "Handling missing data effectively is crucial in maintaining the integrity of statistical analyses and ensuring robust outcomes in data-driven projects. This section will demonstrate practical Python strategies using Pandas for addressing missing data, showcasing methods to identify, impute, or remove missing values. These techniques are vital for preparing datasets for further analysis or machine learning processes."
      ]
    },
    {
      "cell_type": "markdown",
      "id": "38ee5993",
      "metadata": {
        "id": "38ee5993"
      },
      "source": [
        "1. Setting Up the Environment:"
      ]
    },
    {
      "cell_type": "markdown",
      "id": "cdb9f411",
      "metadata": {
        "id": "cdb9f411"
      },
      "source": [
        "To manage missing data using Python, ensure that you have the Pandas library installed. If Pandas is not already installed in your Python environment, you can install it using pip:"
      ]
    },
    {
      "cell_type": "code",
      "execution_count": null,
      "id": "776707e8",
      "metadata": {
        "id": "776707e8"
      },
      "outputs": [],
      "source": [
        "pip install pandas"
      ]
    },
    {
      "cell_type": "markdown",
      "id": "ffc16bc3",
      "metadata": {
        "id": "ffc16bc3"
      },
      "source": [
        "2. Importing Pandas:"
      ]
    },
    {
      "cell_type": "markdown",
      "id": "8fc1540e",
      "metadata": {
        "id": "8fc1540e"
      },
      "source": [
        "Start by importing the Pandas library, which offers a wide range of functionalities for data manipulation, including handling missing values:"
      ]
    },
    {
      "cell_type": "code",
      "execution_count": null,
      "id": "5a831530",
      "metadata": {
        "id": "5a831530"
      },
      "outputs": [],
      "source": [
        "import pandas as pd"
      ]
    },
    {
      "cell_type": "markdown",
      "id": "0e1a7cdd",
      "metadata": {
        "id": "0e1a7cdd"
      },
      "source": [
        "3. Creating a Sample Dataset with Missing Values:"
      ]
    },
    {
      "cell_type": "markdown",
      "id": "f4bd4974",
      "metadata": {
        "id": "f4bd4974"
      },
      "source": [
        "Let's create a DataFrame that mimics a realistic scenario where data might be missing from various entries:"
      ]
    },
    {
      "cell_type": "code",
      "execution_count": null,
      "id": "eb1c7755",
      "metadata": {
        "id": "eb1c7755"
      },
      "outputs": [],
      "source": [
        "# Create a DataFrame\n",
        "data = { 'Name': ['Alice', 'Bob', 'Charlie', 'David', 'Eva'], 'Age': [25, None, 35, 28, 22], 'Salary': [50000, 54000, None, 48000, 47000] }\n",
        "df = pd.DataFrame(data)\n",
        "print(df)"
      ]
    },
    {
      "cell_type": "markdown",
      "id": "c9b61a8d",
      "metadata": {
        "id": "c9b61a8d"
      },
      "source": [
        "4. Identifying Missing Data:"
      ]
    },
    {
      "cell_type": "markdown",
      "id": "144bda2e",
      "metadata": {
        "id": "144bda2e"
      },
      "source": [
        "Before deciding how to handle missing values, you need to identify where and how much data is missing:"
      ]
    },
    {
      "cell_type": "code",
      "execution_count": null,
      "id": "128421be",
      "metadata": {
        "id": "128421be"
      },
      "outputs": [],
      "source": [
        "# Identifying missing values\n",
        "print(df.isnull()) # Returns a Boolean DataFrame indicating the presence of missing values\n",
        "print(df.isnull().sum()) # Sums up the number of missing values per column"
      ]
    },
    {
      "cell_type": "markdown",
      "id": "efaa6138",
      "metadata": {
        "id": "efaa6138"
      },
      "source": [
        "5. Strategies for Handling Missing Data:"
      ]
    },
    {
      "cell_type": "markdown",
      "id": "8334ab6f",
      "metadata": {
        "id": "8334ab6f"
      },
      "source": [
        "Strategy A: Removing Data"
      ]
    },
    {
      "cell_type": "markdown",
      "id": "34bb2aec",
      "metadata": {
        "id": "34bb2aec"
      },
      "source": [
        "Listwise Deletion: Remove any rows that contain missing data. This method is straightforward but can lead to significant data loss, which might not be ideal if the dataset isn't large."
      ]
    },
    {
      "cell_type": "code",
      "execution_count": null,
      "id": "1f339b9f",
      "metadata": {
        "id": "1f339b9f"
      },
      "outputs": [],
      "source": [
        "# Removing rows with any missing data\n",
        "df_dropped = df.dropna()\n",
        "print(df_dropped)"
      ]
    },
    {
      "cell_type": "markdown",
      "id": "86691d74",
      "metadata": {
        "id": "86691d74"
      },
      "source": [
        "Strategy B: Imputation"
      ]
    },
    {
      "cell_type": "markdown",
      "id": "a7280aec",
      "metadata": {
        "id": "a7280aec"
      },
      "source": [
        "Mean Imputation: Replace missing numerical data with the mean value of the respective column."
      ]
    },
    {
      "cell_type": "code",
      "execution_count": null,
      "id": "913dac41",
      "metadata": {
        "id": "913dac41"
      },
      "outputs": [],
      "source": [
        "# Imputing missing values with the mean\n",
        "df['Age'].fillna(value=df['Age'].mean(), inplace=True)"
      ]
    },
    {
      "cell_type": "markdown",
      "id": "6c8f9876",
      "metadata": {
        "id": "6c8f9876"
      },
      "source": [
        "Forward Fill and Backward Fill: In time series data or scenarios where data observations have an order, you can propagate last known values forward or backward."
      ]
    },
    {
      "cell_type": "code",
      "execution_count": null,
      "id": "8da83452",
      "metadata": {
        "id": "8da83452"
      },
      "outputs": [],
      "source": [
        "# Forward fill\n",
        "df['Salary'].fillna(method='ffill', inplace=True)\n",
        "# Backward fill (if forward fill was not applied)\n",
        "df['Salary'].fillna(method='bfill', inplace=True)"
      ]
    },
    {
      "cell_type": "markdown",
      "id": "4e66e20e",
      "metadata": {
        "id": "4e66e20e"
      },
      "source": [
        "6. Advanced Imputation Techniques:"
      ]
    },
    {
      "cell_type": "markdown",
      "id": "76dbe6d3",
      "metadata": {
        "id": "76dbe6d3"
      },
      "source": [
        "For a more sophisticated approach, you could consider using interpolation methods or predictive modeling to impute missing values. These methods can be particularly useful in datasets where patterns can indicate the likely values of missing data."
      ]
    },
    {
      "cell_type": "code",
      "execution_count": null,
      "id": "a5845ed9",
      "metadata": {
        "id": "a5845ed9"
      },
      "outputs": [],
      "source": [
        "# Interpolating missing values\n",
        "df['Age'] = df['Age'].interpolate(method='linear') # Only works if the 'Age' column is of a numeric type\n",
        "# Displaying the DataFrame after imputation\n",
        "print(df)"
      ]
    },
    {
      "cell_type": "markdown",
      "id": "bb629e3e",
      "metadata": {
        "id": "bb629e3e"
      },
      "source": [
        "7. Conclusion:"
      ]
    },
    {
      "cell_type": "markdown",
      "id": "8d4b7f92",
      "metadata": {
        "id": "8d4b7f92"
      },
      "source": [
        "Handling missing data is a critical preprocessing task that needs careful consideration. The strategies chosen can significantly affect the outcomes of any subsequent analysis or predictive modeling. Using Python and Pandas, data scientists can implement a range of techniques from simple deletions to complex imputations, tailored to the specific requirements and nature of the data they are dealing with. Effective management of missing data enhances the reliability of statistical analyses, ensuring that the insights derived are based on a comprehensive and accurately represented dataset."
      ]
    }
  ],
  "metadata": {
    "colab": {
      "provenance": [],
      "include_colab_link": true
    }
  },
  "nbformat": 4,
  "nbformat_minor": 5
}