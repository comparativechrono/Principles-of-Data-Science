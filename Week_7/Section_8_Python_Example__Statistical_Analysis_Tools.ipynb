{
  "cells": [
    {
      "cell_type": "markdown",
      "metadata": {
        "id": "view-in-github",
        "colab_type": "text"
      },
      "source": [
        "<a href=\"https://colab.research.google.com/github/comparativechrono/Principles-of-Data-Science/blob/main/Week_7/Section_8_Python_Example__Statistical_Analysis_Tools.ipynb\" target=\"_parent\"><img src=\"https://colab.research.google.com/assets/colab-badge.svg\" alt=\"Open In Colab\"/></a>"
      ]
    },
    {
      "cell_type": "markdown",
      "id": "79f7769f",
      "metadata": {
        "id": "79f7769f"
      },
      "source": [
        "#Section 8: Python example - statistical analysis tools\n",
        "Statistical analysis is a cornerstone of data science, providing methods to interpret data, draw conclusions, and make predictions. Python, with its rich ecosystem of libraries, offers a comprehensive suite of tools for conducting statistical analysis. This section will demonstrate practical examples of utilizing Python’s capabilities to perform statistical analysis, highlighting tools and techniques that can help uncover insights within data."
      ]
    },
    {
      "cell_type": "markdown",
      "id": "774c39c7",
      "metadata": {
        "id": "774c39c7"
      },
      "source": [
        "1. Setting Up the Environment:"
      ]
    },
    {
      "cell_type": "markdown",
      "id": "8656f36f",
      "metadata": {
        "id": "8656f36f"
      },
      "source": [
        "To perform statistical analysis in Python, it's essential to have access to libraries such as SciPy for statistical tests, NumPy for numerical operations, and statsmodels for more advanced statistical modeling. If these libraries are not already installed, you can install them using pip:"
      ]
    },
    {
      "cell_type": "code",
      "execution_count": null,
      "id": "42c4ead6",
      "metadata": {
        "id": "42c4ead6"
      },
      "outputs": [],
      "source": [
        "pip install numpy scipy statsmodels"
      ]
    },
    {
      "cell_type": "markdown",
      "id": "a3117500",
      "metadata": {
        "id": "a3117500"
      },
      "source": [
        "2. Importing Required Libraries:"
      ]
    },
    {
      "cell_type": "markdown",
      "id": "2072dc20",
      "metadata": {
        "id": "2072dc20"
      },
      "source": [
        "Begin by importing the necessary libraries. NumPy will be used for handling numerical data, SciPy for performing specific statistical tests, and statsmodels for regression analysis and more:"
      ]
    },
    {
      "cell_type": "code",
      "execution_count": null,
      "id": "6b6b8856",
      "metadata": {
        "id": "6b6b8856"
      },
      "outputs": [],
      "source": [
        "import numpy as np\n",
        "import scipy.stats as stats\n",
        "import statsmodels.api as sm\n",
        "import matplotlib.pyplot as plt"
      ]
    },
    {
      "cell_type": "markdown",
      "id": "2773c3ba",
      "metadata": {
        "id": "2773c3ba"
      },
      "source": [
        "3. Generating Sample Data:"
      ]
    },
    {
      "cell_type": "markdown",
      "id": "32093ade",
      "metadata": {
        "id": "32093ade"
      },
      "source": [
        "For our example, let’s generate some sample data that could represent test scores from different groups:"
      ]
    },
    {
      "cell_type": "code",
      "execution_count": null,
      "id": "8a1e1ca4",
      "metadata": {
        "id": "8a1e1ca4"
      },
      "outputs": [],
      "source": [
        "# Generate test scores for three different groups\n",
        "np.random.seed(0)\n",
        "group1 = np.random.normal(70, 10, 200)\n",
        "group2 = np.random.normal(75, 12, 200)\n",
        "group3 = np.random.normal(80, 15, 200)"
      ]
    },
    {
      "cell_type": "markdown",
      "id": "3810f2bc",
      "metadata": {
        "id": "3810f2bc"
      },
      "source": [
        "4. Descriptive Statistics:"
      ]
    },
    {
      "cell_type": "markdown",
      "id": "3e1a0c50",
      "metadata": {
        "id": "3e1a0c50"
      },
      "source": [
        "Calculate and display descriptive statistics for this sample data, which provide an initial understanding of the central tendency and dispersion:"
      ]
    },
    {
      "cell_type": "code",
      "execution_count": null,
      "id": "2edb68ff",
      "metadata": {
        "id": "2edb68ff"
      },
      "outputs": [],
      "source": [
        "# Calculate means and standard deviations\n",
        "means = [np.mean(group) for group in [group1, group2, group3]]\n",
        "stddevs = [np.std(group) for group in [group1, group2, group3]]\n",
        "print(\"Means:\", means)\n",
        "print(\"Standard Deviations:\", stddevs)"
      ]
    },
    {
      "cell_type": "markdown",
      "id": "b5681256",
      "metadata": {
        "id": "b5681256"
      },
      "source": [
        "5. Visualizing the Data:"
      ]
    },
    {
      "cell_type": "markdown",
      "id": "c6868fd8",
      "metadata": {
        "id": "c6868fd8"
      },
      "source": [
        "Use histograms to visualize the distribution of scores within the groups:"
      ]
    },
    {
      "cell_type": "code",
      "execution_count": null,
      "id": "38301b01",
      "metadata": {
        "id": "38301b01"
      },
      "outputs": [],
      "source": [
        "# Plot histograms\n",
        "plt.hist(group1, alpha=0.7, label='Group 1')\n",
        "plt.hist(group2, alpha=0.7, label='Group 2')\n",
        "plt.hist(group3, alpha=0.7, label='Group 3')\n",
        "plt.title('Distribution of Scores')\n",
        "plt.xlabel('Scores')\n",
        "plt.ylabel('Frequency')\n",
        "plt.legend()\n",
        "plt.show()"
      ]
    },
    {
      "cell_type": "markdown",
      "id": "323fef1a",
      "metadata": {
        "id": "323fef1a"
      },
      "source": [
        "6. Hypothesis Testing:"
      ]
    },
    {
      "cell_type": "markdown",
      "id": "c655fad7",
      "metadata": {
        "id": "c655fad7"
      },
      "source": [
        "Conduct an ANOVA test to determine if there are statistically significant differences between the means of the three groups:"
      ]
    },
    {
      "cell_type": "code",
      "execution_count": null,
      "id": "58250511",
      "metadata": {
        "id": "58250511"
      },
      "outputs": [],
      "source": [
        "# Perform ANOVA\n",
        "anova_result = stats.f_oneway(group1, group2, group3)\n",
        "print(\"ANOVA Result: F-statistic =\", anova_result.statistic, \"P-value =\", anova_result.pvalue)"
      ]
    },
    {
      "cell_type": "markdown",
      "id": "de22e565",
      "metadata": {
        "id": "de22e565"
      },
      "source": [
        "7. Regression Analysis:"
      ]
    },
    {
      "cell_type": "markdown",
      "id": "ecedc6eb",
      "metadata": {
        "id": "ecedc6eb"
      },
      "source": [
        "Use statsmodels to perform a regression analysis, which can help understand how variables predict or affect one another:"
      ]
    },
    {
      "cell_type": "code",
      "execution_count": null,
      "id": "5dae1748",
      "metadata": {
        "id": "5dae1748"
      },
      "outputs": [],
      "source": [
        "# Add a constant term for the intercept\n",
        "X = np.concatenate([group1, group2, group3])\n",
        "X = sm.add_constant(X)\n",
        "# Adding a constant for the intercept\n",
        "Y = np.concatenate([np.ones_like(group1), 2*np.ones_like(group2), 3*np.ones_like(group3)])\n",
        "# Response variable\n",
        "model = sm.OLS(Y, X).fit()\n",
        "print(model.summary())"
      ]
    },
    {
      "cell_type": "markdown",
      "id": "303140e4",
      "metadata": {
        "id": "303140e4"
      },
      "source": [
        "8. Conclusion:"
      ]
    },
    {
      "cell_type": "markdown",
      "id": "8a7c9e65",
      "metadata": {
        "id": "8a7c9e65"
      },
      "source": [
        "These examples illustrate just a few ways Python can be employed for statistical analysis. By leveraging libraries like NumPy, SciPy, and statsmodels, Python becomes an extraordinarily powerful tool for statistical testing, helping to uncover underlying patterns, test hypotheses, and model complex relationships within data. Whether it’s through descriptive statistics, visualization, or inferential statistics, Python’s capabilities enable thorough and insightful exploratory data analyses."
      ]
    }
  ],
  "metadata": {
    "colab": {
      "provenance": [],
      "include_colab_link": true
    },
    "language_info": {
      "name": "python"
    },
    "kernelspec": {
      "name": "python3",
      "display_name": "Python 3"
    }
  },
  "nbformat": 4,
  "nbformat_minor": 5
}