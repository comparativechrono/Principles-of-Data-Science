{
  "cells": [
    {
      "cell_type": "markdown",
      "metadata": {
        "id": "view-in-github",
        "colab_type": "text"
      },
      "source": [
        "<a href=\"https://colab.research.google.com/github/comparativechrono/Principles-of-Data-Science/blob/main/Week_7/Section_10_Python_Example__Creating_Reports_with_Python.ipynb\" target=\"_parent\"><img src=\"https://colab.research.google.com/assets/colab-badge.svg\" alt=\"Open In Colab\"/></a>"
      ]
    },
    {
      "cell_type": "markdown",
      "id": "a2d57659",
      "metadata": {
        "id": "a2d57659"
      },
      "source": [
        "# Section 10: python example- creating reports with python\n",
        "\n",
        "In data science, the ability to communicate findings effectively is as critical as the technical capacity to perform data analysis. Python offers several libraries that can be used to create comprehensive reports combining narratives, analyses, visualizations, and interactive elements. This section demonstrates how to use Python for creating dynamic reports that effectively communicate the insights derived from data."
      ]
    },
    {
      "cell_type": "markdown",
      "id": "3491dc2b",
      "metadata": {
        "id": "3491dc2b"
      },
      "source": [
        "1. Setting Up the Environment:"
      ]
    },
    {
      "cell_type": "markdown",
      "id": "ccace3b1",
      "metadata": {
        "id": "ccace3b1"
      },
      "source": [
        "To create rich, interactive reports in Python, you may need to use several libraries. For static visualizations, matplotlib and seaborn are excellent choices, while plotly and dash provide interactive capabilities. For report generation, Jupyter Notebooks can be converted into shareable formats using nbconvert, and pandas provides excellent data manipulation capabilities. Install these libraries if they are not already present:"
      ]
    },
    {
      "cell_type": "code",
      "execution_count": null,
      "id": "78392e2f",
      "metadata": {
        "id": "78392e2f"
      },
      "outputs": [],
      "source": [
        "pip install matplotlib seaborn plotly dash jupyter pandas"
      ]
    },
    {
      "cell_type": "markdown",
      "id": "8f80aa23",
      "metadata": {
        "id": "8f80aa23"
      },
      "source": [
        "2. Importing Required Libraries:"
      ]
    },
    {
      "cell_type": "markdown",
      "id": "dfcdf816",
      "metadata": {
        "id": "dfcdf816"
      },
      "source": [
        "Import the necessary libraries to handle data manipulation, visualization, and the creation of interactive elements:"
      ]
    },
    {
      "cell_type": "code",
      "execution_count": null,
      "id": "9eb0d9b7",
      "metadata": {
        "id": "9eb0d9b7"
      },
      "outputs": [],
      "source": [
        "import pandas as pd\n",
        "import matplotlib.pyplot as plt\n",
        "import seaborn as sns\n",
        "import plotly.express as px"
      ]
    },
    {
      "cell_type": "markdown",
      "id": "64080de9",
      "metadata": {
        "id": "64080de9"
      },
      "source": [
        "3. Preparing the Data:"
      ]
    },
    {
      "cell_type": "markdown",
      "id": "f4dcf0bd",
      "metadata": {
        "id": "f4dcf0bd"
      },
      "source": [
        "For this example, let's assume we have a dataset containing sales and marketing data which we want to analyse and report:"
      ]
    },
    {
      "cell_type": "code",
      "execution_count": null,
      "id": "22ba0ac1",
      "metadata": {
        "id": "22ba0ac1"
      },
      "outputs": [],
      "source": [
        "# Create a sample DataFrame\n",
        "data = pd.DataFrame({ 'Month': ['January', 'February', 'March', 'April', 'May', 'June'], 'Sales': [242, 250, 215, 275, 290, 310], 'Marketing Spend': [20, 25, 18, 22, 27, 30] })"
      ]
    },
    {
      "cell_type": "markdown",
      "id": "2486b0b2",
      "metadata": {
        "id": "2486b0b2"
      },
      "source": [
        "4. Creating Visualizations:"
      ]
    },
    {
      "cell_type": "markdown",
      "id": "9a228601",
      "metadata": {
        "id": "9a228601"
      },
      "source": [
        "Generate visualizations that will form part of the report:"
      ]
    },
    {
      "cell_type": "code",
      "execution_count": null,
      "id": "5a7fce3a",
      "metadata": {
        "id": "5a7fce3a"
      },
      "outputs": [],
      "source": [
        "# Line plot for sales data\n",
        "plt.figure(figsize=(10, 5))\n",
        "plt.plot(data['Month'], data['Sales'], marker='o')\n",
        "plt.title('Monthly Sales Data')\n",
        "plt.xlabel('Month')\n",
        "plt.ylabel('Sales')\n",
        "plt.grid(True)\n",
        "plt.savefig('monthly_sales.png')\n",
        "plt.show()\n",
        "# Interactive plot using Plotly\n",
        "fig = px.bar(data, x='Month', y='Marketing Spend', title='Monthly Marketing Spend')\n",
        "fig.write_html('monthly_marketing_spend.html')\n",
        "fig.show()"
      ]
    },
    {
      "cell_type": "markdown",
      "id": "28d20474",
      "metadata": {
        "id": "28d20474"
      },
      "source": [
        "5. Writing the Report:"
      ]
    },
    {
      "cell_type": "markdown",
      "id": "ae674c8d",
      "metadata": {
        "id": "ae674c8d"
      },
      "source": [
        "We could just use a Jupyter Notebook to combine narrative, code, and plots into a cohesive report. But for a professional finish, write your report into a PDF. The next section goes through how to do this in a reliable fashion."
      ]
    },
    {
      "cell_type": "markdown",
      "id": "47713cd2",
      "metadata": {
        "id": "47713cd2"
      },
      "source": [
        "## Enhancing Python Reports with PDF Generation"
      ]
    },
    {
      "cell_type": "markdown",
      "id": "0f687a66",
      "metadata": {
        "id": "0f687a66"
      },
      "source": [
        "Creating PDF reports directly from Python scripts provides a professional and portable format for distributing analyses and insights. A popular tool for generating PDFs in Python is ReportLab, which allows for extensive customization and embedding of images and text. Here’s how you can enhance your reporting capabilities by including the ability to generate PDF reports directly from your Python analysis scripts."
      ]
    },
    {
      "cell_type": "markdown",
      "id": "e74fa897",
      "metadata": {
        "id": "e74fa897"
      },
      "source": [
        "1. Setting Up the Environment:"
      ]
    },
    {
      "cell_type": "markdown",
      "id": "a8847ed9",
      "metadata": {
        "id": "a8847ed9"
      },
      "source": [
        "To generate PDF reports, you'll need to install the ReportLab library, which is the leading toolkit for PDF generation in Python:"
      ]
    },
    {
      "cell_type": "code",
      "execution_count": null,
      "id": "ede1d62a",
      "metadata": {
        "id": "ede1d62a"
      },
      "outputs": [],
      "source": [
        "pip install reportlab"
      ]
    },
    {
      "cell_type": "markdown",
      "id": "6afe0634",
      "metadata": {
        "id": "6afe0634"
      },
      "source": [
        "2. Importing Required Libraries:"
      ]
    },
    {
      "cell_type": "markdown",
      "id": "07a7102a",
      "metadata": {
        "id": "07a7102a"
      },
      "source": [
        "Along with ReportLab, ensure you have Pandas for data manipulation and Matplotlib for creating plots that you will embed in the PDF:"
      ]
    },
    {
      "cell_type": "code",
      "execution_count": null,
      "id": "436342ca",
      "metadata": {
        "id": "436342ca"
      },
      "outputs": [],
      "source": [
        "import pandas as pd\n",
        "import matplotlib.pyplot as plt\n",
        "from reportlab.pdfgen import canvas\n",
        "from reportlab.lib.pagesizes import letter"
      ]
    },
    {
      "cell_type": "markdown",
      "id": "ada13d7a",
      "metadata": {
        "id": "ada13d7a"
      },
      "source": [
        "3. Preparing Data and Visualizations:"
      ]
    },
    {
      "cell_type": "markdown",
      "id": "c793978d",
      "metadata": {
        "id": "c793978d"
      },
      "source": [
        "As before, let's use a sample dataset to perform analyses and create visualizations:"
      ]
    },
    {
      "cell_type": "code",
      "execution_count": null,
      "id": "993ffaf0",
      "metadata": {
        "id": "993ffaf0"
      },
      "outputs": [],
      "source": [
        "# Sample DataFrame\n",
        "data = pd.DataFrame({ 'Month': ['January', 'February', 'March', 'April', 'May', 'June'], 'Sales': [242, 250, 215, 275, 290, 310], 'Marketing Spend': [20, 25, 18, 22, 27, 30] })\n",
        "# Creating a plot\n",
        "plt.figure(figsize=(8, 4))\n",
        "plt.plot(data['Month'], data['Sales'], marker='o')\n",
        "plt.title('Monthly Sales Trends')\n",
        "plt.xlabel('Month')\n",
        "plt.ylabel('Sales')\n",
        "plt.tight_layout()\n",
        "plot_path = 'sales_plot.png'\n",
        "plt.savefig(plot_path)\n",
        "plt.close()"
      ]
    },
    {
      "cell_type": "markdown",
      "id": "a14fc3dd",
      "metadata": {
        "id": "a14fc3dd"
      },
      "source": [
        "4. Generating PDF Report:"
      ]
    },
    {
      "cell_type": "markdown",
      "id": "6f5b0026",
      "metadata": {
        "id": "6f5b0026"
      },
      "source": [
        "Use ReportLab to create a PDF report that includes the descriptive statistics and the saved plot:"
      ]
    },
    {
      "cell_type": "code",
      "execution_count": null,
      "id": "b3c8a18a",
      "metadata": {
        "id": "b3c8a18a"
      },
      "outputs": [],
      "source": [
        "# Create a PDF with ReportLab\n",
        "pdf_path = 'Monthly_Report.pdf'\n",
        "c = canvas.Canvas(pdf_path, pagesize=letter)\n",
        "width, height = letter # Get the dimensions of the page\n",
        "# Add a title\n",
        "c.setFont(\"Helvetica-Bold\", 16)\n",
        "c.drawCentredString(width / 2.0, height - 50, \"Sales and Marketing Report\")\n",
        "# Insert the plot\n",
        "c.drawImage(plot_path, 100, height - 450, width=400, preserveAspectRatio=True, mask='auto')\n",
        "# Add some descriptive statistics\n",
        "c.setFont(\"Helvetica\", 12)\n",
        "c.drawString(100, height - 500, f\"Mean Sales: {data['Sales'].mean():.2f}\")\n",
        "c.drawString(100, height - 525, f\"Total Marketing Spend: {data['Marketing Spend'].sum()}\")\n",
        "# Save the PDF\n",
        "c.showPage()\n",
        "c.save()"
      ]
    },
    {
      "cell_type": "markdown",
      "id": "631ae165",
      "metadata": {
        "id": "631ae165"
      },
      "source": [
        "5. Automating and Distributing the Report:"
      ]
    },
    {
      "cell_type": "markdown",
      "id": "8419e08c",
      "metadata": {
        "id": "8419e08c"
      },
      "source": [
        "For ongoing reports, you could automate this script to run at specified intervals (e.g., monthly) using a task scheduler like cron (Linux/Mac) or Task Scheduler (Windows). The resulting PDF can then be automatically distributed via email using SMTP."
      ]
    },
    {
      "cell_type": "markdown",
      "id": "d390084d",
      "metadata": {
        "id": "d390084d"
      },
      "source": [
        "6. Conclusion:"
      ]
    },
    {
      "cell_type": "markdown",
      "id": "0c949b9d",
      "metadata": {
        "id": "0c949b9d"
      },
      "source": [
        "Integrating PDF generation into your Python reporting scripts adds a layer of professionalism and enhances the accessibility of your reports. Using ReportLab allows for custom report designs that can be tailored to meet various formatting and branding requirements. This method ensures that stakeholders receive timely, visually appealing, and information-rich reports that aid strategic decision-making and provide archival-quality documentation of analytical insights. By leveraging Python's powerful ecosystem, including libraries like Pandas, Matplotlib, and ReportLab, data scientists can streamline the end-to-end process of data analysis, reporting, and communication."
      ]
    }
  ],
  "metadata": {
    "colab": {
      "provenance": [],
      "include_colab_link": true
    },
    "language_info": {
      "name": "python"
    },
    "kernelspec": {
      "name": "python3",
      "display_name": "Python 3"
    }
  },
  "nbformat": 4,
  "nbformat_minor": 5
}