{
  "cells": [
    {
      "cell_type": "markdown",
      "metadata": {
        "id": "view-in-github",
        "colab_type": "text"
      },
      "source": [
        "<a href=\"https://colab.research.google.com/github/comparativechrono/Principles-of-Data-Science/blob/main/Week_7/Section_2_Python_Example__Visual_Data_Analysis_with_Matplotlib.ipynb\" target=\"_parent\"><img src=\"https://colab.research.google.com/assets/colab-badge.svg\" alt=\"Open In Colab\"/></a>"
      ]
    },
    {
      "cell_type": "markdown",
      "id": "ee695568",
      "metadata": {
        "id": "ee695568"
      },
      "source": [
        "#Section 2 - Python example - visual data analysis with matplotlib\n",
        "Visual data analysis is an integral part of exploratory data analysis (EDA), providing an immediate way to recognize trends, distributions, and anomalies that might not be apparent from raw data alone. Matplotlib, a versatile plotting library in Python, is widely used for creating a wide range of static, animated, and interactive visualizations. This section provides a detailed Python example demonstrating how to use Matplotlib for visual data analysis, focusing on common types of plots and their application in understanding data."
      ]
    },
    {
      "cell_type": "markdown",
      "id": "7ec16d4d",
      "metadata": {
        "id": "7ec16d4d"
      },
      "source": [
        "1. Setting Up the Environment:"
      ]
    },
    {
      "cell_type": "markdown",
      "id": "099377c3",
      "metadata": {
        "id": "099377c3"
      },
      "source": [
        "To use Matplotlib for data visualization, ensure your Python environment includes Matplotlib. If it’s not installed, you can easily add it via pip:"
      ]
    },
    {
      "cell_type": "code",
      "execution_count": null,
      "id": "9a716213",
      "metadata": {
        "id": "9a716213"
      },
      "outputs": [],
      "source": [
        "pip install matplotlib"
      ]
    },
    {
      "cell_type": "markdown",
      "id": "8f990af6",
      "metadata": {
        "id": "8f990af6"
      },
      "source": [
        "2. Importing Required Libraries:"
      ]
    },
    {
      "cell_type": "markdown",
      "id": "a668acfd",
      "metadata": {
        "id": "a668acfd"
      },
      "source": [
        "Alongside Matplotlib, it's common to use Pandas for handling data, as it provides convenient data structures and data manipulation methods that integrate well with plotting functions."
      ]
    },
    {
      "cell_type": "code",
      "execution_count": null,
      "id": "f732c601",
      "metadata": {
        "id": "f732c601"
      },
      "outputs": [],
      "source": [
        "import pandas as pd\n",
        "import matplotlib.pyplot as plt"
      ]
    },
    {
      "cell_type": "markdown",
      "id": "c08c511d",
      "metadata": {
        "id": "c08c511d"
      },
      "source": [
        "3. Preparing Data:"
      ]
    },
    {
      "cell_type": "markdown",
      "id": "04c4e9ce",
      "metadata": {
        "id": "04c4e9ce"
      },
      "source": [
        "For this example, let’s use a simple dataset that represents sales data across different regions:"
      ]
    },
    {
      "cell_type": "code",
      "execution_count": null,
      "id": "4631070a",
      "metadata": {
        "id": "4631070a"
      },
      "outputs": [],
      "source": [
        "# Create a sample DataFrame\n",
        "data = pd.DataFrame({ 'Month': ['Jan', 'Feb', 'Mar', 'Apr', 'May', 'Jun'], 'Sales': [200, 220, 250, 210, 215, 235], 'Region': ['East', 'West', 'East', 'West', 'East', 'West'] })"
      ]
    },
    {
      "cell_type": "markdown",
      "id": "be6331c7",
      "metadata": {
        "id": "be6331c7"
      },
      "source": [
        "4. Basic Line Plot:"
      ]
    },
    {
      "cell_type": "markdown",
      "id": "a16290b8",
      "metadata": {
        "id": "a16290b8"
      },
      "source": [
        "A line plot is suitable for visualizing data changes over time, showing trends in a straightforward manner."
      ]
    },
    {
      "cell_type": "code",
      "execution_count": null,
      "id": "5278cb28",
      "metadata": {
        "id": "5278cb28"
      },
      "outputs": [],
      "source": [
        "# Plotting monthly sales data\n",
        "plt.figure(figsize=(10, 5))\n",
        "plt.plot(data['Month'], data['Sales'], marker='o')\n",
        "plt.title('Monthly Sales Data')\n",
        "plt.xlabel('Month')\n",
        "plt.ylabel('Sales')\n",
        "plt.grid(True)\n",
        "plt.show()"
      ]
    },
    {
      "cell_type": "markdown",
      "id": "edc90c86",
      "metadata": {
        "id": "edc90c86"
      },
      "source": [
        "5. Bar Plot for Categorical Comparison:"
      ]
    },
    {
      "cell_type": "markdown",
      "id": "f0637f57",
      "metadata": {
        "id": "f0637f57"
      },
      "source": [
        "Bar plots are useful for comparing quantities corresponding to different groups or categories."
      ]
    },
    {
      "cell_type": "code",
      "execution_count": null,
      "id": "98ee25f5",
      "metadata": {
        "id": "98ee25f5"
      },
      "outputs": [],
      "source": [
        "# Aggregate sales by region\n",
        "region_sales = data.groupby('Region')['Sales'].sum()\n",
        "# Creating a bar plot\n",
        "plt.figure(figsize=(7, 4))\n",
        "plt.bar(region_sales.index, region_sales.values, color='blue')\n",
        "plt.title('Sales by Region')\n",
        "plt.xlabel('Region')\n",
        "plt.ylabel('Total Sales')\n",
        "plt.show()"
      ]
    },
    {
      "cell_type": "markdown",
      "id": "7fa539dc",
      "metadata": {
        "id": "7fa539dc"
      },
      "source": [
        "6. Histogram for Distribution Analysis:"
      ]
    },
    {
      "cell_type": "markdown",
      "id": "13e086b7",
      "metadata": {
        "id": "13e086b7"
      },
      "source": [
        "Histograms help analyse the distribution of continuous data variables."
      ]
    },
    {
      "cell_type": "code",
      "execution_count": null,
      "id": "4ebc3683",
      "metadata": {
        "id": "4ebc3683"
      },
      "outputs": [],
      "source": [
        "# Generate a larger dataset for histogram\n",
        "np.random.seed(0)\n",
        "sales_data = np.random.normal(loc=200, scale=30, size=300)\n",
        "# Creating a histogram\n",
        "plt.figure(figsize=(7, 4))\n",
        "plt.hist(sales_data, bins=15, color='green', alpha=0.7)\n",
        "plt.title('Sales Distribution')\n",
        "plt.xlabel('Sales')\n",
        "plt.ylabel('Frequency')\n",
        "plt.show()"
      ]
    },
    {
      "cell_type": "markdown",
      "id": "fd8273c1",
      "metadata": {
        "id": "fd8273c1"
      },
      "source": [
        "7. Scatter Plot for Relationship Observations:"
      ]
    },
    {
      "cell_type": "markdown",
      "id": "f06fd2d9",
      "metadata": {
        "id": "f06fd2d9"
      },
      "source": [
        "Scatter plots are essential for observing the relationships between two continuous variables."
      ]
    },
    {
      "cell_type": "code",
      "execution_count": null,
      "id": "9b07e396",
      "metadata": {
        "id": "9b07e396"
      },
      "outputs": [],
      "source": [
        "# Simulate a second variable\n",
        "data['Customer Traffic'] = data['Sales'] * 1.5 + np.random.normal(50, 10, size=len(data))\n",
        "# Creating a scatter plot\n",
        "plt.figure(figsize=(7, 4))\n",
        "plt.scatter(data['Sales'], data['Customer Traffic'], color='red')\n",
        "plt.title('Sales vs. Customer Traffic')\n",
        "plt.xlabel('Sales')\n",
        "plt.ylabel('Customer Traffic')\n",
        "plt.grid(True)\n",
        "plt.show()"
      ]
    },
    {
      "cell_type": "markdown",
      "id": "d20ddc1e",
      "metadata": {
        "id": "d20ddc1e"
      },
      "source": [
        "8. Box Plot for Statistical Summaries:"
      ]
    },
    {
      "cell_type": "markdown",
      "id": "fb7f0ed8",
      "metadata": {
        "id": "fb7f0ed8"
      },
      "source": [
        "Box plots provide summaries of the numerical data through their quartiles, highlighting outliers effectively."
      ]
    },
    {
      "cell_type": "code",
      "execution_count": null,
      "id": "1ac4013b",
      "metadata": {
        "id": "1ac4013b"
      },
      "outputs": [],
      "source": [
        "# Box plot\n",
        "plt.figure(figsize=(7, 4))\n",
        "plt.boxplot([data['Sales'], data['Customer Traffic']], labels=['Sales', 'Customer Traffic'])\n",
        "plt.title('Sales and Customer Traffic Distribution')\n",
        "plt.ylabel('Values')\n",
        "plt.grid(True)\n",
        "plt.show()"
      ]
    },
    {
      "cell_type": "markdown",
      "id": "541a902b",
      "metadata": {
        "id": "541a902b"
      },
      "source": [
        "9. Conclusion:"
      ]
    },
    {
      "cell_type": "markdown",
      "id": "c7c63500",
      "metadata": {
        "id": "c7c63500"
      },
      "source": [
        "Visual data analysis using Matplotlib enables data scientists to quickly identify patterns, trends, and outliers in data. The ability to visualize complex information through plots and charts not only facilitates a deeper understanding of the data but also assists in communicating findings clearly and effectively to stakeholders. Mastery of these visualization techniques is a crucial skill for any data analyst or scientist, significantly enhancing the exploratory data analysis process."
      ]
    }
  ],
  "metadata": {
    "colab": {
      "provenance": [],
      "include_colab_link": true
    }
  },
  "nbformat": 4,
  "nbformat_minor": 5
}