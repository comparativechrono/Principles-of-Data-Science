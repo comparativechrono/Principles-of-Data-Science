{
  "cells": [
    {
      "cell_type": "markdown",
      "metadata": {
        "id": "view-in-github",
        "colab_type": "text"
      },
      "source": [
        "<a href=\"https://colab.research.google.com/github/comparativechrono/Principles-of-Data-Science/blob/main/Week_8/Section_4_Python_Example__Regression_and_Classification_Models.ipynb\" target=\"_parent\"><img src=\"https://colab.research.google.com/assets/colab-badge.svg\" alt=\"Open In Colab\"/></a>"
      ]
    },
    {
      "cell_type": "markdown",
      "source": [
        "#Section 4: Python example - regression and classification models"
      ],
      "metadata": {
        "id": "Wks33oK86zCR"
      },
      "id": "Wks33oK86zCR"
    },
    {
      "cell_type": "markdown",
      "id": "cb585518",
      "metadata": {
        "id": "cb585518"
      },
      "source": [
        "In predictive modelling, regression and classification are two foundational techniques used to predict continuous outcomes and to classify data into categories, respectively. This section provides practical Python examples for implementing both types of models using scikit-learn, a robust library for machine learning in Python. The examples will demonstrate how to build, evaluate, and interpret a linear regression model and a logistic regression model."
      ]
    },
    {
      "cell_type": "markdown",
      "id": "e1d8b24f",
      "metadata": {
        "id": "e1d8b24f"
      },
      "source": [
        "1. Setting Up the Environment:"
      ]
    },
    {
      "cell_type": "markdown",
      "id": "5fefd690",
      "metadata": {
        "id": "5fefd690"
      },
      "source": [
        "To begin, ensure that your Python environment is equipped with scikit-learn. If it's not installed, you can easily add it via pip:"
      ]
    },
    {
      "cell_type": "code",
      "execution_count": null,
      "id": "4d6f8b01",
      "metadata": {
        "id": "4d6f8b01"
      },
      "outputs": [],
      "source": [
        "pip install scikit-learn"
      ]
    },
    {
      "cell_type": "markdown",
      "id": "3d4140a4",
      "metadata": {
        "id": "3d4140a4"
      },
      "source": [
        "2. Importing Required Libraries:"
      ]
    },
    {
      "cell_type": "markdown",
      "id": "e20f44fa",
      "metadata": {
        "id": "e20f44fa"
      },
      "source": [
        "In addition to scikit-learn, import Pandas for data manipulation and matplotlib for visualization:"
      ]
    },
    {
      "cell_type": "code",
      "execution_count": null,
      "id": "723f9937",
      "metadata": {
        "id": "723f9937"
      },
      "outputs": [],
      "source": [
        "import pandas as pd\n",
        "import numpy as np\n",
        "from sklearn.model_selection import train_test_split\n",
        "from sklearn.linear_model import LinearRegression, LogisticRegression\n",
        "from sklearn.metrics import mean_squared_error, confusion_matrix, accuracy_score\n",
        "import matplotlib.pyplot as plt"
      ]
    },
    {
      "cell_type": "markdown",
      "id": "f723e4d0",
      "metadata": {
        "id": "f723e4d0"
      },
      "source": [
        "3. Preparing the Data:"
      ]
    },
    {
      "cell_type": "markdown",
      "id": "2d707f8b",
      "metadata": {
        "id": "2d707f8b"
      },
      "source": [
        "Let's create a synthetic dataset for a regression problem and a classification problem:"
      ]
    },
    {
      "cell_type": "code",
      "execution_count": null,
      "id": "b8e13950",
      "metadata": {
        "id": "b8e13950"
      },
      "outputs": [],
      "source": [
        "import pandas as pd\n",
        "from sklearn.datasets import make_regression, make_classification\n",
        "\n",
        "# Regression Data\n",
        "X_reg, y_reg = make_regression(n_samples=200, n_features=1, noise=15, random_state=42)\n",
        "df_reg = pd.DataFrame(data=X_reg, columns=['Feature'])\n",
        "df_reg['Target'] = y_reg\n",
        "\n",
        "# Classification Data\n",
        "X_clf, y_clf = make_classification(\n",
        "    n_samples=200,\n",
        "    n_features=2,\n",
        "    n_informative=2,  # Increased to 2 to satisfy the condition\n",
        "    n_redundant=0,\n",
        "    n_clusters_per_class=1,  # Reduced clusters per class\n",
        "    n_classes=2,\n",
        "    random_state=42\n",
        ")\n",
        "df_clf = pd.DataFrame(data=X_clf, columns=['Feature1', 'Feature2'])\n",
        "df_clf['Target'] = y_clf\n",
        "\n",
        "# Display the first few rows of the dataframes\n",
        "print(df_reg.head())\n",
        "print(df_clf.head())\n"
      ]
    },
    {
      "cell_type": "markdown",
      "id": "6d3d61ba",
      "metadata": {
        "id": "6d3d61ba"
      },
      "source": [
        "4. Building and Training Models:"
      ]
    },
    {
      "cell_type": "markdown",
      "id": "b9fa9a49",
      "metadata": {
        "id": "b9fa9a49"
      },
      "source": [
        "Linear Regression:"
      ]
    },
    {
      "cell_type": "code",
      "execution_count": null,
      "id": "a102f7d3",
      "metadata": {
        "id": "a102f7d3"
      },
      "outputs": [],
      "source": [
        "# Splitting the regression data\n",
        "X_train_reg, X_test_reg, y_train_reg, y_test_reg = train_test_split(df_reg[['Feature']], df_reg['Target'], test_size=0.2, random_state=42)\n",
        "# Initializing and training the linear regression model\n",
        "model_reg = LinearRegression()\n",
        "model_reg.fit(X_train_reg, y_train_reg)"
      ]
    },
    {
      "cell_type": "markdown",
      "id": "b83104da",
      "metadata": {
        "id": "b83104da"
      },
      "source": [
        "Logistic Regression:"
      ]
    },
    {
      "cell_type": "code",
      "execution_count": null,
      "id": "7460bc17",
      "metadata": {
        "id": "7460bc17"
      },
      "outputs": [],
      "source": [
        "# Splitting the classification data\n",
        "X_train_clf, X_test_clf, y_train_clf, y_test_clf = train_test_split(df_clf[['Feature1', 'Feature2']], df_clf['Target'], test_size=0.2, random_state=42)\n",
        "# Initializing and training the logistic regression model\n",
        "model_clf = LogisticRegression()\n",
        "model_clf.fit(X_train_clf, y_train_clf)"
      ]
    },
    {
      "cell_type": "markdown",
      "id": "c417e0ce",
      "metadata": {
        "id": "c417e0ce"
      },
      "source": [
        "5. Evaluating the Models:"
      ]
    },
    {
      "cell_type": "markdown",
      "id": "5b3c43a2",
      "metadata": {
        "id": "5b3c43a2"
      },
      "source": [
        "Evaluating Linear Regression:"
      ]
    },
    {
      "cell_type": "code",
      "execution_count": null,
      "id": "415ef68e",
      "metadata": {
        "id": "415ef68e"
      },
      "outputs": [],
      "source": [
        "# Predicting and calculating the RMSE\n",
        "y_pred_reg = model_reg.predict(X_test_reg)\n",
        "rmse = np.sqrt(mean_squared_error(y_test_reg, y_pred_reg))\n",
        "print(f\"RMSE for the Regression Model: {rmse:.2f}\")\n",
        "# Plotting regression results\n",
        "plt.scatter(X_test_reg, y_test_reg, color='blue', label='Actual')\n",
        "plt.plot(X_test_reg, y_pred_reg, color='red', label='Predicted')\n",
        "plt.title('Linear Regression')\n",
        "plt.xlabel('Feature')\n",
        "plt.ylabel('Target')\n",
        "plt.legend()\n",
        "plt.show()"
      ]
    },
    {
      "cell_type": "markdown",
      "id": "683c30bf",
      "metadata": {
        "id": "683c30bf"
      },
      "source": [
        "Evaluating Logistic Regression:"
      ]
    },
    {
      "cell_type": "code",
      "execution_count": null,
      "id": "bbdc20f0",
      "metadata": {
        "id": "bbdc20f0"
      },
      "outputs": [],
      "source": [
        "# Making predictions and evaluating the model\n",
        "y_pred_clf = model_clf.predict(X_test_clf)\n",
        "acc = accuracy_score(y_test_clf, y_pred_clf)\n",
        "print(f\"Accuracy for the Logistic Regression Model: {acc:.2f}\")\n",
        "# Confusion Matrix\n",
        "cm = confusion_matrix(y_test_clf, y_pred_clf)\n",
        "print(\"Confusion Matrix:\\n\", cm)\n",
        "# Visualizing classification results\n",
        "plt.figure(figsize=(10, 6))\n",
        "plt.scatter(X_test_clf['Feature1'], X_test_clf['Feature2'], c=y_pred_clf, cmap='coolwarm', label='Predicted Class')\n",
        "plt.title('Logistic Regression Classification')\n",
        "plt.xlabel('Feature 1')\n",
        "plt.ylabel('Feature 2')\n",
        "plt.legend()\n",
        "plt.show()"
      ]
    },
    {
      "cell_type": "markdown",
      "id": "41a75254",
      "metadata": {
        "id": "41a75254"
      },
      "source": [
        "6. Conclusion:"
      ]
    },
    {
      "cell_type": "markdown",
      "id": "c28251e4",
      "metadata": {
        "id": "c28251e4"
      },
      "source": [
        "These examples illustrate the fundamental steps in building and evaluating predictive models for both regression and classification tasks using scikit-learn. We have covered these in previous weeks, but hopefully practicing helps reinforce the core concept – evaluate everything!"
      ]
    }
  ],
  "metadata": {
    "colab": {
      "provenance": [],
      "include_colab_link": true
    },
    "language_info": {
      "name": "python"
    },
    "kernelspec": {
      "name": "python3",
      "display_name": "Python 3"
    }
  },
  "nbformat": 4,
  "nbformat_minor": 5
}