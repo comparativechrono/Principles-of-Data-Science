{
  "cells": [
    {
      "cell_type": "markdown",
      "metadata": {
        "id": "view-in-github",
        "colab_type": "text"
      },
      "source": [
        "<a href=\"https://colab.research.google.com/github/comparativechrono/Principles-of-Data-Science/blob/main/intro_chapter/Section_10_Getting_Started_with_Python_Exercises.ipynb\" target=\"_parent\"><img src=\"https://colab.research.google.com/assets/colab-badge.svg\" alt=\"Open In Colab\"/></a>"
      ]
    },
    {
      "cell_type": "markdown",
      "id": "e0e481af",
      "metadata": {
        "id": "e0e481af"
      },
      "source": [
        "# Section 10 Getting Started with Python Exercises"
      ]
    },
    {
      "cell_type": "markdown",
      "id": "8eaccb37",
      "metadata": {
        "id": "8eaccb37"
      },
      "source": [
        "To truly master the concepts presented in this textbook, it is crucial to engage actively with Python through practical exercises. This section provides a roadmap for getting started with Python exercises that are designed to reinforce the theoretical knowledge acquired in previous chapters and develop hands-on proficiency in data science. The exercises will gradually increase in complexity, covering basic syntax and data structures, and progressing to more complex data manipulation and analysis tasks."
      ]
    },
    {
      "cell_type": "markdown",
      "id": "61565917",
      "metadata": {
        "id": "61565917"
      },
      "source": [
        "## Exercise 1: Basic Python Syntax and Operations"
      ]
    },
    {
      "cell_type": "markdown",
      "id": "5098ca7c",
      "metadata": {
        "id": "5098ca7c"
      },
      "source": [
        "Start with the basics of Python by practicing simple operations, variable assignments, and basic data types.\n",
        "\n",
        "Write a Python script to:"
      ]
    },
    {
      "cell_type": "markdown",
      "id": "373ed4db",
      "metadata": {
        "id": "373ed4db"
      },
      "source": [
        "*   Create variables of different data types (integer, float, string, and boolean).\n",
        "*   Perform basic arithmetic operations (addition, subtraction, multiplication, division).\n",
        "*   Print out the results using the print() function.\n"
      ]
    },
    {
      "cell_type": "markdown",
      "id": "2a8b6697",
      "metadata": {
        "id": "2a8b6697"
      },
      "source": [
        "### **Example (hidden)**:"
      ]
    },
    {
      "cell_type": "code",
      "execution_count": null,
      "id": "c59da9c6",
      "metadata": {
        "id": "c59da9c6"
      },
      "outputs": [],
      "source": [
        "x = 5\n",
        "y = 10.5\n",
        "name = \"Data Science\"\n",
        "is_valid = True\n",
        "\n",
        "# Perform arithmetic operations\n",
        "sum = x + y\n",
        "product = x * y\n",
        "\n",
        "# Print results\n",
        "print(\"Sum:\", sum)\n",
        "print(\"Product:\", product)\n",
        "print(\"Welcome to\", name)\n",
        "print(\"Is the statement valid?\", is_valid)"
      ]
    },
    {
      "cell_type": "markdown",
      "id": "e05007bb",
      "metadata": {
        "id": "e05007bb"
      },
      "source": [
        "## Exercise 2: Lists and Dictionaries"
      ]
    },
    {
      "cell_type": "markdown",
      "id": "be175de2",
      "metadata": {
        "id": "be175de2"
      },
      "source": [
        "Work with Python's list and dictionary data structures. Perform the following tasks:"
      ]
    },
    {
      "cell_type": "markdown",
      "id": "d2f9f782",
      "metadata": {
        "id": "d2f9f782"
      },
      "source": [
        "Create a list of numbers from 1 to 10 and use a loop to print each element."
      ]
    },
    {
      "cell_type": "markdown",
      "id": "6025fb87",
      "metadata": {
        "id": "6025fb87"
      },
      "source": [
        "Create a dictionary mapping product names to their prices and print each item."
      ]
    },
    {
      "cell_type": "markdown",
      "id": "4acb0b6a",
      "metadata": {
        "id": "4acb0b6a"
      },
      "source": [
        "### **Example (hidden):**"
      ]
    },
    {
      "cell_type": "code",
      "execution_count": null,
      "id": "0782460f",
      "metadata": {
        "id": "0782460f"
      },
      "outputs": [],
      "source": [
        "# List of numbers\n",
        "numbers = list(range(1, 11))\n",
        "for number in numbers:\n",
        "    print(number)\n",
        "\n",
        "# Dictionary of products\n",
        "products = {'apple': 0.99, 'banana': 0.59, 'cherry': 3.99}\n",
        "for product, price in products.items():\n",
        "    print(f\"The price of {product} is ${price}\")"
      ]
    },
    {
      "cell_type": "markdown",
      "id": "6f8b4b31",
      "metadata": {
        "id": "6f8b4b31"
      },
      "source": [
        "## Exercise 3: Functions and Conditional Statements"
      ]
    },
    {
      "cell_type": "markdown",
      "id": "11a84baf",
      "metadata": {
        "id": "11a84baf"
      },
      "source": [
        "Develop a function that takes a number as an argument and checks if the number is prime. Use conditional statements to verify the primality."
      ]
    },
    {
      "cell_type": "markdown",
      "id": "d9f5bd6b",
      "metadata": {
        "id": "d9f5bd6b"
      },
      "source": [
        "### **Example (hidden):**"
      ]
    },
    {
      "cell_type": "code",
      "execution_count": null,
      "id": "66f579eb",
      "metadata": {
        "id": "66f579eb"
      },
      "outputs": [],
      "source": [
        "def is_prime(num):\n",
        "    if num <= 1:\n",
        "        return False\n",
        "    for i in range(2, int(num**0.5) + 1):\n",
        "        if num % i == 0:\n",
        "            return False\n",
        "    return True\n",
        "\n",
        "# Test the function\n",
        "number = 29\n",
        "if is_prime(number):\n",
        "    print(f\"{number} is a prime number.\")\n",
        "else:\n",
        "    print(f\"{number} is not a prime number.\")"
      ]
    },
    {
      "cell_type": "markdown",
      "id": "24a078be",
      "metadata": {
        "id": "24a078be"
      },
      "source": [
        "## Exercise 4: Data Manipulation with Pandas"
      ]
    },
    {
      "cell_type": "markdown",
      "id": "f574b8ac",
      "metadata": {
        "id": "f574b8ac"
      },
      "source": [
        "Use the pandas library to load a dataset, perform basic data manipulation tasks such as filtering, sorting, and simple aggregations."
      ]
    },
    {
      "cell_type": "markdown",
      "id": "a0a1eb65",
      "metadata": {
        "id": "a0a1eb65"
      },
      "source": [
        "### **Example (hidden):**"
      ]
    },
    {
      "cell_type": "code",
      "execution_count": null,
      "id": "0fade7c2",
      "metadata": {
        "id": "0fade7c2"
      },
      "outputs": [],
      "source": [
        "import pandas as pd\n",
        "\n",
        "# Load data\n",
        "data = pd.DataFrame({\n",
        "    'Name': ['Alice', 'Bob', 'Charlie', 'David', 'Eva'],\n",
        "    'Age': [25, 30, 35, 40, 45],\n",
        "    'Salary': [50000, 54000, 70000, 68000, 62000]\n",
        "})\n",
        "\n",
        "# Basic manipulations\n",
        "print(data[data['Age'] > 30])  # Filter\n",
        "print(data.sort_values(by='Salary', ascending=False))  # Sort\n",
        "print(data['Salary'].mean())  # Average salary"
      ]
    },
    {
      "cell_type": "markdown",
      "id": "f798bfd8",
      "metadata": {
        "id": "f798bfd8"
      },
      "source": [
        "## Exercise 5: Visualizing Data with Matplotlib"
      ]
    },
    {
      "cell_type": "markdown",
      "id": "6b05541e",
      "metadata": {
        "id": "6b05541e"
      },
      "source": [
        "Create a simple visualization using Matplotlib. Plot a bar chart showing the salary distribution among different individuals in the dataset."
      ]
    },
    {
      "cell_type": "markdown",
      "id": "657822af",
      "metadata": {
        "id": "657822af"
      },
      "source": [
        "### **Example (hidden):**"
      ]
    },
    {
      "cell_type": "code",
      "execution_count": null,
      "id": "e7707c4e",
      "metadata": {
        "id": "e7707c4e"
      },
      "outputs": [],
      "source": [
        "import matplotlib.pyplot as plt\n",
        "\n",
        "# Data\n",
        "names = ['Alice', 'Bob', 'Charlie', 'David', 'Eva']\n",
        "salaries = [50000, 54000, 70000, 68000, 62000]\n",
        "\n",
        "# Create a bar chart\n",
        "plt.figure(figsize=(10, 6))\n",
        "plt.bar(names, salaries, color='blue')\n",
        "plt.xlabel('Names')\n",
        "plt.ylabel('Salary ($)')\n",
        "plt.title('Salary Distribution')\n",
        "plt.show()"
      ]
    }
  ],
  "metadata": {
    "colab": {
      "provenance": [],
      "include_colab_link": true
    }
  },
  "nbformat": 4,
  "nbformat_minor": 5
}