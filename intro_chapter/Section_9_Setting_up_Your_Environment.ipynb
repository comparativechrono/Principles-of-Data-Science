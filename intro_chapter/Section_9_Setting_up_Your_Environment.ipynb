{
  "cells": [
    {
      "cell_type": "markdown",
      "metadata": {
        "id": "view-in-github",
        "colab_type": "text"
      },
      "source": [
        "<a href=\"https://colab.research.google.com/github/comparativechrono/Principles-of-Data-Science/blob/main/intro_chapter/Section_9_Setting_up_Your_Environment.ipynb\" target=\"_parent\"><img src=\"https://colab.research.google.com/assets/colab-badge.svg\" alt=\"Open In Colab\"/></a>"
      ]
    },
    {
      "cell_type": "markdown",
      "id": "d1935b94",
      "metadata": {
        "id": "d1935b94"
      },
      "source": [
        "# Section 9 Setting Up Your Environment"
      ]
    },
    {
      "cell_type": "markdown",
      "source": [
        "**Please** note that these instructions are for running Anaconda and Jupyter on your local system. If you are running these in the cloud, please skip straight to **step 5**."
      ],
      "metadata": {
        "id": "pam7kt9NvKNk"
      },
      "id": "pam7kt9NvKNk"
    },
    {
      "cell_type": "markdown",
      "id": "cdd65d16",
      "metadata": {
        "id": "cdd65d16"
      },
      "source": [
        "To effectively engage with the exercises and projects in this textbook, it is essential to set up a robust Python development environment tailored for data science. This section outlines a step-by-step guide to configuring a Python workspace, including the installation of key software, the creation of a virtual environment, and the setup of an integrated development environment (IDE) or a Jupyter Notebook, which are fundamental for a smooth and efficient data science workflow."
      ]
    },
    {
      "cell_type": "markdown",
      "id": "c45cebb5",
      "metadata": {
        "id": "c45cebb5"
      },
      "source": [
        "## Step 1: Install Python"
      ]
    },
    {
      "cell_type": "markdown",
      "id": "317cd4e0",
      "metadata": {
        "id": "317cd4e0"
      },
      "source": [
        "As discussed earlier, the Anaconda distribution is highly recommended for data science due to its comprehensive collection of pre-installed libraries and tools. Download and install Anaconda from anaconda.com, choosing the version that matches your operating system. Anaconda will install Python along with its most common data science packages, ensuring compatibility and ease of use."
      ]
    },
    {
      "cell_type": "markdown",
      "id": "8b8eb157",
      "metadata": {
        "id": "8b8eb157"
      },
      "source": [
        "## Step 2: Create a Virtual Environment"
      ]
    },
    {
      "cell_type": "markdown",
      "id": "2d89952d",
      "metadata": {
        "id": "2d89952d"
      },
      "source": [
        "Creating a virtual environment, as described above, allows you to manage dependencies for different projects separately by creating isolated spaces for them, preventing conflicts between project packages. To create a virtual environment in Anaconda, open your terminal or Anaconda Prompt and type the following commands:"
      ]
    },
    {
      "cell_type": "code",
      "execution_count": null,
      "id": "507c53de",
      "metadata": {
        "id": "507c53de"
      },
      "outputs": [],
      "source": [
        "conda create --name dsenv python=3.x"
      ]
    },
    {
      "cell_type": "markdown",
      "id": "7fe58ff1",
      "metadata": {
        "id": "7fe58ff1"
      },
      "source": [
        "Replace 3.x with the latest version of Python that you want to use. After creating the environment, activate it using:"
      ]
    },
    {
      "cell_type": "code",
      "execution_count": null,
      "id": "8e661802",
      "metadata": {
        "id": "8e661802"
      },
      "outputs": [],
      "source": [
        "conda activate dsenv"
      ]
    },
    {
      "cell_type": "markdown",
      "id": "5c5f2447",
      "metadata": {
        "id": "5c5f2447"
      },
      "source": [
        "This command switches your session to the dsenv environment, where you can install specific packages needed for this book without affecting other Python projects. If you followed the steps in the previous section, you will now have more than one environment that you can swap between."
      ]
    },
    {
      "cell_type": "markdown",
      "id": "e6e76ada",
      "metadata": {
        "id": "e6e76ada"
      },
      "source": [
        "## Step 3: Install Necessary Libraries"
      ]
    },
    {
      "cell_type": "markdown",
      "id": "8e230144",
      "metadata": {
        "id": "8e230144"
      },
      "source": [
        "With your environment activated, install additional Python libraries that are essential but not included in the default Anaconda installation. You can install these packages using conda or pip. For data science, the key libraries are:"
      ]
    },
    {
      "cell_type": "markdown",
      "id": "6c5fab4d",
      "metadata": {
        "id": "6c5fab4d"
      },
      "source": [
        "NumPy for numerical operations."
      ]
    },
    {
      "cell_type": "markdown",
      "id": "4ac88e88",
      "metadata": {
        "id": "4ac88e88"
      },
      "source": [
        "Pandas for data manipulation and analysis."
      ]
    },
    {
      "cell_type": "markdown",
      "id": "cdb25d03",
      "metadata": {
        "id": "cdb25d03"
      },
      "source": [
        "Matplotlib and Seaborn for data visualization."
      ]
    },
    {
      "cell_type": "markdown",
      "id": "74df98fe",
      "metadata": {
        "id": "74df98fe"
      },
      "source": [
        "Scikit-learn for implementing machine learning models."
      ]
    },
    {
      "cell_type": "markdown",
      "id": "c8861583",
      "metadata": {
        "id": "c8861583"
      },
      "source": [
        "Install these by running:"
      ]
    },
    {
      "cell_type": "code",
      "execution_count": null,
      "id": "3bf6e60b",
      "metadata": {
        "id": "3bf6e60b"
      },
      "outputs": [],
      "source": [
        "conda install numpy pandas matplotlib seaborn scikit-learn"
      ]
    },
    {
      "cell_type": "markdown",
      "id": "b1fbecf1",
      "metadata": {
        "id": "b1fbecf1"
      },
      "source": [
        "These libraries form the backbone of most data analysis and machine learning tasks you will encounter. Note that in this environment we have now added seaborn."
      ]
    },
    {
      "cell_type": "markdown",
      "id": "ea7e45f9",
      "metadata": {
        "id": "ea7e45f9"
      },
      "source": [
        "## Step 4: Set Up an IDE or Jupyter Notebook"
      ]
    },
    {
      "cell_type": "markdown",
      "id": "39f37d9a",
      "metadata": {
        "id": "39f37d9a"
      },
      "source": [
        "For writing and executing Python code, you can use an IDE like PyCharm or Visual Studio Code, both of which offer excellent support for Python development. Alternatively, for an interactive experience especially suited for data exploration and visualization, you can use Jupyter Notebooks."
      ]
    },
    {
      "cell_type": "markdown",
      "id": "4f5d730b",
      "metadata": {
        "id": "4f5d730b"
      },
      "source": [
        "To install Jupyter Notebooks via Anaconda, use:"
      ]
    },
    {
      "cell_type": "code",
      "execution_count": null,
      "id": "092b0f1f",
      "metadata": {
        "id": "092b0f1f"
      },
      "outputs": [],
      "source": [
        "conda install jupyter"
      ]
    },
    {
      "cell_type": "markdown",
      "id": "ac9bad29",
      "metadata": {
        "id": "ac9bad29"
      },
      "source": [
        "Then, launch Jupyter Notebook by typing:"
      ]
    },
    {
      "cell_type": "code",
      "execution_count": null,
      "id": "16a11b60",
      "metadata": {
        "id": "16a11b60"
      },
      "outputs": [],
      "source": [
        "jupyter notebook"
      ]
    },
    {
      "cell_type": "markdown",
      "id": "f19bd3b5",
      "metadata": {
        "id": "f19bd3b5"
      },
      "source": [
        "This command will start the Jupyter server locally and open the interface in your default web browser. Jupyter Notebooks are ideal for data science tasks because they allow you to combine executable code, rich text, mathematics, plots, and rich media in a single document."
      ]
    },
    {
      "cell_type": "markdown",
      "id": "ddd663ee",
      "metadata": {
        "id": "ddd663ee"
      },
      "source": [
        "## Step 5: Verify the Setup"
      ]
    },
    {
      "cell_type": "markdown",
      "id": "f471916b",
      "metadata": {
        "id": "f471916b"
      },
      "source": [
        "To ensure that all installations are functioning correctly, create a new Python script or a Jupyter notebook and import the libraries you installed. Execute some simple commands to verify:"
      ]
    },
    {
      "cell_type": "code",
      "execution_count": null,
      "id": "acaff272",
      "metadata": {
        "id": "acaff272"
      },
      "outputs": [],
      "source": [
        "import numpy as np\n",
        "import pandas as pd\n",
        "import matplotlib.pyplot as plt\n",
        "import seaborn as sns\n",
        "import sklearn\n",
        "\n",
        "print(\"Environment setup successful!\")"
      ]
    },
    {
      "cell_type": "markdown",
      "id": "e6347c36",
      "metadata": {
        "id": "e6347c36"
      },
      "source": [
        "## Step 6: Familiarize Yourself with the Tools"
      ]
    },
    {
      "cell_type": "markdown",
      "id": "20cea2d4",
      "metadata": {
        "id": "20cea2d4"
      },
      "source": [
        "Once your environment is set up, spend some time getting familiar with the tools. Explore the features of the IDE or Jupyter Notebook, and practice importing datasets, performing simple analyses, and creating plots. This practice will help you become more efficient in navigating the tools and focus more on learning data science concepts as you progress through the book."
      ]
    },
    {
      "cell_type": "markdown",
      "id": "dd552803",
      "metadata": {
        "id": "dd552803"
      },
      "source": [
        "By following these steps, you will have a fully functional Python data science environment ready for tackling the exercises and projects in this textbook. This setup not only facilitates effective learning and application of data science concepts but also prepares you for real-world data science tasks you may face in academic or professional settings."
      ]
    }
  ],
  "metadata": {
    "colab": {
      "provenance": [],
      "include_colab_link": true
    }
  },
  "nbformat": 4,
  "nbformat_minor": 5
}