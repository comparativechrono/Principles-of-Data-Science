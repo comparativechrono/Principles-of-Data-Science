{
  "cells": [
    {
      "cell_type": "markdown",
      "metadata": {
        "id": "view-in-github",
        "colab_type": "text"
      },
      "source": [
        "<a href=\"https://colab.research.google.com/github/comparativechrono/Principles-of-Data-Science/blob/main/intro_chapter/Section_7_Tools_and_Software_Setup__Python%2C_Numpy%2C_Pandas%2C_Scikit_learn%2C_and_Matplotlib.ipynb\" target=\"_parent\"><img src=\"https://colab.research.google.com/assets/colab-badge.svg\" alt=\"Open In Colab\"/></a>"
      ]
    },
    {
      "cell_type": "markdown",
      "source": [
        "# Section 7 Tools and Software Setup"
      ],
      "metadata": {
        "id": "6bAZw6gOrvIc"
      },
      "id": "6bAZw6gOrvIc"
    },
    {
      "cell_type": "markdown",
      "source": [
        "**Please** note the following is a guide for a fresh set-up. If you are running this notebook in Colab, please skip straight to **Installing Libraries**"
      ],
      "metadata": {
        "id": "xvtPp8smsDed"
      },
      "id": "xvtPp8smsDed"
    },
    {
      "cell_type": "markdown",
      "id": "456939a6",
      "metadata": {
        "id": "456939a6"
      },
      "source": [
        "For students working through the \"Principles of Data Science,\" understanding and setting up the right tools and software is paramount for reproducibility. This section provides a detailed guide on setting up Python and essential libraries like Numpy, Pandas, Scikit-learn, and Matplotlib—each a cornerstone in the toolbox of a data scientist. This setup will enable you, the reader, to efficiently tackle the practical exercises and projects throughout the book."
      ]
    },
    {
      "cell_type": "markdown",
      "id": "1aec9a48",
      "metadata": {
        "id": "1aec9a48"
      },
      "source": [
        "## Python Installation:"
      ]
    },
    {
      "cell_type": "markdown",
      "id": "8947584a",
      "metadata": {
        "id": "8947584a"
      },
      "source": [
        "Python is the primary language used in this book due to its versatility and the vast array of libraries it supports for data science. The latest version of Python can be downloaded from the official Python Software Foundation website at python.org. We recommend installing Python 3.x, as it includes significant improvements and optimizations over Python 2.x, which is no longer supported."
      ]
    },
    {
      "cell_type": "markdown",
      "id": "92442524",
      "metadata": {
        "id": "92442524"
      },
      "source": [
        "## Anaconda Distribution:"
      ]
    },
    {
      "cell_type": "markdown",
      "id": "9c17879f",
      "metadata": {
        "id": "9c17879f"
      },
      "source": [
        "To simplify the installation process of Python and its libraries, it is advisable to use the Anaconda distribution. Anaconda is a free, open-source distribution of Python (and R) that aims to simplify package management and deployment. It includes the versions of Python required and most of the libraries that this book utilizes. Anaconda can be downloaded from anaconda.com."
      ]
    },
    {
      "cell_type": "markdown",
      "id": "c813a5db",
      "metadata": {
        "id": "c813a5db"
      },
      "source": [
        "After installing Anaconda, you can create a virtual environment specifically for the projects in this book. This is a best practice that helps manage dependencies and avoid conflicts between projects. You can create a new environment using the following command in the Anaconda Prompt or your terminal:"
      ]
    },
    {
      "cell_type": "code",
      "execution_count": null,
      "id": "08b354f7",
      "metadata": {
        "id": "08b354f7"
      },
      "outputs": [],
      "source": [
        "conda create --name datascience python=3.x"
      ]
    },
    {
      "cell_type": "markdown",
      "id": "464f1fc9",
      "metadata": {
        "id": "464f1fc9"
      },
      "source": [
        "Replace 3.x with the latest version of Python 3 that you wish to use. Once the environment is created, activate it with:"
      ]
    },
    {
      "cell_type": "code",
      "execution_count": null,
      "id": "1574a73f",
      "metadata": {
        "id": "1574a73f"
      },
      "outputs": [],
      "source": [
        "conda activate datascience"
      ]
    },
    {
      "cell_type": "markdown",
      "id": "ce7c5c43",
      "metadata": {
        "id": "ce7c5c43"
      },
      "source": [
        "## Installing Libraries:"
      ]
    },
    {
      "cell_type": "markdown",
      "id": "c423b9b7",
      "metadata": {
        "id": "c423b9b7"
      },
      "source": [
        "With the environment activated, install the primary libraries used in data science projects:"
      ]
    },
    {
      "cell_type": "markdown",
      "id": "fcffae40",
      "metadata": {
        "id": "fcffae40"
      },
      "source": [
        "Numpy: Essential for numerical operations."
      ]
    },
    {
      "cell_type": "markdown",
      "id": "9bf32335",
      "metadata": {
        "id": "9bf32335"
      },
      "source": [
        "Pandas: Provides high-performance, easy-to-use data structures and data analysis tools."
      ]
    },
    {
      "cell_type": "markdown",
      "id": "83c2d448",
      "metadata": {
        "id": "83c2d448"
      },
      "source": [
        "Scikit-learn: Offers simple and efficient tools for predictive data analysis."
      ]
    },
    {
      "cell_type": "markdown",
      "id": "3282d7be",
      "metadata": {
        "id": "3282d7be"
      },
      "source": [
        "Matplotlib: A plotting library for creating static, interactive, and animated visualizations in Python."
      ]
    },
    {
      "cell_type": "markdown",
      "id": "983856a8",
      "metadata": {
        "id": "983856a8"
      },
      "source": [
        "To install these libraries, use the following command:"
      ]
    },
    {
      "cell_type": "code",
      "execution_count": null,
      "id": "c69bdb44",
      "metadata": {
        "id": "c69bdb44"
      },
      "outputs": [],
      "source": [
        "conda install numpy pandas scikit-learn matplotlib"
      ]
    },
    {
      "cell_type": "markdown",
      "id": "f86f940f",
      "metadata": {
        "id": "f86f940f"
      },
      "source": [
        "Anaconda typically includes these libraries by default, but the command ensures you have the latest versions."
      ]
    },
    {
      "cell_type": "markdown",
      "id": "563d2288",
      "metadata": {
        "id": "563d2288"
      },
      "source": [
        "## Integrated Development Environment (IDE):"
      ]
    },
    {
      "cell_type": "markdown",
      "id": "6b6142fb",
      "metadata": {
        "id": "6b6142fb"
      },
      "source": [
        "While you can use any text editor to write Python code, an Integrated Development Environment (IDE) or a code notebook can enhance your coding experience with features like code completion, syntax highlighting, and direct execution. Popular choices include:"
      ]
    },
    {
      "cell_type": "markdown",
      "id": "82463b02",
      "metadata": {
        "id": "82463b02"
      },
      "source": [
        "Jupyter Notebook: Provides a web-based interactive computing platform. Jupyter notebooks allow you to create and share documents that contain live code, equations, visualizations, and narrative text. It is ideal for this book because it makes it easy to combine instructional content with the code. To install Jupyter via Anaconda, use:"
      ]
    },
    {
      "cell_type": "code",
      "execution_count": null,
      "id": "b924c08a",
      "metadata": {
        "id": "b924c08a"
      },
      "outputs": [],
      "source": [
        "conda install jupyter"
      ]
    },
    {
      "cell_type": "markdown",
      "id": "42000f4c",
      "metadata": {
        "id": "42000f4c"
      },
      "source": [
        "To run Jupyter Notebook, use the command jupyter notebook in your Anaconda Prompt or terminal."
      ]
    },
    {
      "cell_type": "markdown",
      "id": "63d00f21",
      "metadata": {
        "id": "63d00f21"
      },
      "source": [
        "Visual Studio Code (VS Code): A lightweight but powerful source code editor which runs on your desktop and is available for Windows, macOS, and Linux. It comes with built-in support for Python, and powerful extensions for data science such as the Python extension (which provides rich support for Python with features such as IntelliSense (code completions) and debugging)."
      ]
    },
    {
      "cell_type": "markdown",
      "id": "dc30b837",
      "metadata": {
        "id": "dc30b837"
      },
      "source": [
        "VS Code can be downloaded from code.visualstudio.com."
      ]
    },
    {
      "cell_type": "markdown",
      "id": "b3290e1f",
      "metadata": {
        "id": "b3290e1f"
      },
      "source": [
        "## Testing the Setup:"
      ]
    },
    {
      "cell_type": "markdown",
      "id": "3ead4d9f",
      "metadata": {
        "id": "3ead4d9f"
      },
      "source": [
        "After setting up your environment and tools, it’s wise to test whether everything works correctly. You can do this by running a simple Python script to check the versions of the installed libraries. In your Python environment or Jupyter notebook, execute the following code:"
      ]
    },
    {
      "cell_type": "code",
      "execution_count": null,
      "id": "9d04e18b",
      "metadata": {
        "id": "9d04e18b"
      },
      "outputs": [],
      "source": [
        "import numpy\n",
        "import pandas\n",
        "import sklearn\n",
        "import matplotlib\n",
        "\n",
        "print(f\"Numpy version: {numpy.__version__}\")\n",
        "print(f\"Pandas version: {pandas.__version__}\")\n",
        "print(f\"Scikit-learn version: {sklearn.__version__}\")\n",
        "print(f\"Matplotlib version: {matplotlib.__version__}\")"
      ]
    },
    {
      "cell_type": "markdown",
      "id": "00a90c9c",
      "metadata": {
        "id": "00a90c9c"
      },
      "source": [
        "This setup, utilising a specific environment, provides a reproducible approach for undertaking the data science projects and exercises presented in this book. Hopefully this means you can focus on learning data science concepts and techniques without unnecessary disruptions."
      ]
    }
  ],
  "metadata": {
    "colab": {
      "provenance": [],
      "include_colab_link": true
    }
  },
  "nbformat": 4,
  "nbformat_minor": 5
}