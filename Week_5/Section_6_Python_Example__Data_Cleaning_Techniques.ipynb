{
  "cells": [
    {
      "cell_type": "markdown",
      "metadata": {
        "id": "view-in-github",
        "colab_type": "text"
      },
      "source": [
        "<a href=\"https://colab.research.google.com/github/comparativechrono/Principles-of-Data-Science/blob/main/Week_5/Section_6_Python_Example__Data_Cleaning_Techniques.ipynb\" target=\"_parent\"><img src=\"https://colab.research.google.com/assets/colab-badge.svg\" alt=\"Open In Colab\"/></a>"
      ]
    },
    {
      "cell_type": "markdown",
      "source": [
        "#Section 6 - Python Example: Data cleaning techniques"
      ],
      "metadata": {
        "id": "fODshkqd4RLr"
      },
      "id": "fODshkqd4RLr"
    },
    {
      "cell_type": "markdown",
      "id": "da6a1c50",
      "metadata": {
        "id": "da6a1c50"
      },
      "source": [
        "Data cleaning is an essential step in preparing raw data for analysis and modeling. It involves rectifying or removing incorrect, corrupted, incorrectly formatted, duplicate, or incomplete data within a dataset. Effective data cleaning can significantly improve the quality of insights derived from data analysis and the performance of predictive models. This section provides a practical guide on implementing various data cleaning techniques using Python, specifically with Pandas and NumPy, two powerful tools for data manipulation."
      ]
    },
    {
      "cell_type": "markdown",
      "id": "55905b5a",
      "metadata": {
        "id": "55905b5a"
      },
      "source": [
        "1. Setting Up the Environment:"
      ]
    },
    {
      "cell_type": "markdown",
      "id": "64d72435",
      "metadata": {
        "id": "64d72435"
      },
      "source": [
        "Ensure Python is equipped with the necessary libraries for data cleaning. Pandas and NumPy are indispensable for handling data efficiently. If not already installed, they can be added using pip:"
      ]
    },
    {
      "cell_type": "code",
      "execution_count": null,
      "id": "4104dbb7",
      "metadata": {
        "id": "4104dbb7"
      },
      "outputs": [],
      "source": [
        "pip install pandas numpy"
      ]
    },
    {
      "cell_type": "markdown",
      "id": "2b5f86b8",
      "metadata": {
        "id": "2b5f86b8"
      },
      "source": [
        "2. Importing Required Libraries:"
      ]
    },
    {
      "cell_type": "markdown",
      "id": "91bfc54c",
      "metadata": {
        "id": "91bfc54c"
      },
      "source": [
        "Begin by importing Pandas and NumPy. These libraries provide comprehensive functions and methods for data manipulation and cleaning:"
      ]
    },
    {
      "cell_type": "code",
      "execution_count": null,
      "id": "6ea90e09",
      "metadata": {
        "id": "6ea90e09"
      },
      "outputs": [],
      "source": [
        "import pandas as pd\n",
        "import numpy as np"
      ]
    },
    {
      "cell_type": "markdown",
      "id": "c5e2e6ff",
      "metadata": {
        "id": "c5e2e6ff"
      },
      "source": [
        "3. Creating a Sample Dataset:"
      ]
    },
    {
      "cell_type": "markdown",
      "id": "56c31405",
      "metadata": {
        "id": "56c31405"
      },
      "source": [
        "For demonstration, let’s create a DataFrame that mimics common data issues, including missing values, duplicates, and outliers:"
      ]
    },
    {
      "cell_type": "code",
      "execution_count": null,
      "id": "5ba11403",
      "metadata": {
        "id": "5ba11403"
      },
      "outputs": [],
      "source": [
        "# Create a sample DataFrame\n",
        "data = pd.DataFrame({\n",
        "    'Name': ['John Doe', 'Anna Smith', 'Peter Brown', 'Anna Smith', 'John Doe'],\n",
        "    'Age': [28, np.nan, 30, 22, 28],\n",
        "    'Salary': [50000, 54000, 50000, None, 50000],\n",
        "    'Gender': ['Male', 'Female', 'Male', 'Female', 'Male']\n",
        "})"
      ]
    },
    {
      "cell_type": "markdown",
      "id": "0d3a038b",
      "metadata": {
        "id": "0d3a038b"
      },
      "source": [
        "4. Identifying Missing Values:"
      ]
    },
    {
      "cell_type": "markdown",
      "id": "4f475f17",
      "metadata": {
        "id": "4f475f17"
      },
      "source": [
        "Handling missing values is crucial as they can lead to misleading analyses and incorrect model predictions:"
      ]
    },
    {
      "cell_type": "code",
      "execution_count": null,
      "id": "b2f0d1dc",
      "metadata": {
        "id": "b2f0d1dc"
      },
      "outputs": [],
      "source": [
        "# Check for missing values\n",
        "print(data.isnull().sum())\n",
        "\n",
        "# Fill numeric missing values with the median\n",
        "data['Age'].fillna(data['Age'].median(), inplace=True)\n",
        "\n",
        "# Fill categorical missing values with the mode\n",
        "data['Salary'].fillna(data['Salary'].mode()[0], inplace=True)"
      ]
    },
    {
      "cell_type": "markdown",
      "id": "51e74b38",
      "metadata": {
        "id": "51e74b38"
      },
      "source": [
        "5. Removing Duplicates:"
      ]
    },
    {
      "cell_type": "markdown",
      "id": "87f73c33",
      "metadata": {
        "id": "87f73c33"
      },
      "source": [
        "Duplicate data can skew results and lead to inaccurate conclusions:"
      ]
    },
    {
      "cell_type": "code",
      "execution_count": null,
      "id": "1750c0aa",
      "metadata": {
        "id": "1750c0aa"
      },
      "outputs": [],
      "source": [
        "# Drop duplicates\n",
        "data.drop_duplicates(inplace=True)"
      ]
    },
    {
      "cell_type": "markdown",
      "id": "745918da",
      "metadata": {
        "id": "745918da"
      },
      "source": [
        "6. Correcting Data Types:"
      ]
    },
    {
      "cell_type": "markdown",
      "id": "9fe1f588",
      "metadata": {
        "id": "9fe1f588"
      },
      "source": [
        "Ensuring correct data types is essential for accurate data analysis:"
      ]
    },
    {
      "cell_type": "code",
      "execution_count": null,
      "id": "7b1c5717",
      "metadata": {
        "id": "7b1c5717"
      },
      "outputs": [],
      "source": [
        "# Ensure 'Salary' is a float\n",
        "data['Salary'] = data['Salary'].astype(float)"
      ]
    },
    {
      "cell_type": "markdown",
      "id": "142f8794",
      "metadata": {
        "id": "142f8794"
      },
      "source": [
        "7. Handling Outliers:"
      ]
    },
    {
      "cell_type": "markdown",
      "id": "4eca11d6",
      "metadata": {
        "id": "4eca11d6"
      },
      "source": [
        "Outliers can disproportionately affect the results of data analysis and predictive modeling:"
      ]
    },
    {
      "cell_type": "code",
      "execution_count": null,
      "id": "ee319ca6",
      "metadata": {
        "id": "ee319ca6"
      },
      "outputs": [],
      "source": [
        "# Detecting outliers in 'Age'\n",
        "q1, q3 = np.percentile(data['Age'], [25, 75])\n",
        "iqr = q3 - q1\n",
        "lower_bound = q1 - (1.5 * iqr)\n",
        "upper_bound = q3 + (1.5 * iqr)\n",
        "\n",
        "# Filtering out outliers\n",
        "data = data[(data['Age'] >= lower_bound) & (data['Age'] <= upper_bound)]"
      ]
    },
    {
      "cell_type": "markdown",
      "id": "822545b3",
      "metadata": {
        "id": "822545b3"
      },
      "source": [
        "8. Normalizing Data:"
      ]
    },
    {
      "cell_type": "markdown",
      "id": "e29867de",
      "metadata": {
        "id": "e29867de"
      },
      "source": [
        "Normalization is important for many statistical techniques and machine learning models:"
      ]
    },
    {
      "cell_type": "code",
      "execution_count": null,
      "id": "117df336",
      "metadata": {
        "id": "117df336"
      },
      "outputs": [],
      "source": [
        "# Normalize 'Salary'\n",
        "data['Salary'] = (data['Salary'] - data['Salary'].min()) / (data['Salary'].max() - data['Salary'].min())"
      ]
    },
    {
      "cell_type": "markdown",
      "id": "5345f555",
      "metadata": {
        "id": "5345f555"
      },
      "source": [
        "9. Conclusion:"
      ]
    },
    {
      "cell_type": "markdown",
      "id": "2392dabf",
      "metadata": {
        "id": "2392dabf"
      },
      "source": [
        "This example demonstrates the fundamental techniques of data cleaning using Python's Pandas and NumPy libraries. Proper data cleaning ensures that datasets are primed for analysis and modeling, significantly boosting the reliability and accuracy of your results. Mastery of data cleaning processes allows data professionals to focus more on extracting insights and less on troubleshooting data-related issues. These skills are essential for any data scientist or analyst dealing with real-world data."
      ]
    }
  ],
  "metadata": {
    "colab": {
      "provenance": [],
      "include_colab_link": true
    }
  },
  "nbformat": 4,
  "nbformat_minor": 5
}