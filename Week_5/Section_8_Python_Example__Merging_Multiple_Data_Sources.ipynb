{
  "cells": [
    {
      "cell_type": "markdown",
      "metadata": {
        "id": "view-in-github",
        "colab_type": "text"
      },
      "source": [
        "<a href=\"https://colab.research.google.com/github/comparativechrono/Principles-of-Data-Science/blob/main/Week_5/Section_8_Python_Example__Merging_Multiple_Data_Sources.ipynb\" target=\"_parent\"><img src=\"https://colab.research.google.com/assets/colab-badge.svg\" alt=\"Open In Colab\"/></a>"
      ]
    },
    {
      "cell_type": "markdown",
      "source": [
        "#Section 8 - Python Example - Merging multiple data sources"
      ],
      "metadata": {
        "id": "zmnXTcGl5DKT"
      },
      "id": "zmnXTcGl5DKT"
    },
    {
      "cell_type": "markdown",
      "id": "1ae93512",
      "metadata": {
        "id": "1ae93512"
      },
      "source": [
        "In today’s data-driven environment, organizations often need to merge data from multiple sources to gain a comprehensive understanding of operations or customer behaviour. This may involve combining data from different departments, external partners, or online and offline sources. Efficiently merging these data sources is essential for conducting thorough analyses and making informed decisions. This section demonstrates how to use Python, particularly Pandas, to merge multiple data sources effectively."
      ]
    },
    {
      "cell_type": "markdown",
      "id": "4327a3a1",
      "metadata": {
        "id": "4327a3a1"
      },
      "source": [
        "1. Setting Up the Environment:"
      ]
    },
    {
      "cell_type": "markdown",
      "id": "159dd506",
      "metadata": {
        "id": "159dd506"
      },
      "source": [
        "Before starting, make sure Python and Pandas are installed in your system. If Pandas is not installed, it can be easily added using pip:"
      ]
    },
    {
      "cell_type": "code",
      "execution_count": null,
      "id": "a79b8089",
      "metadata": {
        "id": "a79b8089"
      },
      "outputs": [],
      "source": [
        "pip install pandas"
      ]
    },
    {
      "cell_type": "markdown",
      "id": "1254ddbe",
      "metadata": {
        "id": "1254ddbe"
      },
      "source": [
        "2. Importing Required Libraries:"
      ]
    },
    {
      "cell_type": "markdown",
      "id": "4edea74e",
      "metadata": {
        "id": "4edea74e"
      },
      "source": [
        "Import Pandas, which provides powerful data manipulation capabilities that simplify the process of merging datasets:"
      ]
    },
    {
      "cell_type": "code",
      "execution_count": null,
      "id": "8c166ef0",
      "metadata": {
        "id": "8c166ef0"
      },
      "outputs": [],
      "source": [
        "import pandas as pd"
      ]
    },
    {
      "cell_type": "markdown",
      "id": "bcc046ff",
      "metadata": {
        "id": "bcc046ff"
      },
      "source": [
        "3. Creating Sample Datasets:"
      ]
    },
    {
      "cell_type": "markdown",
      "id": "4b5c27f1",
      "metadata": {
        "id": "4b5c27f1"
      },
      "source": [
        "Let’s create a few sample datasets that represent typical scenarios where data from different sources might need to be combined:"
      ]
    },
    {
      "cell_type": "code",
      "execution_count": null,
      "id": "2fc86f8a",
      "metadata": {
        "id": "2fc86f8a"
      },
      "outputs": [],
      "source": [
        "# Creating sample data for customers\n",
        "data_customers = pd.DataFrame({\n",
        "    'CustomerID': [1, 2, 3, 4],\n",
        "    'Name': ['Alice', 'Bob', 'Charlie', 'David']\n",
        "})\n",
        "\n",
        "# Creating sample data for orders\n",
        "data_orders = pd.DataFrame({\n",
        "    'OrderID': [101, 102, 103, 104],\n",
        "    'CustomerID': [1, 2, 1, 4],\n",
        "    'Product': ['Widget', 'Gadget', 'Sprocket', 'Widget']\n",
        "})\n",
        "\n",
        "# Creating sample data for payments\n",
        "data_payments = pd.DataFrame({\n",
        "    'PaymentID': [1001, 1002, 1003, 1004],\n",
        "    'OrderID': [101, 103, 104, 102],\n",
        "    'Amount': [250, 75, 100, 200]\n",
        "})"
      ]
    },
    {
      "cell_type": "markdown",
      "id": "c6f4fad8",
      "metadata": {
        "id": "c6f4fad8"
      },
      "source": [
        "4. Merging DataFrames:"
      ]
    },
    {
      "cell_type": "markdown",
      "id": "8a513a1a",
      "metadata": {
        "id": "8a513a1a"
      },
      "source": [
        "To analyse the data effectively, we need to merge these tables based on their relationships:"
      ]
    },
    {
      "cell_type": "code",
      "execution_count": null,
      "id": "3d555ba1",
      "metadata": {
        "id": "3d555ba1"
      },
      "outputs": [],
      "source": [
        "# Merging customers and orders data on 'CustomerID'\n",
        "merged_data = pd.merge(data_customers, data_orders, on='CustomerID', how='inner')\n",
        "\n",
        "# Further merging the payments data on 'OrderID'\n",
        "final_merged_data = pd.merge(merged_data, data_payments, on='OrderID', how='inner')\n",
        "\n",
        "# Displaying the final merged data\n",
        "print(final_merged_data)"
      ]
    },
    {
      "cell_type": "markdown",
      "id": "f09f6ac8",
      "metadata": {
        "id": "f09f6ac8"
      },
      "source": [
        "This merge operation links customers with their orders and the corresponding payments, forming a comprehensive view from separate tables."
      ]
    },
    {
      "cell_type": "markdown",
      "id": "6496c85b",
      "metadata": {
        "id": "6496c85b"
      },
      "source": [
        "5. Handling Different Join Types:"
      ]
    },
    {
      "cell_type": "markdown",
      "id": "8722a17e",
      "metadata": {
        "id": "8722a17e"
      },
      "source": [
        "The merge function in Pandas supports different types of joins, similar to SQL, including inner, left, right, and outer joins. Choosing the correct type of join is essential depending on the data analysis requirements:\n",
        "\n",
        "*    Inner Join: Returns only those records that have matching values in both DataFrames.\n",
        "*    Left Join: Returns all records from the left DataFrame, and the matched records from the right DataFrame.\n",
        "*    Right Join: Returns all records from the right DataFrame, and the matched records from the left DataFrame.\n",
        "*    Outer Join: Returns all records when there is a match in either left or right DataFrame."
      ]
    },
    {
      "cell_type": "markdown",
      "id": "3922f2f2",
      "metadata": {
        "id": "3922f2f2"
      },
      "source": [
        "6. Best Practices for Merging Large Datasets:"
      ]
    },
    {
      "cell_type": "markdown",
      "id": "31102303",
      "metadata": {
        "id": "31102303"
      },
      "source": [
        "When dealing with large datasets, consider the following to optimize performance:\n",
        "\n",
        "*     Indexing: Set the column(s) on which the merge is performed as an index (using set_index()) to speed up merges.\n",
        "\n",
        "*     Memory Usage: Monitor memory usage during merge operations, especially when working with large DataFrames. Pandas provides options like merge_ordered() and merge_asof() which are designed to be more memory-efficient under certain conditions."
      ]
    },
    {
      "cell_type": "markdown",
      "id": "4b279113",
      "metadata": {
        "id": "4b279113"
      },
      "source": [
        "7. Conclusion:"
      ]
    },
    {
      "cell_type": "markdown",
      "id": "4667799f",
      "metadata": {
        "id": "4667799f"
      },
      "source": [
        "Merging multiple data sources is a common necessity in data analysis and can significantly enrich the insights obtained. Python’s Pandas library offers robust tools that simplify this process, making it accessible even to those who may not have extensive technical training. By mastering these techniques, data professionals can ensure that their analyses are comprehensive, accurate, and valuable, providing a solid foundation for informed decision-making and strategic planning."
      ]
    }
  ],
  "metadata": {
    "colab": {
      "provenance": [],
      "include_colab_link": true
    }
  },
  "nbformat": 4,
  "nbformat_minor": 5
}