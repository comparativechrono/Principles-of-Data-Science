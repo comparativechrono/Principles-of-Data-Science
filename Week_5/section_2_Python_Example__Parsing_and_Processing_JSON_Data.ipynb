{
  "cells": [
    {
      "cell_type": "markdown",
      "metadata": {
        "id": "view-in-github",
        "colab_type": "text"
      },
      "source": [
        "<a href=\"https://colab.research.google.com/github/comparativechrono/Principles-of-Data-Science/blob/main/Week_5/section_2_Python_Example__Parsing_and_Processing_JSON_Data.ipynb\" target=\"_parent\"><img src=\"https://colab.research.google.com/assets/colab-badge.svg\" alt=\"Open In Colab\"/></a>"
      ]
    },
    {
      "cell_type": "markdown",
      "source": [
        "# Section 2 - Python example: Parsing and processing JSON data"
      ],
      "metadata": {
        "id": "Qfj4ibNo3dxN"
      },
      "id": "Qfj4ibNo3dxN"
    },
    {
      "cell_type": "markdown",
      "id": "53251d70",
      "metadata": {
        "id": "53251d70"
      },
      "source": [
        "JSON (JavaScript Object Notation) is a prevalent format for storing and exchanging data, particularly in web and mobile applications. As a lightweight data-interchange format, JSON is easy for humans to read and write, and easy for machines to parse and generate. This section demonstrates how to efficiently parse and process JSON data using Python, highlighting its flexibility and utility in handling unstructured data."
      ]
    },
    {
      "cell_type": "markdown",
      "id": "8abdc51c",
      "metadata": {
        "id": "8abdc51c"
      },
      "source": [
        "1. Setting Up the Environment:"
      ]
    },
    {
      "cell_type": "markdown",
      "id": "d0a6e882",
      "metadata": {
        "id": "d0a6e882"
      },
      "source": [
        "To work with JSON data in Python, you may need to install or ensure access to Python's json module, which comes built-in with Python, so no additional installation is typically required. However, for more complex JSON data handling, libraries such as pandas might be useful. Here’s how to ensure you have everything set up:"
      ]
    },
    {
      "cell_type": "code",
      "execution_count": null,
      "id": "e3ed90b8",
      "metadata": {
        "id": "e3ed90b8"
      },
      "outputs": [],
      "source": [
        "pip install pandas"
      ]
    },
    {
      "cell_type": "markdown",
      "id": "5b6d965a",
      "metadata": {
        "id": "5b6d965a"
      },
      "source": [
        "2. Importing Required Libraries:"
      ]
    },
    {
      "cell_type": "markdown",
      "id": "cf69e025",
      "metadata": {
        "id": "cf69e025"
      },
      "source": [
        "Start by importing Python's built-in json library, which provides a simple way to encode and decode JSON data. Also, import pandas for converting JSON data into a DataFrame, which facilitates easier data manipulation and analysis."
      ]
    },
    {
      "cell_type": "code",
      "execution_count": null,
      "id": "88d9a68d",
      "metadata": {
        "id": "88d9a68d"
      },
      "outputs": [],
      "source": [
        "import json\n",
        "import pandas as pd"
      ]
    },
    {
      "cell_type": "markdown",
      "id": "e5ec6f53",
      "metadata": {
        "id": "e5ec6f53"
      },
      "source": [
        "3. Reading and Parsing JSON Data:"
      ]
    },
    {
      "cell_type": "markdown",
      "id": "b038270b",
      "metadata": {
        "id": "b038270b"
      },
      "source": [
        "Assume you have a JSON file named data.json which contains structured data about various entities. Here’s an example of how you might read and parse this data:"
      ]
    },
    {
      "cell_type": "code",
      "execution_count": null,
      "id": "d545ac8a",
      "metadata": {
        "id": "d545ac8a"
      },
      "outputs": [],
      "source": [
        "# Sample JSON data as a string\n",
        "json_data = '''\n",
        "[\n",
        "    {\"name\": \"John Doe\", \"age\": 30, \"city\": \"New York\"},\n",
        "    {\"name\": \"Anna Smith\", \"age\": 25, \"city\": \"Chicago\"},\n",
        "    {\"name\": \"Jack Hill\", \"age\": 20, \"city\": \"San Francisco\"}\n",
        "]\n",
        "'''\n",
        "\n",
        "# Parse JSON data\n",
        "data = json.loads(json_data)\n",
        "\n",
        "# Display the data\n",
        "print(data)"
      ]
    },
    {
      "cell_type": "markdown",
      "id": "6ce5ba96",
      "metadata": {
        "id": "6ce5ba96"
      },
      "source": [
        "4. Converting JSON to DataFrame:"
      ]
    },
    {
      "cell_type": "markdown",
      "id": "4b5805d6",
      "metadata": {
        "id": "4b5805d6"
      },
      "source": [
        "For analysis, it is often useful to convert JSON into a DataFrame. This conversion provides more options for data manipulation using pandas:"
      ]
    },
    {
      "cell_type": "code",
      "execution_count": null,
      "id": "52a1a4fe",
      "metadata": {
        "id": "52a1a4fe"
      },
      "outputs": [],
      "source": [
        "# Convert JSON data to DataFrame\n",
        "df = pd.DataFrame(data)\n",
        "\n",
        "# Display the DataFrame\n",
        "print(df)"
      ]
    },
    {
      "cell_type": "markdown",
      "id": "efe09a13",
      "metadata": {
        "id": "efe09a13"
      },
      "source": [
        "5. Processing JSON Data:"
      ]
    },
    {
      "cell_type": "markdown",
      "id": "a4ed3c9e",
      "metadata": {
        "id": "a4ed3c9e"
      },
      "source": [
        "You can now perform various data processing operations on the DataFrame. For instance, you might want to calculate the average age of the individuals or filter data for a specific city:"
      ]
    },
    {
      "cell_type": "code",
      "execution_count": null,
      "id": "45ca0601",
      "metadata": {
        "id": "45ca0601"
      },
      "outputs": [],
      "source": [
        "# Calculate the average age\n",
        "average_age = df['age'].mean()\n",
        "print(\"Average Age:\", average_age)\n",
        "\n",
        "# Filter data for New York\n",
        "ny_data = df[df['city'] == 'New York']\n",
        "print(\"Data for New York:\\n\", ny_data)"
      ]
    },
    {
      "cell_type": "markdown",
      "id": "c0fd3a05",
      "metadata": {
        "id": "c0fd3a05"
      },
      "source": [
        "6. Handling Complex JSON Structures:"
      ]
    },
    {
      "cell_type": "markdown",
      "id": "c5766753",
      "metadata": {
        "id": "c5766753"
      },
      "source": [
        "JSON data can often be nested or more complex than the simple example shown. Python’s json module can handle nested data by parsing it into nested dictionaries. Here’s a quick demonstration of working with nested JSON:"
      ]
    },
    {
      "cell_type": "code",
      "execution_count": null,
      "id": "6a2b31cb",
      "metadata": {
        "id": "6a2b31cb"
      },
      "outputs": [],
      "source": [
        "# Nested JSON data as a string\n",
        "nested_json_data = '''\n",
        "{\n",
        "    \"company\": \"TechCorp\",\n",
        "    \"employees\": [\n",
        "        {\"name\": \"John Doe\", \"age\": 30, \"department\": \"Human Resources\"},\n",
        "        {\"name\": \"Anna Smith\", \"age\": 25, \"department\": \"Marketing\"},\n",
        "        {\"name\": \"Jack Hill\", \"age\": 20, \"department\": \"Sales\"}\n",
        "    ]\n",
        "}\n",
        "'''\n",
        "\n",
        "# Parse nested JSON data\n",
        "nested_data = json.loads(nested_json_data)\n",
        "\n",
        "# Convert nested data to DataFrame\n",
        "employees_df = pd.DataFrame(nested_data['employees'])\n",
        "\n",
        "# Display the DataFrame\n",
        "print(\"Employees Data:\\n\", employees_df)"
      ]
    },
    {
      "cell_type": "markdown",
      "id": "65d8e81e",
      "metadata": {
        "id": "65d8e81e"
      },
      "source": [
        "7. Conclusion:"
      ]
    },
    {
      "cell_type": "markdown",
      "id": "70102333",
      "metadata": {
        "id": "70102333"
      },
      "source": [
        "This example illustrates the fundamental steps for parsing and processing JSON data in Python, from reading the JSON formatted data, parsing it using Python’s built-in json library, to converting it into a DataFrame for easier manipulation and analysis. Understanding how to work efficiently with JSON data is essential for data scientists, especially given its ubiquity in web and application data exchanges. The ability to quickly parse, convert, and analyse JSON data enables more robust data processing workflows and can be critical for making timely data-driven decisions."
      ]
    }
  ],
  "metadata": {
    "colab": {
      "provenance": [],
      "include_colab_link": true
    }
  },
  "nbformat": 4,
  "nbformat_minor": 5
}