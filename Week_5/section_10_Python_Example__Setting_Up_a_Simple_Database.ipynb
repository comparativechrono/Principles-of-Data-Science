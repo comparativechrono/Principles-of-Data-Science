{
  "cells": [
    {
      "cell_type": "markdown",
      "metadata": {
        "id": "view-in-github",
        "colab_type": "text"
      },
      "source": [
        "<a href=\"https://colab.research.google.com/github/comparativechrono/Principles-of-Data-Science/blob/main/Week_5/section_10_Python_Example__Setting_Up_a_Simple_Database.ipynb\" target=\"_parent\"><img src=\"https://colab.research.google.com/assets/colab-badge.svg\" alt=\"Open In Colab\"/></a>"
      ]
    },
    {
      "cell_type": "markdown",
      "source": [
        "#Section 10 - Python Example: setting up a simple database"
      ],
      "metadata": {
        "id": "bQRbYPs95fYC"
      },
      "id": "bQRbYPs95fYC"
    },
    {
      "cell_type": "markdown",
      "id": "fb503e3c",
      "metadata": {
        "id": "fb503e3c"
      },
      "source": [
        "In data science projects, setting up a simple database can greatly enhance data management, accessibility, and analysis. Databases not only provide robust mechanisms for data storage but also for retrieval, update, and manipulation of data in a structured way. This section demonstrates how to set up a simple relational database using SQLite with Python, showcasing basic operations like creating a database, inserting data, and retrieving data."
      ]
    },
    {
      "cell_type": "markdown",
      "id": "cdd086ae",
      "metadata": {
        "id": "cdd086ae"
      },
      "source": [
        "1. Setting Up the Environment:"
      ]
    },
    {
      "cell_type": "markdown",
      "id": "ccd7d762",
      "metadata": {
        "id": "ccd7d762"
      },
      "source": [
        "To interact with SQLite databases in Python, ensure you have the appropriate library installed. SQLite comes built into Python, but the sqlite3 module may need to be available:"
      ]
    },
    {
      "cell_type": "code",
      "execution_count": null,
      "id": "959e082a",
      "metadata": {
        "id": "959e082a"
      },
      "outputs": [],
      "source": [
        "pip install db-sqlite3"
      ]
    },
    {
      "cell_type": "markdown",
      "id": "690b79a9",
      "metadata": {
        "id": "690b79a9"
      },
      "source": [
        "2. Importing Required Libraries:"
      ]
    },
    {
      "cell_type": "markdown",
      "id": "e3ab85e1",
      "metadata": {
        "id": "e3ab85e1"
      },
      "source": [
        "Import the sqlite3 library, which provides a lightweight disk-based database that doesn’t require a separate server process and allows access to the database using a nonstandard variant of the SQL query language:"
      ]
    },
    {
      "cell_type": "code",
      "execution_count": null,
      "id": "110402d6",
      "metadata": {
        "id": "110402d6"
      },
      "outputs": [],
      "source": [
        "import sqlite3"
      ]
    },
    {
      "cell_type": "markdown",
      "id": "9bba08ae",
      "metadata": {
        "id": "9bba08ae"
      },
      "source": [
        "3. Creating a New SQLite Database:"
      ]
    },
    {
      "cell_type": "markdown",
      "id": "51301d00",
      "metadata": {
        "id": "51301d00"
      },
      "source": [
        "Start by creating a new SQLite database and a table to hold some data:"
      ]
    },
    {
      "cell_type": "code",
      "execution_count": null,
      "id": "c7eb8a3e",
      "metadata": {
        "id": "c7eb8a3e"
      },
      "outputs": [],
      "source": [
        "# Connect to SQLite database (or create it if it doesn't exist)\n",
        "conn = sqlite3.connect('example.db')\n",
        "\n",
        "# Create a cursor object using the cursor() method\n",
        "cursor = conn.cursor()\n",
        "\n",
        "# Create table\n",
        "cursor.execute('''CREATE TABLE IF NOT EXISTS employees\n",
        "              (id INTEGER PRIMARY KEY, name TEXT, age INTEGER, department TEXT)''')\n",
        "\n",
        "# Commit the changes and close the connection\n",
        "conn.commit()\n",
        "conn.close()"
      ]
    },
    {
      "cell_type": "markdown",
      "id": "692cbc20",
      "metadata": {
        "id": "692cbc20"
      },
      "source": [
        "4. Inserting Data:"
      ]
    },
    {
      "cell_type": "markdown",
      "id": "ddfad65e",
      "metadata": {
        "id": "ddfad65e"
      },
      "source": [
        "Insert data into the database. This involves reopening the connection, executing an insert command, and then closing the connection:"
      ]
    },
    {
      "cell_type": "code",
      "execution_count": null,
      "id": "4214d7b8",
      "metadata": {
        "id": "4214d7b8"
      },
      "outputs": [],
      "source": [
        "# Reopen the connection\n",
        "conn = sqlite3.connect('example.db')\n",
        "cursor = conn.cursor()\n",
        "\n",
        "# Inserting data\n",
        "employees = [(1, 'Alice', 30, 'HR'),\n",
        "             (2, 'Bob', 24, 'Marketing'),\n",
        "             (3, 'Charlie', 35, 'IT')]\n",
        "\n",
        "cursor.executemany('INSERT INTO employees VALUES (?,?,?,?)', employees)\n",
        "\n",
        "# Commit and close\n",
        "conn.commit()\n",
        "conn.close()"
      ]
    },
    {
      "cell_type": "markdown",
      "id": "5aa7ed97",
      "metadata": {
        "id": "5aa7ed97"
      },
      "source": [
        "5. Retrieving Data:"
      ]
    },
    {
      "cell_type": "markdown",
      "id": "e92a19a8",
      "metadata": {
        "id": "e92a19a8"
      },
      "source": [
        "Querying the database to retrieve data is a common operation. Here’s how you can fetch and display data from the database:"
      ]
    },
    {
      "cell_type": "code",
      "execution_count": null,
      "id": "20fdefad",
      "metadata": {
        "id": "20fdefad"
      },
      "outputs": [],
      "source": [
        "# Reopen the connection\n",
        "conn = sqlite3.connect('example.db')\n",
        "cursor = conn.cursor()\n",
        "\n",
        "# Query the database\n",
        "cursor.execute('SELECT * FROM employees')\n",
        "\n",
        "# Fetch all rows as a list of tuples\n",
        "results = cursor.fetchall()\n",
        "\n",
        "# Output the results\n",
        "for row in results:\n",
        "    print(row)\n",
        "\n",
        "# Close the connection\n",
        "conn.close()"
      ]
    },
    {
      "cell_type": "markdown",
      "id": "130dec56",
      "metadata": {
        "id": "130dec56"
      },
      "source": [
        "6. Best Practices:"
      ]
    },
    {
      "cell_type": "markdown",
      "id": "cc7af45c",
      "metadata": {
        "id": "cc7af45c"
      },
      "source": [
        "When working with databases in Python, consider the following best practices:"
      ]
    },
    {
      "cell_type": "markdown",
      "id": "0b3c93c9",
      "metadata": {
        "id": "0b3c93c9"
      },
      "source": [
        "Use Context Managers: To ensure that resources are properly managed and the database connection is automatically closed, use context managers (the with statement) when interacting with the database."
      ]
    },
    {
      "cell_type": "code",
      "execution_count": null,
      "id": "5deb8f71",
      "metadata": {
        "id": "5deb8f71"
      },
      "outputs": [],
      "source": [
        "with sqlite3.connect('example.db') as conn:\n",
        "    cursor = conn.cursor()\n",
        "    cursor.execute('SELECT * FROM employees')\n",
        "    print(cursor.fetchall())"
      ]
    },
    {
      "cell_type": "markdown",
      "id": "1d32ac1f",
      "metadata": {
        "id": "1d32ac1f"
      },
      "source": [
        "Parameterized Queries: Avoid SQL injection and ensure more secure queries by using parameterized queries."
      ]
    },
    {
      "cell_type": "code",
      "execution_count": null,
      "id": "bde0fb57",
      "metadata": {
        "id": "bde0fb57"
      },
      "outputs": [],
      "source": [
        "cursor.execute('INSERT INTO employees VALUES (?,?,?,?)', (4, 'David', 29, 'Finance'))"
      ]
    },
    {
      "cell_type": "markdown",
      "id": "d1055e61",
      "metadata": {
        "id": "d1055e61"
      },
      "source": [
        "Error Handling: Use try-except blocks to handle potential errors that could occur during database operations."
      ]
    },
    {
      "cell_type": "markdown",
      "id": "e7cfda30",
      "metadata": {
        "id": "e7cfda30"
      },
      "source": [
        "7. Conclusion:"
      ]
    },
    {
      "cell_type": "markdown",
      "id": "74da0886",
      "metadata": {
        "id": "74da0886"
      },
      "source": [
        "Setting up a simple database with SQLite and Python provides a powerful tool for data scientists to store, manage, and retrieve data efficiently. By following the outlined steps and adhering to best practices, you can implement robust data management solutions in your projects, enhancing the overall quality and accessibility of your data analysis workflows."
      ]
    }
  ],
  "metadata": {
    "colab": {
      "provenance": [],
      "include_colab_link": true
    }
  },
  "nbformat": 4,
  "nbformat_minor": 5
}