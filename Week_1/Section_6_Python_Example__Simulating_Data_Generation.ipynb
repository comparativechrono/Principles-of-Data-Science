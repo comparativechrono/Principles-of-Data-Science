{
  "cells": [
    {
      "cell_type": "markdown",
      "metadata": {
        "id": "view-in-github",
        "colab_type": "text"
      },
      "source": [
        "<a href=\"https://colab.research.google.com/github/comparativechrono/Principles-of-Data-Science/blob/main/Week_1/Section_6_Python_Example__Simulating_Data_Generation.ipynb\" target=\"_parent\"><img src=\"https://colab.research.google.com/assets/colab-badge.svg\" alt=\"Open In Colab\"/></a>"
      ]
    },
    {
      "cell_type": "markdown",
      "id": "ba67c164",
      "metadata": {
        "id": "ba67c164"
      },
      "source": [
        "#Section 6 Python Example: Simulating Data Generation"
      ]
    },
    {
      "cell_type": "markdown",
      "id": "adba383c",
      "metadata": {
        "id": "adba383c"
      },
      "source": [
        "Simulating data generation is a valuable technique in data science, particularly useful for testing hypotheses, validating models, and training machine learning algorithms when real datasets are incomplete, unavailable, or when privacy issues restrict their use. Python offers various tools and libraries, such as NumPy and SciPy, which can be leveraged to create synthetic datasets that closely mimic real-world data characteristics. This section provides a practical example to illustrate how to generate simulated data in Python, covering basic statistical distributions and more complex data structures."
      ]
    },
    {
      "cell_type": "markdown",
      "id": "e8c20620",
      "metadata": {
        "id": "e8c20620"
      },
      "source": [
        "1. Generating Random Data with NumPy:"
      ]
    },
    {
      "cell_type": "markdown",
      "id": "11160be9",
      "metadata": {
        "id": "11160be9"
      },
      "source": [
        "NumPy is a fundamental package for scientific computing in Python. It includes support for a wide range of mathematical operations and has powerful data generation capabilities. Here, we'll use NumPy to generate random data from different statistical distributions:"
      ]
    },
    {
      "cell_type": "code",
      "execution_count": null,
      "id": "b5b986a0",
      "metadata": {
        "id": "b5b986a0"
      },
      "outputs": [],
      "source": [
        "import numpy as np\n",
        "\n",
        "# Set seed for reproducibility\n",
        "np.random.seed(42)\n",
        "\n",
        "# Generate random integers\n",
        "random_integers = np.random.randint(1, 100, size=10)\n",
        "print(\"Random Integers:\", random_integers)\n",
        "\n",
        "# Generate random samples from a normal distribution\n",
        "normal_data = np.random.normal(loc=0, scale=1, size=1000)\n",
        "print(\"Normal Distribution Sample Mean:\", np.mean(normal_data))\n",
        "print(\"Normal Distribution Sample Standard Deviation:\", np.std(normal_data))\n",
        "\n",
        "# Generate random samples from a uniform distribution\n",
        "uniform_data = np.random.uniform(low=0, high=1, size=1000)\n",
        "print(\"Uniform Distribution Sample Mean:\", np.mean(uniform_data))\n",
        "print(\"Uniform Distribution Sample Range:\", (np.min(uniform_data), np.max(uniform_data)))"
      ]
    },
    {
      "cell_type": "markdown",
      "id": "0931d96a",
      "metadata": {
        "id": "0931d96a"
      },
      "source": [
        "2. Simulating a Time Series Data:"
      ]
    },
    {
      "cell_type": "markdown",
      "id": "c622c0ff",
      "metadata": {
        "id": "c622c0ff"
      },
      "source": [
        "Time series data is sequential data indexed in time order, often found in economics, environmental science, or even server log data. Here’s how you might simulate a simple daily temperature dataset using Python:"
      ]
    },
    {
      "cell_type": "code",
      "execution_count": null,
      "id": "cba67a42",
      "metadata": {
        "id": "cba67a42"
      },
      "outputs": [],
      "source": [
        "# Generate a time series of daily temperatures\n",
        "np.random.seed(42)\n",
        "days = 365\n",
        "mean_temperature = 20  # degrees Celsius\n",
        "temperature_variation = 10  # daily variation in temperature\n",
        "\n",
        "daily_temperatures = np.random.normal(loc=mean_temperature, scale=temperature_variation, size=days)\n",
        "dates = pd.date_range(start='2021-01-01', periods=days, freq='D')\n",
        "temperature_series = pd.Series(data=daily_temperatures, index=dates)\n",
        "\n",
        "print(\"Simulated Daily Temperatures for 2021:\")\n",
        "print(temperature_series.head())"
      ]
    },
    {
      "cell_type": "markdown",
      "id": "c0b962cb",
      "metadata": {
        "id": "c0b962cb"
      },
      "source": [
        "3. Creating a Synthetic Classification Dataset with Scikit-learn:"
      ]
    },
    {
      "cell_type": "markdown",
      "id": "0c0c2aed",
      "metadata": {
        "id": "0c0c2aed"
      },
      "source": [
        "For machine learning applications, especially in classification tasks, simulating datasets with specific properties can be very useful. Scikit-learn offers utilities for generating datasets for various machine learning tasks. Here’s how to generate a simple binary classification dataset:"
      ]
    },
    {
      "cell_type": "code",
      "execution_count": null,
      "id": "21760776",
      "metadata": {
        "id": "21760776"
      },
      "outputs": [],
      "source": [
        "from sklearn.datasets import make_classification\n",
        "\n",
        "# Generate a binary classification dataset\n",
        "X, y = make_classification(n_samples=100, n_features=20, n_informative=2, n_redundant=10, n_classes=2, random_state=42)\n",
        "\n",
        "# Convert to DataFrame for better visualization\n",
        "import pandas as pd\n",
        "feature_names = [f\"Feature_{i+1}\" for i in range(X.shape[1])]\n",
        "data = pd.DataFrame(X, columns=feature_names)\n",
        "data['Target'] = y\n",
        "\n",
        "print(\"Synthetic Classification Dataset Preview:\")\n",
        "print(data.head())"
      ]
    },
    {
      "cell_type": "markdown",
      "id": "01566604",
      "metadata": {
        "id": "01566604"
      },
      "source": [
        "These examples demonstrate the flexibility and power of Python for generating synthetic data. Such simulations are essential tools in data science, enabling researchers and analysts to perform robust testing and development of analytical models and methods. Simulated data must be used judiciously, especially in ensuring that it reflects the characteristics of real data closely enough to provide meaningful insights when applied to actual scenarios."
      ]
    },
    {
      "cell_type": "markdown",
      "id": "de907e16",
      "metadata": {
        "id": "de907e16"
      },
      "source": [
        "References:"
      ]
    },
    {
      "cell_type": "markdown",
      "id": "045cc5d5",
      "metadata": {
        "id": "045cc5d5"
      },
      "source": [
        "VanderPlas, J. (2016). Python Data Science Handbook: Essential Tools for Working with Data. O'Reilly Media."
      ]
    },
    {
      "cell_type": "markdown",
      "id": "eef118e8",
      "metadata": {
        "id": "eef118e8"
      },
      "source": [
        "McKinney, W. (2012). Python for Data Analysis: Data Wrangling with Pandas, NumPy, and IPython. O'Reilly Media."
      ]
    },
    {
      "cell_type": "markdown",
      "id": "3a2b899b",
      "metadata": {
        "id": "3a2b899b"
      },
      "source": [
        "Pedregosa, F., et al. (2011). Scikit-learn: Machine Learning in Python, JMLR 12, pp. 2825-2830."
      ]
    }
  ],
  "metadata": {
    "colab": {
      "provenance": [],
      "include_colab_link": true
    }
  },
  "nbformat": 4,
  "nbformat_minor": 5
}