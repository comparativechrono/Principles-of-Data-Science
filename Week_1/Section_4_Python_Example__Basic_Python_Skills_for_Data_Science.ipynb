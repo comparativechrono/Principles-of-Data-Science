{
  "cells": [
    {
      "cell_type": "markdown",
      "metadata": {
        "id": "view-in-github",
        "colab_type": "text"
      },
      "source": [
        "<a href=\"https://colab.research.google.com/github/comparativechrono/Principles-of-Data-Science/blob/main/Week_1/Section_4_Python_Example__Basic_Python_Skills_for_Data_Science.ipynb\" target=\"_parent\"><img src=\"https://colab.research.google.com/assets/colab-badge.svg\" alt=\"Open In Colab\"/></a>"
      ]
    },
    {
      "cell_type": "markdown",
      "id": "89395e46",
      "metadata": {
        "id": "89395e46"
      },
      "source": [
        "# Section 4 Basic Python skills for Data Science\n",
        "\n",
        "To become proficient in data science, it is essential to develop a solid foundation in Python, given its prominence in the field. This section offers a practical introduction to fundamental Python skills through examples that illustrate typical tasks a data scientist might perform. These examples will cover data types, basic operations, control structures, functions, and basic data manipulation using Pandas, setting the groundwork for more advanced data science applications."
      ]
    },
    {
      "cell_type": "markdown",
      "id": "81311764",
      "metadata": {
        "id": "81311764"
      },
      "source": [
        "1. Data Types and Basic Operations:"
      ]
    },
    {
      "cell_type": "markdown",
      "id": "6d3356ca",
      "metadata": {
        "id": "6d3356ca"
      },
      "source": [
        "Python supports various data types that are fundamental to handling data. These include integers, floats, strings, lists, tuples, sets, and dictionaries. Here’s a quick demonstration of these types and some basic arithmetic operations:"
      ]
    },
    {
      "cell_type": "code",
      "execution_count": null,
      "id": "2da2904c",
      "metadata": {
        "id": "2da2904c"
      },
      "outputs": [],
      "source": [
        "# Integer and Float\n",
        "a = 10\n",
        "b = 3.5\n",
        "\n",
        "# String\n",
        "name = \"Data Science\"\n",
        "\n",
        "# List\n",
        "numbers = [1, 2, 3, 4, 5]\n",
        "\n",
        "# Tuple\n",
        "coordinates = (10.0, 20.0)\n",
        "\n",
        "# Set\n",
        "unique_numbers = {1, 2, 3, 3, 4, 5}  # Duplicates will be removed\n",
        "\n",
        "# Dictionary\n",
        "student_grades = {'Alice': 85, 'Bob': 90}\n",
        "\n",
        "# Basic arithmetic operations\n",
        "sum = a + b\n",
        "product = a * b\n",
        "quotient = a / b\n",
        "\n",
        "print(\"Sum:\", sum)\n",
        "print(\"Product:\", product)\n",
        "print(\"Quotient:\", quotient)\n",
        "print(\"Name:\", name)\n",
        "print(\"Numbers List:\", numbers)\n",
        "print(\"Coordinates Tuple:\", coordinates)\n",
        "print(\"Unique Numbers Set:\", unique_numbers)\n",
        "print(\"Student Grades:\", student_grades)"
      ]
    },
    {
      "cell_type": "markdown",
      "id": "082722a0",
      "metadata": {
        "id": "082722a0"
      },
      "source": [
        "2. Control Structures:"
      ]
    },
    {
      "cell_type": "markdown",
      "id": "7f16acc2",
      "metadata": {
        "id": "7f16acc2"
      },
      "source": [
        "Control structures in Python, such as if-else statements and loops, are crucial for writing conditional and repetitive operations, which are common in data processing."
      ]
    },
    {
      "cell_type": "code",
      "execution_count": null,
      "id": "a0c17378",
      "metadata": {
        "id": "a0c17378"
      },
      "outputs": [],
      "source": [
        "# if-else statement\n",
        "if a > b:\n",
        "    print(\"a is greater than b\")\n",
        "else:\n",
        "    print(\"b is greater or equal to a\")\n",
        "\n",
        "# for loop\n",
        "for number in numbers:\n",
        "    print(number)\n",
        "\n",
        "# while loop\n",
        "count = 0\n",
        "while count < len(numbers):\n",
        "    print(numbers[count])\n",
        "    count += 1"
      ]
    },
    {
      "cell_type": "markdown",
      "id": "a61395ab",
      "metadata": {
        "id": "a61395ab"
      },
      "source": [
        "3. Functions:"
      ]
    },
    {
      "cell_type": "markdown",
      "id": "8d616523",
      "metadata": {
        "id": "8d616523"
      },
      "source": [
        "Functions in Python help organize code into reusable blocks. They are particularly useful in data science for tasks such as data cleaning or processing that need to be performed multiple times."
      ]
    },
    {
      "cell_type": "code",
      "execution_count": null,
      "id": "4e7a4b27",
      "metadata": {
        "id": "4e7a4b27"
      },
      "outputs": [],
      "source": [
        "def calculate_mean(numbers):\n",
        "    total_sum = sum(numbers)  # sum is a built-in function\n",
        "    count = len(numbers)\n",
        "    return total_sum / count\n",
        "\n",
        "# Using the function\n",
        "mean_numbers = calculate_mean(numbers)\n",
        "print(\"Mean of numbers:\", mean_numbers)"
      ]
    },
    {
      "cell_type": "markdown",
      "id": "3ffa2db8",
      "metadata": {
        "id": "3ffa2db8"
      },
      "source": [
        "4. Data Manipulation with Pandas:"
      ]
    },
    {
      "cell_type": "markdown",
      "id": "d22ee7b0",
      "metadata": {
        "id": "d22ee7b0"
      },
      "source": [
        "Pandas is an essential library for data science in Python, offering data structures and operations for manipulating numerical tables and time series."
      ]
    },
    {
      "cell_type": "code",
      "execution_count": null,
      "id": "0add10f2",
      "metadata": {
        "id": "0add10f2"
      },
      "outputs": [],
      "source": [
        "import pandas as pd\n",
        "\n",
        "# Creating a DataFrame\n",
        "data = {\n",
        "    'Name': ['Alice', 'Bob', 'Charlie'],\n",
        "    'Age': [25, 30, 35],\n",
        "    'Grade': [88, 92, 95]\n",
        "}\n",
        "df = pd.DataFrame(data)\n",
        "\n",
        "# Basic data operations\n",
        "print(\"Data Frame:\\n\", df)\n",
        "print(\"Descriptive Statistics:\\n\", df.describe())\n",
        "print(\"Data sorted by Age:\\n\", df.sort_values(by='Age'))\n",
        "\n",
        "# Selecting data\n",
        "youngest = df[df['Age'] == df['Age'].min()]\n",
        "print(\"Youngest person:\\n\", youngest)"
      ]
    },
    {
      "cell_type": "markdown",
      "id": "1ce1b6d5",
      "metadata": {
        "id": "1ce1b6d5"
      },
      "source": [
        "These examples encapsulate the basic Python skills essential for data science. Mastering these fundamentals provides the groundwork upon which more complex data analytical tasks can be built, such as data visualization, machine learning, and model evaluation. As these skills are developed, the aspiring data scientist becomes better equipped to tackle the diverse challenges presented by real-world data."
      ]
    },
    {
      "cell_type": "markdown",
      "id": "d45c980b",
      "metadata": {
        "id": "d45c980b"
      },
      "source": [
        "References:"
      ]
    },
    {
      "cell_type": "markdown",
      "id": "719d03a4",
      "metadata": {
        "id": "719d03a4"
      },
      "source": [
        "McKinney, W. (2012). Python for Data Analysis: Data Wrangling with Pandas, NumPy, and IPython. O'Reilly Media."
      ]
    },
    {
      "cell_type": "markdown",
      "id": "85678a28",
      "metadata": {
        "id": "85678a28"
      },
      "source": [
        "VanderPlas, J. (2016). Python Data Science Handbook: Essential Tools for Working with Data. O'Reilly Media."
      ]
    },
    {
      "cell_type": "markdown",
      "id": "54091f50",
      "metadata": {
        "id": "54091f50"
      },
      "source": [
        "Lutz, M. (2013). Learning Python (5th ed.). O'Reilly Media."
      ]
    }
  ],
  "metadata": {
    "colab": {
      "provenance": [],
      "include_colab_link": true
    }
  },
  "nbformat": 4,
  "nbformat_minor": 5
}