{
  "cells": [
    {
      "cell_type": "markdown",
      "metadata": {
        "id": "view-in-github",
        "colab_type": "text"
      },
      "source": [
        "<a href=\"https://colab.research.google.com/github/comparativechrono/Principles-of-Data-Science/blob/main/Week_3/Section_2_Python_Example__Building_a_Decision_Tree.ipynb\" target=\"_parent\"><img src=\"https://colab.research.google.com/assets/colab-badge.svg\" alt=\"Open In Colab\"/></a>"
      ]
    },
    {
      "cell_type": "markdown",
      "source": [
        "#Section 2 - Building a decision tree with python"
      ],
      "metadata": {
        "id": "eFkrzQdaXfWB"
      },
      "id": "eFkrzQdaXfWB"
    },
    {
      "cell_type": "markdown",
      "id": "3659ee86",
      "metadata": {
        "id": "3659ee86"
      },
      "source": [
        "Decision trees are a popular choice for classification because of their intuitiveness and simplicity. These models use a tree-like model of decisions and their possible consequences, including chance event outcomes, resource costs, and utility. In this section we will build a decision tree classifier using Python's scikit-learn library, one of the most popular machine learning libraries. We will work with a dataset to predict customer churn based on various customer features."
      ]
    },
    {
      "cell_type": "markdown",
      "id": "833783f4",
      "metadata": {
        "id": "833783f4"
      },
      "source": [
        "1. Setting Up the Environment:"
      ]
    },
    {
      "cell_type": "markdown",
      "id": "e79d3c0a",
      "metadata": {
        "id": "e79d3c0a"
      },
      "source": [
        "To follow along, ensure you have Python installed with the scikit-learn package. If you haven’t installed scikit-learn, you can do so using pip:"
      ]
    },
    {
      "cell_type": "code",
      "execution_count": null,
      "id": "0ac25f0c",
      "metadata": {
        "id": "0ac25f0c"
      },
      "outputs": [],
      "source": [
        "pip install scikit-learn numpy pandas matplotlib"
      ]
    },
    {
      "cell_type": "markdown",
      "id": "c54d96e2",
      "metadata": {
        "id": "c54d96e2"
      },
      "source": [
        "2. Importing Required Libraries:"
      ]
    },
    {
      "cell_type": "markdown",
      "id": "bf99aa9b",
      "metadata": {
        "id": "bf99aa9b"
      },
      "source": [
        "Start by importing necessary libraries. We’ll use Pandas for data manipulation, scikit-learn for building the decision tree, and Matplotlib for visualizing the tree."
      ]
    },
    {
      "cell_type": "code",
      "execution_count": null,
      "id": "963a3eb6",
      "metadata": {
        "id": "963a3eb6"
      },
      "outputs": [],
      "source": [
        "import pandas as pd\n",
        "from sklearn.model_selection import train_test_split\n",
        "from sklearn.tree import DecisionTreeClassifier, plot_tree\n",
        "import matplotlib.pyplot as plt"
      ]
    },
    {
      "cell_type": "markdown",
      "id": "8ae8db1a",
      "metadata": {
        "id": "8ae8db1a"
      },
      "source": [
        "3. Preparing the Data:"
      ]
    },
    {
      "cell_type": "markdown",
      "id": "959e8773",
      "metadata": {
        "id": "959e8773"
      },
      "source": [
        "Let's assume we have a CSV file named customer_data.csv that contains customer churn data. The features include age, income, and account length, and the target variable is churn (yes or no)."
      ]
    },
    {
      "cell_type": "code",
      "execution_count": null,
      "id": "db1175e7",
      "metadata": {
        "id": "db1175e7"
      },
      "outputs": [],
      "source": [
        "# Load the dataset\n",
        "data = pd.read_csv('customer_data.csv')\n",
        "\n",
        "# Display the first few rows of the dataframe\n",
        "print(data.head())\n",
        "\n",
        "# Define the features and the target\n",
        "X = data[['Age', 'Income', 'Account Length']]\n",
        "y = data['Churn']  # the target variable\n",
        "\n",
        "# Split the data into training and testing sets\n",
        "X_train, X_test, y_train, y_test = train_test_split(X, y, test_size=0.2, random_state=42)"
      ]
    },
    {
      "cell_type": "markdown",
      "id": "ebc273bb",
      "metadata": {
        "id": "ebc273bb"
      },
      "source": [
        "4. Building the Decision Tree Model:"
      ]
    },
    {
      "cell_type": "markdown",
      "id": "c0c2526f",
      "metadata": {
        "id": "c0c2526f"
      },
      "source": [
        "We will use scikit-learn to create and train a decision tree classifier."
      ]
    },
    {
      "cell_type": "code",
      "execution_count": null,
      "id": "a69927df",
      "metadata": {
        "id": "a69927df"
      },
      "outputs": [],
      "source": [
        "# Create a decision tree classifier model\n",
        "classifier = DecisionTreeClassifier(max_depth=3, random_state=42)\n",
        "\n",
        "# Fit the model on the training data\n",
        "classifier.fit(X_train, y_train)"
      ]
    },
    {
      "cell_type": "markdown",
      "id": "af4dea27",
      "metadata": {
        "id": "af4dea27"
      },
      "source": [
        "5. Visualizing the Decision Tree:"
      ]
    },
    {
      "cell_type": "markdown",
      "id": "071ec817",
      "metadata": {
        "id": "071ec817"
      },
      "source": [
        "After training the model, visualize the decision tree to understand how it makes decisions:"
      ]
    },
    {
      "cell_type": "code",
      "execution_count": null,
      "id": "82bba649",
      "metadata": {
        "id": "82bba649"
      },
      "outputs": [],
      "source": [
        "# Plot the decision tree\n",
        "plt.figure(figsize=(12, 8))\n",
        "plot_tree(classifier, filled=True, feature_names=['Age', 'Income', 'Account Length'], class_names=['No Churn', 'Churn'])\n",
        "plt.title('Decision Tree for Customer Churn')\n",
        "plt.show()"
      ]
    },
    {
      "cell_type": "markdown",
      "id": "a6cc8dc7",
      "metadata": {
        "id": "a6cc8dc7"
      },
      "source": [
        "6. Evaluating the Model:"
      ]
    },
    {
      "cell_type": "markdown",
      "id": "7cdefc2e",
      "metadata": {
        "id": "7cdefc2e"
      },
      "source": [
        "Evaluate the model’s performance using the test set. We'll calculate the accuracy as a simple metric."
      ]
    },
    {
      "cell_type": "code",
      "execution_count": null,
      "id": "4f15e42b",
      "metadata": {
        "id": "4f15e42b"
      },
      "outputs": [],
      "source": [
        "from sklearn.metrics import accuracy_score\n",
        "\n",
        "# Predict on the test set\n",
        "y_pred = classifier.predict(X_test)\n",
        "\n",
        "# Calculate accuracy\n",
        "accuracy = accuracy_score(y_test, y_pred)\n",
        "print(f\"Model accuracy: {accuracy:.2f}\")"
      ]
    },
    {
      "cell_type": "markdown",
      "id": "7190d6e3",
      "metadata": {
        "id": "7190d6e3"
      },
      "source": [
        "7. Conclusion:"
      ]
    },
    {
      "cell_type": "markdown",
      "id": "be63d4dd",
      "metadata": {
        "id": "be63d4dd"
      },
      "source": [
        "This example has demonstrated how to build and visualize a decision tree classifier using scikit-learn in Python. Decision trees are a valuable tool for classification due to their ability to clearly show how decisions are made, making them especially useful in applications where interpretability is important. While they are simple and effective, they can be prone to overfitting, especially with very complex trees. Therefore, it’s often useful to prune the tree or limit its depth, as we did in this example, to prevent overfitting and to enhance model generalization."
      ]
    },
    {
      "cell_type": "markdown",
      "id": "88477821",
      "metadata": {
        "id": "88477821"
      },
      "source": [
        "By integrating decision tree classifiers into your data science workflow, you can efficiently tackle a wide range of classification problems with a model that stakeholders can easily understand and trust."
      ]
    }
  ],
  "metadata": {
    "colab": {
      "provenance": [],
      "include_colab_link": true
    },
    "language_info": {
      "name": "python"
    },
    "kernelspec": {
      "name": "python3",
      "display_name": "Python 3"
    }
  },
  "nbformat": 4,
  "nbformat_minor": 5
}